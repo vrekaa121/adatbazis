{
    "metadata": {
        "kernelspec": {
            "name": "SQL",
            "display_name": "SQL",
            "language": "sql"
        },
        "language_info": {
            "name": "sql",
            "version": ""
        }
    },
    "nbformat_minor": 2,
    "nbformat": 4,
    "cells": [
        {
            "cell_type": "code",
            "source": [
                ""
            ],
            "metadata": {
                "azdata_cell_guid": "8bde7ad8-c92d-4913-8208-1d5b462e7eb0",
                "language": "sql"
            },
            "outputs": [],
            "execution_count": null
        }
    ]
}