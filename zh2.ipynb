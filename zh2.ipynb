{
    "metadata": {
        "kernelspec": {
            "name": "SQL",
            "display_name": "SQL",
            "language": "sql"
        },
        "language_info": {
            "name": "sql",
            "version": ""
        }
    },
    "nbformat_minor": 2,
    "nbformat": 4,
    "cells": [
        {
            "cell_type": "markdown",
            "source": [
                "Listázzuk a foglalások számát szobánként, azon belül a foglalás éve szerint csoportosítva!\n",
                "\n",
                "- Az évnél a Mettől oszlopot használjuk\n",
                "- Jelenítsük meg a részösszegeket és a végösszeget is úgy, hogy ne jelenjen meg minden Oszlop/NULL kombináció!\n",
                "- A részösszegeket jelöljük megfelelően, pl. Részösszeg vagy Szoba összesen"
            ],
            "metadata": {
                "azdata_cell_guid": "9d648335-be67-40f5-b885-b782a4989098"
            },
            "attachments": {}
        },
        {
            "cell_type": "code",
            "source": [
                "SELECT IIF(GROUPING(SZOBA_FK)=1,'Összesen', \r\n",
                "        CAST(SZOBA_FK AS nvarchar(10)))\r\n",
                "        AS 'Szoba',\r\n",
                "        (CASE GROUPING_ID(SZOBA_FK, YEAR(METTOL))\r\n",
                "            WHEN 0 THEN CAST(YEAR(METTOL) AS nvarchar(4))\r\n",
                "            WHEN 1 THEN 'Részösszeg'\r\n",
                "            WHEN 3 THEN 'Végösszeg'\r\n",
                "        END\r\n",
                "        ) AS 'Év',\r\n",
                "        COUNT(*) AS 'DB'\r\n",
                "FROM Foglalas\r\n",
                "GROUP BY ROLLUP(SZOBA_FK, YEAR(METTOL))"
            ],
            "metadata": {
                "azdata_cell_guid": "8bde7ad8-c92d-4913-8208-1d5b462e7eb0",
                "language": "sql"
            },
            "outputs": [
                {
                    "output_type": "display_data",
                    "data": {
                        "text/html": "(513 rows affected)"
                    },
                    "metadata": {}
                },
                {
                    "output_type": "display_data",
                    "data": {
                        "text/html": "Total execution time: 00:00:00.033"
                    },
                    "metadata": {}
                },
                {
                    "output_type": "execute_result",
                    "metadata": {},
                    "execution_count": 12,
                    "data": {
                        "application/vnd.dataresource+json": {
                            "schema": {
                                "fields": [
                                    {
                                        "name": "Szoba"
                                    },
                                    {
                                        "name": "Év"
                                    },
                                    {
                                        "name": "DB"
                                    }
                                ]
                            },
                            "data": [
                                {
                                    "Szoba": "1",
                                    "Év": "2016",
                                    "DB": "8"
                                },
                                {
                                    "Szoba": "1",
                                    "Év": "Részösszeg",
                                    "DB": "8"
                                },
                                {
                                    "Szoba": "2",
                                    "Év": "2016",
                                    "DB": "4"
                                },
                                {
                                    "Szoba": "2",
                                    "Év": "Részösszeg",
                                    "DB": "4"
                                },
                                {
                                    "Szoba": "3",
                                    "Év": "2016",
                                    "DB": "6"
                                },
                                {
                                    "Szoba": "3",
                                    "Év": "2017",
                                    "DB": "2"
                                },
                                {
                                    "Szoba": "3",
                                    "Év": "Részösszeg",
                                    "DB": "8"
                                },
                                {
                                    "Szoba": "4",
                                    "Év": "2016",
                                    "DB": "5"
                                },
                                {
                                    "Szoba": "4",
                                    "Év": "2017",
                                    "DB": "1"
                                },
                                {
                                    "Szoba": "4",
                                    "Év": "Részösszeg",
                                    "DB": "6"
                                },
                                {
                                    "Szoba": "5",
                                    "Év": "2016",
                                    "DB": "4"
                                },
                                {
                                    "Szoba": "5",
                                    "Év": "Részösszeg",
                                    "DB": "4"
                                },
                                {
                                    "Szoba": "6",
                                    "Év": "2016",
                                    "DB": "6"
                                },
                                {
                                    "Szoba": "6",
                                    "Év": "Részösszeg",
                                    "DB": "6"
                                },
                                {
                                    "Szoba": "7",
                                    "Év": "2016",
                                    "DB": "6"
                                },
                                {
                                    "Szoba": "7",
                                    "Év": "Részösszeg",
                                    "DB": "6"
                                },
                                {
                                    "Szoba": "8",
                                    "Év": "2016",
                                    "DB": "5"
                                },
                                {
                                    "Szoba": "8",
                                    "Év": "Részösszeg",
                                    "DB": "5"
                                },
                                {
                                    "Szoba": "9",
                                    "Év": "2016",
                                    "DB": "4"
                                },
                                {
                                    "Szoba": "9",
                                    "Év": "2017",
                                    "DB": "2"
                                },
                                {
                                    "Szoba": "9",
                                    "Év": "Részösszeg",
                                    "DB": "6"
                                },
                                {
                                    "Szoba": "10",
                                    "Év": "2016",
                                    "DB": "4"
                                },
                                {
                                    "Szoba": "10",
                                    "Év": "Részösszeg",
                                    "DB": "4"
                                },
                                {
                                    "Szoba": "11",
                                    "Év": "2016",
                                    "DB": "3"
                                },
                                {
                                    "Szoba": "11",
                                    "Év": "2017",
                                    "DB": "1"
                                },
                                {
                                    "Szoba": "11",
                                    "Év": "Részösszeg",
                                    "DB": "4"
                                },
                                {
                                    "Szoba": "12",
                                    "Év": "2016",
                                    "DB": "8"
                                },
                                {
                                    "Szoba": "12",
                                    "Év": "2017",
                                    "DB": "1"
                                },
                                {
                                    "Szoba": "12",
                                    "Év": "Részösszeg",
                                    "DB": "9"
                                },
                                {
                                    "Szoba": "13",
                                    "Év": "2016",
                                    "DB": "3"
                                },
                                {
                                    "Szoba": "13",
                                    "Év": "2017",
                                    "DB": "1"
                                },
                                {
                                    "Szoba": "13",
                                    "Év": "Részösszeg",
                                    "DB": "4"
                                },
                                {
                                    "Szoba": "14",
                                    "Év": "2016",
                                    "DB": "2"
                                },
                                {
                                    "Szoba": "14",
                                    "Év": "2017",
                                    "DB": "1"
                                },
                                {
                                    "Szoba": "14",
                                    "Év": "Részösszeg",
                                    "DB": "3"
                                },
                                {
                                    "Szoba": "15",
                                    "Év": "2016",
                                    "DB": "4"
                                },
                                {
                                    "Szoba": "15",
                                    "Év": "2017",
                                    "DB": "2"
                                },
                                {
                                    "Szoba": "15",
                                    "Év": "Részösszeg",
                                    "DB": "6"
                                },
                                {
                                    "Szoba": "16",
                                    "Év": "2016",
                                    "DB": "4"
                                },
                                {
                                    "Szoba": "16",
                                    "Év": "2017",
                                    "DB": "1"
                                },
                                {
                                    "Szoba": "16",
                                    "Év": "Részösszeg",
                                    "DB": "5"
                                },
                                {
                                    "Szoba": "17",
                                    "Év": "2016",
                                    "DB": "5"
                                },
                                {
                                    "Szoba": "17",
                                    "Év": "2017",
                                    "DB": "1"
                                },
                                {
                                    "Szoba": "17",
                                    "Év": "Részösszeg",
                                    "DB": "6"
                                },
                                {
                                    "Szoba": "18",
                                    "Év": "2016",
                                    "DB": "5"
                                },
                                {
                                    "Szoba": "18",
                                    "Év": "2017",
                                    "DB": "1"
                                },
                                {
                                    "Szoba": "18",
                                    "Év": "Részösszeg",
                                    "DB": "6"
                                },
                                {
                                    "Szoba": "19",
                                    "Év": "2016",
                                    "DB": "5"
                                },
                                {
                                    "Szoba": "19",
                                    "Év": "2017",
                                    "DB": "1"
                                },
                                {
                                    "Szoba": "19",
                                    "Év": "Részösszeg",
                                    "DB": "6"
                                },
                                {
                                    "Szoba": "20",
                                    "Év": "2016",
                                    "DB": "5"
                                },
                                {
                                    "Szoba": "20",
                                    "Év": "Részösszeg",
                                    "DB": "5"
                                },
                                {
                                    "Szoba": "21",
                                    "Év": "2016",
                                    "DB": "4"
                                },
                                {
                                    "Szoba": "21",
                                    "Év": "Részösszeg",
                                    "DB": "4"
                                },
                                {
                                    "Szoba": "22",
                                    "Év": "2016",
                                    "DB": "6"
                                },
                                {
                                    "Szoba": "22",
                                    "Év": "Részösszeg",
                                    "DB": "6"
                                },
                                {
                                    "Szoba": "23",
                                    "Év": "2016",
                                    "DB": "3"
                                },
                                {
                                    "Szoba": "23",
                                    "Év": "Részösszeg",
                                    "DB": "3"
                                },
                                {
                                    "Szoba": "24",
                                    "Év": "2016",
                                    "DB": "2"
                                },
                                {
                                    "Szoba": "24",
                                    "Év": "2017",
                                    "DB": "1"
                                },
                                {
                                    "Szoba": "24",
                                    "Év": "Részösszeg",
                                    "DB": "3"
                                },
                                {
                                    "Szoba": "25",
                                    "Év": "2016",
                                    "DB": "2"
                                },
                                {
                                    "Szoba": "25",
                                    "Év": "Részösszeg",
                                    "DB": "2"
                                },
                                {
                                    "Szoba": "26",
                                    "Év": "2016",
                                    "DB": "2"
                                },
                                {
                                    "Szoba": "26",
                                    "Év": "Részösszeg",
                                    "DB": "2"
                                },
                                {
                                    "Szoba": "27",
                                    "Év": "2016",
                                    "DB": "6"
                                },
                                {
                                    "Szoba": "27",
                                    "Év": "2017",
                                    "DB": "1"
                                },
                                {
                                    "Szoba": "27",
                                    "Év": "Részösszeg",
                                    "DB": "7"
                                },
                                {
                                    "Szoba": "28",
                                    "Év": "2016",
                                    "DB": "5"
                                },
                                {
                                    "Szoba": "28",
                                    "Év": "2017",
                                    "DB": "1"
                                },
                                {
                                    "Szoba": "28",
                                    "Év": "Részösszeg",
                                    "DB": "6"
                                },
                                {
                                    "Szoba": "29",
                                    "Év": "2016",
                                    "DB": "5"
                                },
                                {
                                    "Szoba": "29",
                                    "Év": "2017",
                                    "DB": "1"
                                },
                                {
                                    "Szoba": "29",
                                    "Év": "Részösszeg",
                                    "DB": "6"
                                },
                                {
                                    "Szoba": "30",
                                    "Év": "2016",
                                    "DB": "3"
                                },
                                {
                                    "Szoba": "30",
                                    "Év": "Részösszeg",
                                    "DB": "3"
                                },
                                {
                                    "Szoba": "31",
                                    "Év": "2016",
                                    "DB": "3"
                                },
                                {
                                    "Szoba": "31",
                                    "Év": "Részösszeg",
                                    "DB": "3"
                                },
                                {
                                    "Szoba": "32",
                                    "Év": "2016",
                                    "DB": "1"
                                },
                                {
                                    "Szoba": "32",
                                    "Év": "Részösszeg",
                                    "DB": "1"
                                },
                                {
                                    "Szoba": "33",
                                    "Év": "2016",
                                    "DB": "6"
                                },
                                {
                                    "Szoba": "33",
                                    "Év": "Részösszeg",
                                    "DB": "6"
                                },
                                {
                                    "Szoba": "34",
                                    "Év": "2016",
                                    "DB": "4"
                                },
                                {
                                    "Szoba": "34",
                                    "Év": "Részösszeg",
                                    "DB": "4"
                                },
                                {
                                    "Szoba": "35",
                                    "Év": "2016",
                                    "DB": "6"
                                },
                                {
                                    "Szoba": "35",
                                    "Év": "2017",
                                    "DB": "3"
                                },
                                {
                                    "Szoba": "35",
                                    "Év": "Részösszeg",
                                    "DB": "9"
                                },
                                {
                                    "Szoba": "36",
                                    "Év": "2016",
                                    "DB": "6"
                                },
                                {
                                    "Szoba": "36",
                                    "Év": "Részösszeg",
                                    "DB": "6"
                                },
                                {
                                    "Szoba": "37",
                                    "Év": "2016",
                                    "DB": "3"
                                },
                                {
                                    "Szoba": "37",
                                    "Év": "Részösszeg",
                                    "DB": "3"
                                },
                                {
                                    "Szoba": "38",
                                    "Év": "2016",
                                    "DB": "5"
                                },
                                {
                                    "Szoba": "38",
                                    "Év": "2017",
                                    "DB": "3"
                                },
                                {
                                    "Szoba": "38",
                                    "Év": "Részösszeg",
                                    "DB": "8"
                                },
                                {
                                    "Szoba": "39",
                                    "Év": "2016",
                                    "DB": "4"
                                },
                                {
                                    "Szoba": "39",
                                    "Év": "2017",
                                    "DB": "3"
                                },
                                {
                                    "Szoba": "39",
                                    "Év": "Részösszeg",
                                    "DB": "7"
                                },
                                {
                                    "Szoba": "40",
                                    "Év": "2016",
                                    "DB": "4"
                                },
                                {
                                    "Szoba": "40",
                                    "Év": "Részösszeg",
                                    "DB": "4"
                                },
                                {
                                    "Szoba": "41",
                                    "Év": "2016",
                                    "DB": "2"
                                },
                                {
                                    "Szoba": "41",
                                    "Év": "Részösszeg",
                                    "DB": "2"
                                },
                                {
                                    "Szoba": "42",
                                    "Év": "2016",
                                    "DB": "5"
                                },
                                {
                                    "Szoba": "42",
                                    "Év": "2017",
                                    "DB": "1"
                                },
                                {
                                    "Szoba": "42",
                                    "Év": "Részösszeg",
                                    "DB": "6"
                                },
                                {
                                    "Szoba": "43",
                                    "Év": "2016",
                                    "DB": "6"
                                },
                                {
                                    "Szoba": "43",
                                    "Év": "2017",
                                    "DB": "2"
                                },
                                {
                                    "Szoba": "43",
                                    "Év": "Részösszeg",
                                    "DB": "8"
                                },
                                {
                                    "Szoba": "44",
                                    "Év": "2016",
                                    "DB": "4"
                                },
                                {
                                    "Szoba": "44",
                                    "Év": "2017",
                                    "DB": "2"
                                },
                                {
                                    "Szoba": "44",
                                    "Év": "Részösszeg",
                                    "DB": "6"
                                },
                                {
                                    "Szoba": "45",
                                    "Év": "2016",
                                    "DB": "5"
                                },
                                {
                                    "Szoba": "45",
                                    "Év": "Részösszeg",
                                    "DB": "5"
                                },
                                {
                                    "Szoba": "46",
                                    "Év": "2016",
                                    "DB": "3"
                                },
                                {
                                    "Szoba": "46",
                                    "Év": "2017",
                                    "DB": "1"
                                },
                                {
                                    "Szoba": "46",
                                    "Év": "Részösszeg",
                                    "DB": "4"
                                },
                                {
                                    "Szoba": "47",
                                    "Év": "2016",
                                    "DB": "2"
                                },
                                {
                                    "Szoba": "47",
                                    "Év": "Részösszeg",
                                    "DB": "2"
                                },
                                {
                                    "Szoba": "48",
                                    "Év": "2016",
                                    "DB": "6"
                                },
                                {
                                    "Szoba": "48",
                                    "Év": "2017",
                                    "DB": "3"
                                },
                                {
                                    "Szoba": "48",
                                    "Év": "Részösszeg",
                                    "DB": "9"
                                },
                                {
                                    "Szoba": "49",
                                    "Év": "2016",
                                    "DB": "6"
                                },
                                {
                                    "Szoba": "49",
                                    "Év": "2017",
                                    "DB": "1"
                                },
                                {
                                    "Szoba": "49",
                                    "Év": "Részösszeg",
                                    "DB": "7"
                                },
                                {
                                    "Szoba": "50",
                                    "Év": "2016",
                                    "DB": "4"
                                },
                                {
                                    "Szoba": "50",
                                    "Év": "Részösszeg",
                                    "DB": "4"
                                },
                                {
                                    "Szoba": "51",
                                    "Év": "2016",
                                    "DB": "3"
                                },
                                {
                                    "Szoba": "51",
                                    "Év": "2017",
                                    "DB": "2"
                                },
                                {
                                    "Szoba": "51",
                                    "Év": "Részösszeg",
                                    "DB": "5"
                                },
                                {
                                    "Szoba": "52",
                                    "Év": "2016",
                                    "DB": "3"
                                },
                                {
                                    "Szoba": "52",
                                    "Év": "2017",
                                    "DB": "2"
                                },
                                {
                                    "Szoba": "52",
                                    "Év": "Részösszeg",
                                    "DB": "5"
                                },
                                {
                                    "Szoba": "53",
                                    "Év": "2016",
                                    "DB": "2"
                                },
                                {
                                    "Szoba": "53",
                                    "Év": "Részösszeg",
                                    "DB": "2"
                                },
                                {
                                    "Szoba": "54",
                                    "Év": "2016",
                                    "DB": "6"
                                },
                                {
                                    "Szoba": "54",
                                    "Év": "Részösszeg",
                                    "DB": "6"
                                },
                                {
                                    "Szoba": "55",
                                    "Év": "2016",
                                    "DB": "6"
                                },
                                {
                                    "Szoba": "55",
                                    "Év": "2017",
                                    "DB": "2"
                                },
                                {
                                    "Szoba": "55",
                                    "Év": "Részösszeg",
                                    "DB": "8"
                                },
                                {
                                    "Szoba": "56",
                                    "Év": "2016",
                                    "DB": "2"
                                },
                                {
                                    "Szoba": "56",
                                    "Év": "Részösszeg",
                                    "DB": "2"
                                },
                                {
                                    "Szoba": "57",
                                    "Év": "2016",
                                    "DB": "2"
                                },
                                {
                                    "Szoba": "57",
                                    "Év": "2017",
                                    "DB": "2"
                                },
                                {
                                    "Szoba": "57",
                                    "Év": "Részösszeg",
                                    "DB": "4"
                                },
                                {
                                    "Szoba": "58",
                                    "Év": "2016",
                                    "DB": "12"
                                },
                                {
                                    "Szoba": "58",
                                    "Év": "2017",
                                    "DB": "1"
                                },
                                {
                                    "Szoba": "58",
                                    "Év": "Részösszeg",
                                    "DB": "13"
                                },
                                {
                                    "Szoba": "59",
                                    "Év": "2016",
                                    "DB": "6"
                                },
                                {
                                    "Szoba": "59",
                                    "Év": "2017",
                                    "DB": "1"
                                },
                                {
                                    "Szoba": "59",
                                    "Év": "Részösszeg",
                                    "DB": "7"
                                },
                                {
                                    "Szoba": "60",
                                    "Év": "2016",
                                    "DB": "1"
                                },
                                {
                                    "Szoba": "60",
                                    "Év": "Részösszeg",
                                    "DB": "1"
                                },
                                {
                                    "Szoba": "61",
                                    "Év": "2016",
                                    "DB": "4"
                                },
                                {
                                    "Szoba": "61",
                                    "Év": "2017",
                                    "DB": "1"
                                },
                                {
                                    "Szoba": "61",
                                    "Év": "Részösszeg",
                                    "DB": "5"
                                },
                                {
                                    "Szoba": "62",
                                    "Év": "2016",
                                    "DB": "4"
                                },
                                {
                                    "Szoba": "62",
                                    "Év": "2017",
                                    "DB": "1"
                                },
                                {
                                    "Szoba": "62",
                                    "Év": "Részösszeg",
                                    "DB": "5"
                                },
                                {
                                    "Szoba": "63",
                                    "Év": "2016",
                                    "DB": "4"
                                },
                                {
                                    "Szoba": "63",
                                    "Év": "Részösszeg",
                                    "DB": "4"
                                },
                                {
                                    "Szoba": "64",
                                    "Év": "2016",
                                    "DB": "3"
                                },
                                {
                                    "Szoba": "64",
                                    "Év": "2017",
                                    "DB": "3"
                                },
                                {
                                    "Szoba": "64",
                                    "Év": "Részösszeg",
                                    "DB": "6"
                                },
                                {
                                    "Szoba": "65",
                                    "Év": "2016",
                                    "DB": "1"
                                },
                                {
                                    "Szoba": "65",
                                    "Év": "Részösszeg",
                                    "DB": "1"
                                },
                                {
                                    "Szoba": "66",
                                    "Év": "2016",
                                    "DB": "4"
                                },
                                {
                                    "Szoba": "66",
                                    "Év": "Részösszeg",
                                    "DB": "4"
                                },
                                {
                                    "Szoba": "67",
                                    "Év": "2016",
                                    "DB": "4"
                                },
                                {
                                    "Szoba": "67",
                                    "Év": "2017",
                                    "DB": "2"
                                },
                                {
                                    "Szoba": "67",
                                    "Év": "Részösszeg",
                                    "DB": "6"
                                },
                                {
                                    "Szoba": "68",
                                    "Év": "2016",
                                    "DB": "3"
                                },
                                {
                                    "Szoba": "68",
                                    "Év": "Részösszeg",
                                    "DB": "3"
                                },
                                {
                                    "Szoba": "69",
                                    "Év": "2016",
                                    "DB": "4"
                                },
                                {
                                    "Szoba": "69",
                                    "Év": "Részösszeg",
                                    "DB": "4"
                                },
                                {
                                    "Szoba": "70",
                                    "Év": "2016",
                                    "DB": "10"
                                },
                                {
                                    "Szoba": "70",
                                    "Év": "2017",
                                    "DB": "1"
                                },
                                {
                                    "Szoba": "70",
                                    "Év": "Részösszeg",
                                    "DB": "11"
                                },
                                {
                                    "Szoba": "71",
                                    "Év": "2016",
                                    "DB": "3"
                                },
                                {
                                    "Szoba": "71",
                                    "Év": "Részösszeg",
                                    "DB": "3"
                                },
                                {
                                    "Szoba": "72",
                                    "Év": "2016",
                                    "DB": "4"
                                },
                                {
                                    "Szoba": "72",
                                    "Év": "Részösszeg",
                                    "DB": "4"
                                },
                                {
                                    "Szoba": "73",
                                    "Év": "2016",
                                    "DB": "4"
                                },
                                {
                                    "Szoba": "73",
                                    "Év": "Részösszeg",
                                    "DB": "4"
                                },
                                {
                                    "Szoba": "74",
                                    "Év": "2016",
                                    "DB": "9"
                                },
                                {
                                    "Szoba": "74",
                                    "Év": "Részösszeg",
                                    "DB": "9"
                                },
                                {
                                    "Szoba": "75",
                                    "Év": "2016",
                                    "DB": "1"
                                },
                                {
                                    "Szoba": "75",
                                    "Év": "2017",
                                    "DB": "2"
                                },
                                {
                                    "Szoba": "75",
                                    "Év": "Részösszeg",
                                    "DB": "3"
                                },
                                {
                                    "Szoba": "76",
                                    "Év": "2016",
                                    "DB": "2"
                                },
                                {
                                    "Szoba": "76",
                                    "Év": "2017",
                                    "DB": "1"
                                },
                                {
                                    "Szoba": "76",
                                    "Év": "Részösszeg",
                                    "DB": "3"
                                },
                                {
                                    "Szoba": "77",
                                    "Év": "2016",
                                    "DB": "4"
                                },
                                {
                                    "Szoba": "77",
                                    "Év": "2017",
                                    "DB": "2"
                                },
                                {
                                    "Szoba": "77",
                                    "Év": "Részösszeg",
                                    "DB": "6"
                                },
                                {
                                    "Szoba": "78",
                                    "Év": "2016",
                                    "DB": "5"
                                },
                                {
                                    "Szoba": "78",
                                    "Év": "2017",
                                    "DB": "1"
                                },
                                {
                                    "Szoba": "78",
                                    "Év": "Részösszeg",
                                    "DB": "6"
                                },
                                {
                                    "Szoba": "79",
                                    "Év": "2016",
                                    "DB": "4"
                                },
                                {
                                    "Szoba": "79",
                                    "Év": "2017",
                                    "DB": "1"
                                },
                                {
                                    "Szoba": "79",
                                    "Év": "Részösszeg",
                                    "DB": "5"
                                },
                                {
                                    "Szoba": "80",
                                    "Év": "2016",
                                    "DB": "7"
                                },
                                {
                                    "Szoba": "80",
                                    "Év": "Részösszeg",
                                    "DB": "7"
                                },
                                {
                                    "Szoba": "81",
                                    "Év": "2016",
                                    "DB": "1"
                                },
                                {
                                    "Szoba": "81",
                                    "Év": "2017",
                                    "DB": "4"
                                },
                                {
                                    "Szoba": "81",
                                    "Év": "Részösszeg",
                                    "DB": "5"
                                },
                                {
                                    "Szoba": "82",
                                    "Év": "2016",
                                    "DB": "6"
                                },
                                {
                                    "Szoba": "82",
                                    "Év": "Részösszeg",
                                    "DB": "6"
                                },
                                {
                                    "Szoba": "83",
                                    "Év": "2016",
                                    "DB": "8"
                                },
                                {
                                    "Szoba": "83",
                                    "Év": "Részösszeg",
                                    "DB": "8"
                                },
                                {
                                    "Szoba": "84",
                                    "Év": "2016",
                                    "DB": "4"
                                },
                                {
                                    "Szoba": "84",
                                    "Év": "Részösszeg",
                                    "DB": "4"
                                },
                                {
                                    "Szoba": "85",
                                    "Év": "2016",
                                    "DB": "3"
                                },
                                {
                                    "Szoba": "85",
                                    "Év": "2017",
                                    "DB": "1"
                                },
                                {
                                    "Szoba": "85",
                                    "Év": "Részösszeg",
                                    "DB": "4"
                                },
                                {
                                    "Szoba": "86",
                                    "Év": "2016",
                                    "DB": "4"
                                },
                                {
                                    "Szoba": "86",
                                    "Év": "2017",
                                    "DB": "1"
                                },
                                {
                                    "Szoba": "86",
                                    "Év": "Részösszeg",
                                    "DB": "5"
                                },
                                {
                                    "Szoba": "87",
                                    "Év": "2016",
                                    "DB": "4"
                                },
                                {
                                    "Szoba": "87",
                                    "Év": "2017",
                                    "DB": "1"
                                },
                                {
                                    "Szoba": "87",
                                    "Év": "Részösszeg",
                                    "DB": "5"
                                },
                                {
                                    "Szoba": "88",
                                    "Év": "2016",
                                    "DB": "6"
                                },
                                {
                                    "Szoba": "88",
                                    "Év": "2017",
                                    "DB": "2"
                                },
                                {
                                    "Szoba": "88",
                                    "Év": "Részösszeg",
                                    "DB": "8"
                                },
                                {
                                    "Szoba": "89",
                                    "Év": "2016",
                                    "DB": "7"
                                },
                                {
                                    "Szoba": "89",
                                    "Év": "2017",
                                    "DB": "1"
                                },
                                {
                                    "Szoba": "89",
                                    "Év": "Részösszeg",
                                    "DB": "8"
                                },
                                {
                                    "Szoba": "90",
                                    "Év": "2016",
                                    "DB": "4"
                                },
                                {
                                    "Szoba": "90",
                                    "Év": "Részösszeg",
                                    "DB": "4"
                                },
                                {
                                    "Szoba": "91",
                                    "Év": "2016",
                                    "DB": "4"
                                },
                                {
                                    "Szoba": "91",
                                    "Év": "Részösszeg",
                                    "DB": "4"
                                },
                                {
                                    "Szoba": "92",
                                    "Év": "2016",
                                    "DB": "4"
                                },
                                {
                                    "Szoba": "92",
                                    "Év": "2017",
                                    "DB": "2"
                                },
                                {
                                    "Szoba": "92",
                                    "Év": "Részösszeg",
                                    "DB": "6"
                                },
                                {
                                    "Szoba": "93",
                                    "Év": "2016",
                                    "DB": "5"
                                },
                                {
                                    "Szoba": "93",
                                    "Év": "Részösszeg",
                                    "DB": "5"
                                },
                                {
                                    "Szoba": "94",
                                    "Év": "2016",
                                    "DB": "8"
                                },
                                {
                                    "Szoba": "94",
                                    "Év": "2017",
                                    "DB": "2"
                                },
                                {
                                    "Szoba": "94",
                                    "Év": "Részösszeg",
                                    "DB": "10"
                                },
                                {
                                    "Szoba": "95",
                                    "Év": "2016",
                                    "DB": "3"
                                },
                                {
                                    "Szoba": "95",
                                    "Év": "2017",
                                    "DB": "1"
                                },
                                {
                                    "Szoba": "95",
                                    "Év": "Részösszeg",
                                    "DB": "4"
                                },
                                {
                                    "Szoba": "96",
                                    "Év": "2016",
                                    "DB": "5"
                                },
                                {
                                    "Szoba": "96",
                                    "Év": "2017",
                                    "DB": "2"
                                },
                                {
                                    "Szoba": "96",
                                    "Év": "Részösszeg",
                                    "DB": "7"
                                },
                                {
                                    "Szoba": "97",
                                    "Év": "2016",
                                    "DB": "5"
                                },
                                {
                                    "Szoba": "97",
                                    "Év": "2017",
                                    "DB": "2"
                                },
                                {
                                    "Szoba": "97",
                                    "Év": "Részösszeg",
                                    "DB": "7"
                                },
                                {
                                    "Szoba": "98",
                                    "Év": "2016",
                                    "DB": "4"
                                },
                                {
                                    "Szoba": "98",
                                    "Év": "Részösszeg",
                                    "DB": "4"
                                },
                                {
                                    "Szoba": "99",
                                    "Év": "2016",
                                    "DB": "4"
                                },
                                {
                                    "Szoba": "99",
                                    "Év": "2017",
                                    "DB": "1"
                                },
                                {
                                    "Szoba": "99",
                                    "Év": "Részösszeg",
                                    "DB": "5"
                                },
                                {
                                    "Szoba": "100",
                                    "Év": "2016",
                                    "DB": "3"
                                },
                                {
                                    "Szoba": "100",
                                    "Év": "2017",
                                    "DB": "1"
                                },
                                {
                                    "Szoba": "100",
                                    "Év": "Részösszeg",
                                    "DB": "4"
                                },
                                {
                                    "Szoba": "101",
                                    "Év": "2016",
                                    "DB": "2"
                                },
                                {
                                    "Szoba": "101",
                                    "Év": "2017",
                                    "DB": "1"
                                },
                                {
                                    "Szoba": "101",
                                    "Év": "Részösszeg",
                                    "DB": "3"
                                },
                                {
                                    "Szoba": "102",
                                    "Év": "2016",
                                    "DB": "2"
                                },
                                {
                                    "Szoba": "102",
                                    "Év": "Részösszeg",
                                    "DB": "2"
                                },
                                {
                                    "Szoba": "103",
                                    "Év": "2016",
                                    "DB": "3"
                                },
                                {
                                    "Szoba": "103",
                                    "Év": "2017",
                                    "DB": "1"
                                },
                                {
                                    "Szoba": "103",
                                    "Év": "Részösszeg",
                                    "DB": "4"
                                },
                                {
                                    "Szoba": "104",
                                    "Év": "2016",
                                    "DB": "2"
                                },
                                {
                                    "Szoba": "104",
                                    "Év": "2017",
                                    "DB": "2"
                                },
                                {
                                    "Szoba": "104",
                                    "Év": "Részösszeg",
                                    "DB": "4"
                                },
                                {
                                    "Szoba": "105",
                                    "Év": "2016",
                                    "DB": "1"
                                },
                                {
                                    "Szoba": "105",
                                    "Év": "2017",
                                    "DB": "1"
                                },
                                {
                                    "Szoba": "105",
                                    "Év": "Részösszeg",
                                    "DB": "2"
                                },
                                {
                                    "Szoba": "106",
                                    "Év": "2016",
                                    "DB": "5"
                                },
                                {
                                    "Szoba": "106",
                                    "Év": "2017",
                                    "DB": "1"
                                },
                                {
                                    "Szoba": "106",
                                    "Év": "Részösszeg",
                                    "DB": "6"
                                },
                                {
                                    "Szoba": "107",
                                    "Év": "2016",
                                    "DB": "3"
                                },
                                {
                                    "Szoba": "107",
                                    "Év": "2017",
                                    "DB": "2"
                                },
                                {
                                    "Szoba": "107",
                                    "Év": "Részösszeg",
                                    "DB": "5"
                                },
                                {
                                    "Szoba": "108",
                                    "Év": "2016",
                                    "DB": "2"
                                },
                                {
                                    "Szoba": "108",
                                    "Év": "Részösszeg",
                                    "DB": "2"
                                },
                                {
                                    "Szoba": "109",
                                    "Év": "2016",
                                    "DB": "6"
                                },
                                {
                                    "Szoba": "109",
                                    "Év": "2017",
                                    "DB": "1"
                                },
                                {
                                    "Szoba": "109",
                                    "Év": "Részösszeg",
                                    "DB": "7"
                                },
                                {
                                    "Szoba": "110",
                                    "Év": "2016",
                                    "DB": "6"
                                },
                                {
                                    "Szoba": "110",
                                    "Év": "2017",
                                    "DB": "2"
                                },
                                {
                                    "Szoba": "110",
                                    "Év": "Részösszeg",
                                    "DB": "8"
                                },
                                {
                                    "Szoba": "111",
                                    "Év": "2016",
                                    "DB": "5"
                                },
                                {
                                    "Szoba": "111",
                                    "Év": "Részösszeg",
                                    "DB": "5"
                                },
                                {
                                    "Szoba": "112",
                                    "Év": "2016",
                                    "DB": "4"
                                },
                                {
                                    "Szoba": "112",
                                    "Év": "2017",
                                    "DB": "1"
                                },
                                {
                                    "Szoba": "112",
                                    "Év": "Részösszeg",
                                    "DB": "5"
                                },
                                {
                                    "Szoba": "113",
                                    "Év": "2016",
                                    "DB": "3"
                                },
                                {
                                    "Szoba": "113",
                                    "Év": "2017",
                                    "DB": "2"
                                },
                                {
                                    "Szoba": "113",
                                    "Év": "Részösszeg",
                                    "DB": "5"
                                },
                                {
                                    "Szoba": "114",
                                    "Év": "2016",
                                    "DB": "3"
                                },
                                {
                                    "Szoba": "114",
                                    "Év": "2017",
                                    "DB": "1"
                                },
                                {
                                    "Szoba": "114",
                                    "Év": "Részösszeg",
                                    "DB": "4"
                                },
                                {
                                    "Szoba": "115",
                                    "Év": "2016",
                                    "DB": "5"
                                },
                                {
                                    "Szoba": "115",
                                    "Év": "2017",
                                    "DB": "2"
                                },
                                {
                                    "Szoba": "115",
                                    "Év": "Részösszeg",
                                    "DB": "7"
                                },
                                {
                                    "Szoba": "116",
                                    "Év": "2017",
                                    "DB": "2"
                                },
                                {
                                    "Szoba": "116",
                                    "Év": "Részösszeg",
                                    "DB": "2"
                                },
                                {
                                    "Szoba": "117",
                                    "Év": "2016",
                                    "DB": "7"
                                },
                                {
                                    "Szoba": "117",
                                    "Év": "2017",
                                    "DB": "1"
                                },
                                {
                                    "Szoba": "117",
                                    "Év": "Részösszeg",
                                    "DB": "8"
                                },
                                {
                                    "Szoba": "118",
                                    "Év": "2016",
                                    "DB": "5"
                                },
                                {
                                    "Szoba": "118",
                                    "Év": "2017",
                                    "DB": "2"
                                },
                                {
                                    "Szoba": "118",
                                    "Év": "Részösszeg",
                                    "DB": "7"
                                },
                                {
                                    "Szoba": "119",
                                    "Év": "2016",
                                    "DB": "3"
                                },
                                {
                                    "Szoba": "119",
                                    "Év": "2017",
                                    "DB": "2"
                                },
                                {
                                    "Szoba": "119",
                                    "Év": "Részösszeg",
                                    "DB": "5"
                                },
                                {
                                    "Szoba": "120",
                                    "Év": "2016",
                                    "DB": "4"
                                },
                                {
                                    "Szoba": "120",
                                    "Év": "2017",
                                    "DB": "2"
                                },
                                {
                                    "Szoba": "120",
                                    "Év": "Részösszeg",
                                    "DB": "6"
                                },
                                {
                                    "Szoba": "121",
                                    "Év": "2016",
                                    "DB": "8"
                                },
                                {
                                    "Szoba": "121",
                                    "Év": "Részösszeg",
                                    "DB": "8"
                                },
                                {
                                    "Szoba": "122",
                                    "Év": "2016",
                                    "DB": "8"
                                },
                                {
                                    "Szoba": "122",
                                    "Év": "2017",
                                    "DB": "1"
                                },
                                {
                                    "Szoba": "122",
                                    "Év": "Részösszeg",
                                    "DB": "9"
                                },
                                {
                                    "Szoba": "123",
                                    "Év": "2016",
                                    "DB": "5"
                                },
                                {
                                    "Szoba": "123",
                                    "Év": "Részösszeg",
                                    "DB": "5"
                                },
                                {
                                    "Szoba": "124",
                                    "Év": "2016",
                                    "DB": "4"
                                },
                                {
                                    "Szoba": "124",
                                    "Év": "2017",
                                    "DB": "2"
                                },
                                {
                                    "Szoba": "124",
                                    "Év": "Részösszeg",
                                    "DB": "6"
                                },
                                {
                                    "Szoba": "125",
                                    "Év": "2016",
                                    "DB": "1"
                                },
                                {
                                    "Szoba": "125",
                                    "Év": "Részösszeg",
                                    "DB": "1"
                                },
                                {
                                    "Szoba": "126",
                                    "Év": "2016",
                                    "DB": "4"
                                },
                                {
                                    "Szoba": "126",
                                    "Év": "2017",
                                    "DB": "2"
                                },
                                {
                                    "Szoba": "126",
                                    "Év": "Részösszeg",
                                    "DB": "6"
                                },
                                {
                                    "Szoba": "127",
                                    "Év": "2016",
                                    "DB": "6"
                                },
                                {
                                    "Szoba": "127",
                                    "Év": "2017",
                                    "DB": "1"
                                },
                                {
                                    "Szoba": "127",
                                    "Év": "Részösszeg",
                                    "DB": "7"
                                },
                                {
                                    "Szoba": "128",
                                    "Év": "2016",
                                    "DB": "3"
                                },
                                {
                                    "Szoba": "128",
                                    "Év": "2017",
                                    "DB": "2"
                                },
                                {
                                    "Szoba": "128",
                                    "Év": "Részösszeg",
                                    "DB": "5"
                                },
                                {
                                    "Szoba": "129",
                                    "Év": "2016",
                                    "DB": "2"
                                },
                                {
                                    "Szoba": "129",
                                    "Év": "2017",
                                    "DB": "2"
                                },
                                {
                                    "Szoba": "129",
                                    "Év": "Részösszeg",
                                    "DB": "4"
                                },
                                {
                                    "Szoba": "130",
                                    "Év": "2016",
                                    "DB": "5"
                                },
                                {
                                    "Szoba": "130",
                                    "Év": "2017",
                                    "DB": "1"
                                },
                                {
                                    "Szoba": "130",
                                    "Év": "Részösszeg",
                                    "DB": "6"
                                },
                                {
                                    "Szoba": "131",
                                    "Év": "2016",
                                    "DB": "4"
                                },
                                {
                                    "Szoba": "131",
                                    "Év": "2017",
                                    "DB": "1"
                                },
                                {
                                    "Szoba": "131",
                                    "Év": "Részösszeg",
                                    "DB": "5"
                                },
                                {
                                    "Szoba": "132",
                                    "Év": "2016",
                                    "DB": "5"
                                },
                                {
                                    "Szoba": "132",
                                    "Év": "2017",
                                    "DB": "1"
                                },
                                {
                                    "Szoba": "132",
                                    "Év": "Részösszeg",
                                    "DB": "6"
                                },
                                {
                                    "Szoba": "133",
                                    "Év": "2016",
                                    "DB": "5"
                                },
                                {
                                    "Szoba": "133",
                                    "Év": "2017",
                                    "DB": "1"
                                },
                                {
                                    "Szoba": "133",
                                    "Év": "Részösszeg",
                                    "DB": "6"
                                },
                                {
                                    "Szoba": "134",
                                    "Év": "2016",
                                    "DB": "5"
                                },
                                {
                                    "Szoba": "134",
                                    "Év": "2017",
                                    "DB": "1"
                                },
                                {
                                    "Szoba": "134",
                                    "Év": "Részösszeg",
                                    "DB": "6"
                                },
                                {
                                    "Szoba": "135",
                                    "Év": "2016",
                                    "DB": "3"
                                },
                                {
                                    "Szoba": "135",
                                    "Év": "Részösszeg",
                                    "DB": "3"
                                },
                                {
                                    "Szoba": "136",
                                    "Év": "2016",
                                    "DB": "3"
                                },
                                {
                                    "Szoba": "136",
                                    "Év": "Részösszeg",
                                    "DB": "3"
                                },
                                {
                                    "Szoba": "137",
                                    "Év": "2016",
                                    "DB": "6"
                                },
                                {
                                    "Szoba": "137",
                                    "Év": "Részösszeg",
                                    "DB": "6"
                                },
                                {
                                    "Szoba": "138",
                                    "Év": "2016",
                                    "DB": "7"
                                },
                                {
                                    "Szoba": "138",
                                    "Év": "Részösszeg",
                                    "DB": "7"
                                },
                                {
                                    "Szoba": "139",
                                    "Év": "2016",
                                    "DB": "5"
                                },
                                {
                                    "Szoba": "139",
                                    "Év": "2017",
                                    "DB": "2"
                                },
                                {
                                    "Szoba": "139",
                                    "Év": "Részösszeg",
                                    "DB": "7"
                                },
                                {
                                    "Szoba": "140",
                                    "Év": "2016",
                                    "DB": "8"
                                },
                                {
                                    "Szoba": "140",
                                    "Év": "Részösszeg",
                                    "DB": "8"
                                },
                                {
                                    "Szoba": "141",
                                    "Év": "2016",
                                    "DB": "6"
                                },
                                {
                                    "Szoba": "141",
                                    "Év": "Részösszeg",
                                    "DB": "6"
                                },
                                {
                                    "Szoba": "142",
                                    "Év": "2016",
                                    "DB": "1"
                                },
                                {
                                    "Szoba": "142",
                                    "Év": "2017",
                                    "DB": "1"
                                },
                                {
                                    "Szoba": "142",
                                    "Év": "Részösszeg",
                                    "DB": "2"
                                },
                                {
                                    "Szoba": "143",
                                    "Év": "2016",
                                    "DB": "6"
                                },
                                {
                                    "Szoba": "143",
                                    "Év": "2017",
                                    "DB": "1"
                                },
                                {
                                    "Szoba": "143",
                                    "Év": "Részösszeg",
                                    "DB": "7"
                                },
                                {
                                    "Szoba": "144",
                                    "Év": "2016",
                                    "DB": "4"
                                },
                                {
                                    "Szoba": "144",
                                    "Év": "2017",
                                    "DB": "1"
                                },
                                {
                                    "Szoba": "144",
                                    "Év": "Részösszeg",
                                    "DB": "5"
                                },
                                {
                                    "Szoba": "145",
                                    "Év": "2016",
                                    "DB": "5"
                                },
                                {
                                    "Szoba": "145",
                                    "Év": "2017",
                                    "DB": "1"
                                },
                                {
                                    "Szoba": "145",
                                    "Év": "Részösszeg",
                                    "DB": "6"
                                },
                                {
                                    "Szoba": "146",
                                    "Év": "2016",
                                    "DB": "5"
                                },
                                {
                                    "Szoba": "146",
                                    "Év": "2017",
                                    "DB": "1"
                                },
                                {
                                    "Szoba": "146",
                                    "Év": "Részösszeg",
                                    "DB": "6"
                                },
                                {
                                    "Szoba": "147",
                                    "Év": "2016",
                                    "DB": "1"
                                },
                                {
                                    "Szoba": "147",
                                    "Év": "Részösszeg",
                                    "DB": "1"
                                },
                                {
                                    "Szoba": "148",
                                    "Év": "2016",
                                    "DB": "5"
                                },
                                {
                                    "Szoba": "148",
                                    "Év": "2017",
                                    "DB": "1"
                                },
                                {
                                    "Szoba": "148",
                                    "Év": "Részösszeg",
                                    "DB": "6"
                                },
                                {
                                    "Szoba": "149",
                                    "Év": "2016",
                                    "DB": "6"
                                },
                                {
                                    "Szoba": "149",
                                    "Év": "2017",
                                    "DB": "1"
                                },
                                {
                                    "Szoba": "149",
                                    "Év": "Részösszeg",
                                    "DB": "7"
                                },
                                {
                                    "Szoba": "150",
                                    "Év": "2016",
                                    "DB": "5"
                                },
                                {
                                    "Szoba": "150",
                                    "Év": "2017",
                                    "DB": "1"
                                },
                                {
                                    "Szoba": "150",
                                    "Év": "Részösszeg",
                                    "DB": "6"
                                },
                                {
                                    "Szoba": "151",
                                    "Év": "2016",
                                    "DB": "3"
                                },
                                {
                                    "Szoba": "151",
                                    "Év": "Részösszeg",
                                    "DB": "3"
                                },
                                {
                                    "Szoba": "152",
                                    "Év": "2016",
                                    "DB": "3"
                                },
                                {
                                    "Szoba": "152",
                                    "Év": "2017",
                                    "DB": "1"
                                },
                                {
                                    "Szoba": "152",
                                    "Év": "Részösszeg",
                                    "DB": "4"
                                },
                                {
                                    "Szoba": "153",
                                    "Év": "2016",
                                    "DB": "2"
                                },
                                {
                                    "Szoba": "153",
                                    "Év": "2017",
                                    "DB": "3"
                                },
                                {
                                    "Szoba": "153",
                                    "Év": "Részösszeg",
                                    "DB": "5"
                                },
                                {
                                    "Szoba": "154",
                                    "Év": "2016",
                                    "DB": "4"
                                },
                                {
                                    "Szoba": "154",
                                    "Év": "2017",
                                    "DB": "1"
                                },
                                {
                                    "Szoba": "154",
                                    "Év": "Részösszeg",
                                    "DB": "5"
                                },
                                {
                                    "Szoba": "155",
                                    "Év": "2016",
                                    "DB": "4"
                                },
                                {
                                    "Szoba": "155",
                                    "Év": "2017",
                                    "DB": "1"
                                },
                                {
                                    "Szoba": "155",
                                    "Év": "Részösszeg",
                                    "DB": "5"
                                },
                                {
                                    "Szoba": "156",
                                    "Év": "2016",
                                    "DB": "4"
                                },
                                {
                                    "Szoba": "156",
                                    "Év": "2017",
                                    "DB": "3"
                                },
                                {
                                    "Szoba": "156",
                                    "Év": "Részösszeg",
                                    "DB": "7"
                                },
                                {
                                    "Szoba": "157",
                                    "Év": "2016",
                                    "DB": "4"
                                },
                                {
                                    "Szoba": "157",
                                    "Év": "2017",
                                    "DB": "1"
                                },
                                {
                                    "Szoba": "157",
                                    "Év": "Részösszeg",
                                    "DB": "5"
                                },
                                {
                                    "Szoba": "158",
                                    "Év": "2016",
                                    "DB": "3"
                                },
                                {
                                    "Szoba": "158",
                                    "Év": "Részösszeg",
                                    "DB": "3"
                                },
                                {
                                    "Szoba": "160",
                                    "Év": "2016",
                                    "DB": "4"
                                },
                                {
                                    "Szoba": "160",
                                    "Év": "2017",
                                    "DB": "1"
                                },
                                {
                                    "Szoba": "160",
                                    "Év": "Részösszeg",
                                    "DB": "5"
                                },
                                {
                                    "Szoba": "161",
                                    "Év": "2016",
                                    "DB": "5"
                                },
                                {
                                    "Szoba": "161",
                                    "Év": "2017",
                                    "DB": "1"
                                },
                                {
                                    "Szoba": "161",
                                    "Év": "Részösszeg",
                                    "DB": "6"
                                },
                                {
                                    "Szoba": "162",
                                    "Év": "2016",
                                    "DB": "3"
                                },
                                {
                                    "Szoba": "162",
                                    "Év": "Részösszeg",
                                    "DB": "3"
                                },
                                {
                                    "Szoba": "163",
                                    "Év": "2016",
                                    "DB": "6"
                                },
                                {
                                    "Szoba": "163",
                                    "Év": "2017",
                                    "DB": "1"
                                },
                                {
                                    "Szoba": "163",
                                    "Év": "Részösszeg",
                                    "DB": "7"
                                },
                                {
                                    "Szoba": "164",
                                    "Év": "2016",
                                    "DB": "5"
                                },
                                {
                                    "Szoba": "164",
                                    "Év": "Részösszeg",
                                    "DB": "5"
                                },
                                {
                                    "Szoba": "165",
                                    "Év": "2016",
                                    "DB": "7"
                                },
                                {
                                    "Szoba": "165",
                                    "Év": "Részösszeg",
                                    "DB": "7"
                                },
                                {
                                    "Szoba": "166",
                                    "Év": "2016",
                                    "DB": "2"
                                },
                                {
                                    "Szoba": "166",
                                    "Év": "2017",
                                    "DB": "1"
                                },
                                {
                                    "Szoba": "166",
                                    "Év": "Részösszeg",
                                    "DB": "3"
                                },
                                {
                                    "Szoba": "167",
                                    "Év": "2016",
                                    "DB": "1"
                                },
                                {
                                    "Szoba": "167",
                                    "Év": "2017",
                                    "DB": "1"
                                },
                                {
                                    "Szoba": "167",
                                    "Év": "Részösszeg",
                                    "DB": "2"
                                },
                                {
                                    "Szoba": "168",
                                    "Év": "2016",
                                    "DB": "5"
                                },
                                {
                                    "Szoba": "168",
                                    "Év": "Részösszeg",
                                    "DB": "5"
                                },
                                {
                                    "Szoba": "169",
                                    "Év": "2016",
                                    "DB": "5"
                                },
                                {
                                    "Szoba": "169",
                                    "Év": "2017",
                                    "DB": "1"
                                },
                                {
                                    "Szoba": "169",
                                    "Év": "Részösszeg",
                                    "DB": "6"
                                },
                                {
                                    "Szoba": "170",
                                    "Év": "2016",
                                    "DB": "5"
                                },
                                {
                                    "Szoba": "170",
                                    "Év": "Részösszeg",
                                    "DB": "5"
                                },
                                {
                                    "Szoba": "171",
                                    "Év": "2016",
                                    "DB": "4"
                                },
                                {
                                    "Szoba": "171",
                                    "Év": "2017",
                                    "DB": "1"
                                },
                                {
                                    "Szoba": "171",
                                    "Év": "Részösszeg",
                                    "DB": "5"
                                },
                                {
                                    "Szoba": "172",
                                    "Év": "2016",
                                    "DB": "7"
                                },
                                {
                                    "Szoba": "172",
                                    "Év": "2017",
                                    "DB": "2"
                                },
                                {
                                    "Szoba": "172",
                                    "Év": "Részösszeg",
                                    "DB": "9"
                                },
                                {
                                    "Szoba": "173",
                                    "Év": "2016",
                                    "DB": "3"
                                },
                                {
                                    "Szoba": "173",
                                    "Év": "2017",
                                    "DB": "1"
                                },
                                {
                                    "Szoba": "173",
                                    "Év": "Részösszeg",
                                    "DB": "4"
                                },
                                {
                                    "Szoba": "174",
                                    "Év": "2016",
                                    "DB": "4"
                                },
                                {
                                    "Szoba": "174",
                                    "Év": "Részösszeg",
                                    "DB": "4"
                                },
                                {
                                    "Szoba": "175",
                                    "Év": "2016",
                                    "DB": "5"
                                },
                                {
                                    "Szoba": "175",
                                    "Év": "Részösszeg",
                                    "DB": "5"
                                },
                                {
                                    "Szoba": "176",
                                    "Év": "2016",
                                    "DB": "4"
                                },
                                {
                                    "Szoba": "176",
                                    "Év": "2017",
                                    "DB": "2"
                                },
                                {
                                    "Szoba": "176",
                                    "Év": "Részösszeg",
                                    "DB": "6"
                                },
                                {
                                    "Szoba": "177",
                                    "Év": "2016",
                                    "DB": "3"
                                },
                                {
                                    "Szoba": "177",
                                    "Év": "2017",
                                    "DB": "1"
                                },
                                {
                                    "Szoba": "177",
                                    "Év": "Részösszeg",
                                    "DB": "4"
                                },
                                {
                                    "Szoba": "178",
                                    "Év": "2016",
                                    "DB": "4"
                                },
                                {
                                    "Szoba": "178",
                                    "Év": "Részösszeg",
                                    "DB": "4"
                                },
                                {
                                    "Szoba": "179",
                                    "Év": "2016",
                                    "DB": "2"
                                },
                                {
                                    "Szoba": "179",
                                    "Év": "2017",
                                    "DB": "1"
                                },
                                {
                                    "Szoba": "179",
                                    "Év": "Részösszeg",
                                    "DB": "3"
                                },
                                {
                                    "Szoba": "180",
                                    "Év": "2016",
                                    "DB": "1"
                                },
                                {
                                    "Szoba": "180",
                                    "Év": "2017",
                                    "DB": "2"
                                },
                                {
                                    "Szoba": "180",
                                    "Év": "Részösszeg",
                                    "DB": "3"
                                },
                                {
                                    "Szoba": "181",
                                    "Év": "2016",
                                    "DB": "6"
                                },
                                {
                                    "Szoba": "181",
                                    "Év": "Részösszeg",
                                    "DB": "6"
                                },
                                {
                                    "Szoba": "182",
                                    "Év": "2016",
                                    "DB": "10"
                                },
                                {
                                    "Szoba": "182",
                                    "Év": "2017",
                                    "DB": "2"
                                },
                                {
                                    "Szoba": "182",
                                    "Év": "Részösszeg",
                                    "DB": "12"
                                },
                                {
                                    "Szoba": "183",
                                    "Év": "2016",
                                    "DB": "3"
                                },
                                {
                                    "Szoba": "183",
                                    "Év": "2017",
                                    "DB": "1"
                                },
                                {
                                    "Szoba": "183",
                                    "Év": "Részösszeg",
                                    "DB": "4"
                                },
                                {
                                    "Szoba": "184",
                                    "Év": "2016",
                                    "DB": "4"
                                },
                                {
                                    "Szoba": "184",
                                    "Év": "Részösszeg",
                                    "DB": "4"
                                },
                                {
                                    "Szoba": "185",
                                    "Év": "2016",
                                    "DB": "10"
                                },
                                {
                                    "Szoba": "185",
                                    "Év": "2017",
                                    "DB": "2"
                                },
                                {
                                    "Szoba": "185",
                                    "Év": "Részösszeg",
                                    "DB": "12"
                                },
                                {
                                    "Szoba": "186",
                                    "Év": "2016",
                                    "DB": "3"
                                },
                                {
                                    "Szoba": "186",
                                    "Év": "2017",
                                    "DB": "1"
                                },
                                {
                                    "Szoba": "186",
                                    "Év": "Részösszeg",
                                    "DB": "4"
                                },
                                {
                                    "Szoba": "187",
                                    "Év": "2016",
                                    "DB": "7"
                                },
                                {
                                    "Szoba": "187",
                                    "Év": "Részösszeg",
                                    "DB": "7"
                                },
                                {
                                    "Szoba": "188",
                                    "Év": "2016",
                                    "DB": "6"
                                },
                                {
                                    "Szoba": "188",
                                    "Év": "Részösszeg",
                                    "DB": "6"
                                },
                                {
                                    "Szoba": "189",
                                    "Év": "2016",
                                    "DB": "3"
                                },
                                {
                                    "Szoba": "189",
                                    "Év": "2017",
                                    "DB": "2"
                                },
                                {
                                    "Szoba": "189",
                                    "Év": "Részösszeg",
                                    "DB": "5"
                                },
                                {
                                    "Szoba": "190",
                                    "Év": "2016",
                                    "DB": "4"
                                },
                                {
                                    "Szoba": "190",
                                    "Év": "2017",
                                    "DB": "1"
                                },
                                {
                                    "Szoba": "190",
                                    "Év": "Részösszeg",
                                    "DB": "5"
                                },
                                {
                                    "Szoba": "191",
                                    "Év": "2016",
                                    "DB": "3"
                                },
                                {
                                    "Szoba": "191",
                                    "Év": "2017",
                                    "DB": "2"
                                },
                                {
                                    "Szoba": "191",
                                    "Év": "Részösszeg",
                                    "DB": "5"
                                },
                                {
                                    "Szoba": "192",
                                    "Év": "2016",
                                    "DB": "2"
                                },
                                {
                                    "Szoba": "192",
                                    "Év": "Részösszeg",
                                    "DB": "2"
                                },
                                {
                                    "Szoba": "193",
                                    "Év": "2016",
                                    "DB": "7"
                                },
                                {
                                    "Szoba": "193",
                                    "Év": "Részösszeg",
                                    "DB": "7"
                                },
                                {
                                    "Szoba": "194",
                                    "Év": "2016",
                                    "DB": "1"
                                },
                                {
                                    "Szoba": "194",
                                    "Év": "Részösszeg",
                                    "DB": "1"
                                },
                                {
                                    "Szoba": "195",
                                    "Év": "2016",
                                    "DB": "4"
                                },
                                {
                                    "Szoba": "195",
                                    "Év": "2017",
                                    "DB": "2"
                                },
                                {
                                    "Szoba": "195",
                                    "Év": "Részösszeg",
                                    "DB": "6"
                                },
                                {
                                    "Szoba": "196",
                                    "Év": "2016",
                                    "DB": "4"
                                },
                                {
                                    "Szoba": "196",
                                    "Év": "Részösszeg",
                                    "DB": "4"
                                },
                                {
                                    "Szoba": "197",
                                    "Év": "2016",
                                    "DB": "6"
                                },
                                {
                                    "Szoba": "197",
                                    "Év": "Részösszeg",
                                    "DB": "6"
                                },
                                {
                                    "Szoba": "198",
                                    "Év": "2016",
                                    "DB": "7"
                                },
                                {
                                    "Szoba": "198",
                                    "Év": "2017",
                                    "DB": "1"
                                },
                                {
                                    "Szoba": "198",
                                    "Év": "Részösszeg",
                                    "DB": "8"
                                },
                                {
                                    "Szoba": "Összesen",
                                    "Év": "Végösszeg",
                                    "DB": "1027"
                                }
                            ]
                        },
                        "text/html": [
                            "<table>",
                            "<tr><th>Szoba</th><th>Év</th><th>DB</th></tr>",
                            "<tr><td>1</td><td>2016</td><td>8</td></tr>",
                            "<tr><td>1</td><td>Részösszeg</td><td>8</td></tr>",
                            "<tr><td>2</td><td>2016</td><td>4</td></tr>",
                            "<tr><td>2</td><td>Részösszeg</td><td>4</td></tr>",
                            "<tr><td>3</td><td>2016</td><td>6</td></tr>",
                            "<tr><td>3</td><td>2017</td><td>2</td></tr>",
                            "<tr><td>3</td><td>Részösszeg</td><td>8</td></tr>",
                            "<tr><td>4</td><td>2016</td><td>5</td></tr>",
                            "<tr><td>4</td><td>2017</td><td>1</td></tr>",
                            "<tr><td>4</td><td>Részösszeg</td><td>6</td></tr>",
                            "<tr><td>5</td><td>2016</td><td>4</td></tr>",
                            "<tr><td>5</td><td>Részösszeg</td><td>4</td></tr>",
                            "<tr><td>6</td><td>2016</td><td>6</td></tr>",
                            "<tr><td>6</td><td>Részösszeg</td><td>6</td></tr>",
                            "<tr><td>7</td><td>2016</td><td>6</td></tr>",
                            "<tr><td>7</td><td>Részösszeg</td><td>6</td></tr>",
                            "<tr><td>8</td><td>2016</td><td>5</td></tr>",
                            "<tr><td>8</td><td>Részösszeg</td><td>5</td></tr>",
                            "<tr><td>9</td><td>2016</td><td>4</td></tr>",
                            "<tr><td>9</td><td>2017</td><td>2</td></tr>",
                            "<tr><td>9</td><td>Részösszeg</td><td>6</td></tr>",
                            "<tr><td>10</td><td>2016</td><td>4</td></tr>",
                            "<tr><td>10</td><td>Részösszeg</td><td>4</td></tr>",
                            "<tr><td>11</td><td>2016</td><td>3</td></tr>",
                            "<tr><td>11</td><td>2017</td><td>1</td></tr>",
                            "<tr><td>11</td><td>Részösszeg</td><td>4</td></tr>",
                            "<tr><td>12</td><td>2016</td><td>8</td></tr>",
                            "<tr><td>12</td><td>2017</td><td>1</td></tr>",
                            "<tr><td>12</td><td>Részösszeg</td><td>9</td></tr>",
                            "<tr><td>13</td><td>2016</td><td>3</td></tr>",
                            "<tr><td>13</td><td>2017</td><td>1</td></tr>",
                            "<tr><td>13</td><td>Részösszeg</td><td>4</td></tr>",
                            "<tr><td>14</td><td>2016</td><td>2</td></tr>",
                            "<tr><td>14</td><td>2017</td><td>1</td></tr>",
                            "<tr><td>14</td><td>Részösszeg</td><td>3</td></tr>",
                            "<tr><td>15</td><td>2016</td><td>4</td></tr>",
                            "<tr><td>15</td><td>2017</td><td>2</td></tr>",
                            "<tr><td>15</td><td>Részösszeg</td><td>6</td></tr>",
                            "<tr><td>16</td><td>2016</td><td>4</td></tr>",
                            "<tr><td>16</td><td>2017</td><td>1</td></tr>",
                            "<tr><td>16</td><td>Részösszeg</td><td>5</td></tr>",
                            "<tr><td>17</td><td>2016</td><td>5</td></tr>",
                            "<tr><td>17</td><td>2017</td><td>1</td></tr>",
                            "<tr><td>17</td><td>Részösszeg</td><td>6</td></tr>",
                            "<tr><td>18</td><td>2016</td><td>5</td></tr>",
                            "<tr><td>18</td><td>2017</td><td>1</td></tr>",
                            "<tr><td>18</td><td>Részösszeg</td><td>6</td></tr>",
                            "<tr><td>19</td><td>2016</td><td>5</td></tr>",
                            "<tr><td>19</td><td>2017</td><td>1</td></tr>",
                            "<tr><td>19</td><td>Részösszeg</td><td>6</td></tr>",
                            "<tr><td>20</td><td>2016</td><td>5</td></tr>",
                            "<tr><td>20</td><td>Részösszeg</td><td>5</td></tr>",
                            "<tr><td>21</td><td>2016</td><td>4</td></tr>",
                            "<tr><td>21</td><td>Részösszeg</td><td>4</td></tr>",
                            "<tr><td>22</td><td>2016</td><td>6</td></tr>",
                            "<tr><td>22</td><td>Részösszeg</td><td>6</td></tr>",
                            "<tr><td>23</td><td>2016</td><td>3</td></tr>",
                            "<tr><td>23</td><td>Részösszeg</td><td>3</td></tr>",
                            "<tr><td>24</td><td>2016</td><td>2</td></tr>",
                            "<tr><td>24</td><td>2017</td><td>1</td></tr>",
                            "<tr><td>24</td><td>Részösszeg</td><td>3</td></tr>",
                            "<tr><td>25</td><td>2016</td><td>2</td></tr>",
                            "<tr><td>25</td><td>Részösszeg</td><td>2</td></tr>",
                            "<tr><td>26</td><td>2016</td><td>2</td></tr>",
                            "<tr><td>26</td><td>Részösszeg</td><td>2</td></tr>",
                            "<tr><td>27</td><td>2016</td><td>6</td></tr>",
                            "<tr><td>27</td><td>2017</td><td>1</td></tr>",
                            "<tr><td>27</td><td>Részösszeg</td><td>7</td></tr>",
                            "<tr><td>28</td><td>2016</td><td>5</td></tr>",
                            "<tr><td>28</td><td>2017</td><td>1</td></tr>",
                            "<tr><td>28</td><td>Részösszeg</td><td>6</td></tr>",
                            "<tr><td>29</td><td>2016</td><td>5</td></tr>",
                            "<tr><td>29</td><td>2017</td><td>1</td></tr>",
                            "<tr><td>29</td><td>Részösszeg</td><td>6</td></tr>",
                            "<tr><td>30</td><td>2016</td><td>3</td></tr>",
                            "<tr><td>30</td><td>Részösszeg</td><td>3</td></tr>",
                            "<tr><td>31</td><td>2016</td><td>3</td></tr>",
                            "<tr><td>31</td><td>Részösszeg</td><td>3</td></tr>",
                            "<tr><td>32</td><td>2016</td><td>1</td></tr>",
                            "<tr><td>32</td><td>Részösszeg</td><td>1</td></tr>",
                            "<tr><td>33</td><td>2016</td><td>6</td></tr>",
                            "<tr><td>33</td><td>Részösszeg</td><td>6</td></tr>",
                            "<tr><td>34</td><td>2016</td><td>4</td></tr>",
                            "<tr><td>34</td><td>Részösszeg</td><td>4</td></tr>",
                            "<tr><td>35</td><td>2016</td><td>6</td></tr>",
                            "<tr><td>35</td><td>2017</td><td>3</td></tr>",
                            "<tr><td>35</td><td>Részösszeg</td><td>9</td></tr>",
                            "<tr><td>36</td><td>2016</td><td>6</td></tr>",
                            "<tr><td>36</td><td>Részösszeg</td><td>6</td></tr>",
                            "<tr><td>37</td><td>2016</td><td>3</td></tr>",
                            "<tr><td>37</td><td>Részösszeg</td><td>3</td></tr>",
                            "<tr><td>38</td><td>2016</td><td>5</td></tr>",
                            "<tr><td>38</td><td>2017</td><td>3</td></tr>",
                            "<tr><td>38</td><td>Részösszeg</td><td>8</td></tr>",
                            "<tr><td>39</td><td>2016</td><td>4</td></tr>",
                            "<tr><td>39</td><td>2017</td><td>3</td></tr>",
                            "<tr><td>39</td><td>Részösszeg</td><td>7</td></tr>",
                            "<tr><td>40</td><td>2016</td><td>4</td></tr>",
                            "<tr><td>40</td><td>Részösszeg</td><td>4</td></tr>",
                            "<tr><td>41</td><td>2016</td><td>2</td></tr>",
                            "<tr><td>41</td><td>Részösszeg</td><td>2</td></tr>",
                            "<tr><td>42</td><td>2016</td><td>5</td></tr>",
                            "<tr><td>42</td><td>2017</td><td>1</td></tr>",
                            "<tr><td>42</td><td>Részösszeg</td><td>6</td></tr>",
                            "<tr><td>43</td><td>2016</td><td>6</td></tr>",
                            "<tr><td>43</td><td>2017</td><td>2</td></tr>",
                            "<tr><td>43</td><td>Részösszeg</td><td>8</td></tr>",
                            "<tr><td>44</td><td>2016</td><td>4</td></tr>",
                            "<tr><td>44</td><td>2017</td><td>2</td></tr>",
                            "<tr><td>44</td><td>Részösszeg</td><td>6</td></tr>",
                            "<tr><td>45</td><td>2016</td><td>5</td></tr>",
                            "<tr><td>45</td><td>Részösszeg</td><td>5</td></tr>",
                            "<tr><td>46</td><td>2016</td><td>3</td></tr>",
                            "<tr><td>46</td><td>2017</td><td>1</td></tr>",
                            "<tr><td>46</td><td>Részösszeg</td><td>4</td></tr>",
                            "<tr><td>47</td><td>2016</td><td>2</td></tr>",
                            "<tr><td>47</td><td>Részösszeg</td><td>2</td></tr>",
                            "<tr><td>48</td><td>2016</td><td>6</td></tr>",
                            "<tr><td>48</td><td>2017</td><td>3</td></tr>",
                            "<tr><td>48</td><td>Részösszeg</td><td>9</td></tr>",
                            "<tr><td>49</td><td>2016</td><td>6</td></tr>",
                            "<tr><td>49</td><td>2017</td><td>1</td></tr>",
                            "<tr><td>49</td><td>Részösszeg</td><td>7</td></tr>",
                            "<tr><td>50</td><td>2016</td><td>4</td></tr>",
                            "<tr><td>50</td><td>Részösszeg</td><td>4</td></tr>",
                            "<tr><td>51</td><td>2016</td><td>3</td></tr>",
                            "<tr><td>51</td><td>2017</td><td>2</td></tr>",
                            "<tr><td>51</td><td>Részösszeg</td><td>5</td></tr>",
                            "<tr><td>52</td><td>2016</td><td>3</td></tr>",
                            "<tr><td>52</td><td>2017</td><td>2</td></tr>",
                            "<tr><td>52</td><td>Részösszeg</td><td>5</td></tr>",
                            "<tr><td>53</td><td>2016</td><td>2</td></tr>",
                            "<tr><td>53</td><td>Részösszeg</td><td>2</td></tr>",
                            "<tr><td>54</td><td>2016</td><td>6</td></tr>",
                            "<tr><td>54</td><td>Részösszeg</td><td>6</td></tr>",
                            "<tr><td>55</td><td>2016</td><td>6</td></tr>",
                            "<tr><td>55</td><td>2017</td><td>2</td></tr>",
                            "<tr><td>55</td><td>Részösszeg</td><td>8</td></tr>",
                            "<tr><td>56</td><td>2016</td><td>2</td></tr>",
                            "<tr><td>56</td><td>Részösszeg</td><td>2</td></tr>",
                            "<tr><td>57</td><td>2016</td><td>2</td></tr>",
                            "<tr><td>57</td><td>2017</td><td>2</td></tr>",
                            "<tr><td>57</td><td>Részösszeg</td><td>4</td></tr>",
                            "<tr><td>58</td><td>2016</td><td>12</td></tr>",
                            "<tr><td>58</td><td>2017</td><td>1</td></tr>",
                            "<tr><td>58</td><td>Részösszeg</td><td>13</td></tr>",
                            "<tr><td>59</td><td>2016</td><td>6</td></tr>",
                            "<tr><td>59</td><td>2017</td><td>1</td></tr>",
                            "<tr><td>59</td><td>Részösszeg</td><td>7</td></tr>",
                            "<tr><td>60</td><td>2016</td><td>1</td></tr>",
                            "<tr><td>60</td><td>Részösszeg</td><td>1</td></tr>",
                            "<tr><td>61</td><td>2016</td><td>4</td></tr>",
                            "<tr><td>61</td><td>2017</td><td>1</td></tr>",
                            "<tr><td>61</td><td>Részösszeg</td><td>5</td></tr>",
                            "<tr><td>62</td><td>2016</td><td>4</td></tr>",
                            "<tr><td>62</td><td>2017</td><td>1</td></tr>",
                            "<tr><td>62</td><td>Részösszeg</td><td>5</td></tr>",
                            "<tr><td>63</td><td>2016</td><td>4</td></tr>",
                            "<tr><td>63</td><td>Részösszeg</td><td>4</td></tr>",
                            "<tr><td>64</td><td>2016</td><td>3</td></tr>",
                            "<tr><td>64</td><td>2017</td><td>3</td></tr>",
                            "<tr><td>64</td><td>Részösszeg</td><td>6</td></tr>",
                            "<tr><td>65</td><td>2016</td><td>1</td></tr>",
                            "<tr><td>65</td><td>Részösszeg</td><td>1</td></tr>",
                            "<tr><td>66</td><td>2016</td><td>4</td></tr>",
                            "<tr><td>66</td><td>Részösszeg</td><td>4</td></tr>",
                            "<tr><td>67</td><td>2016</td><td>4</td></tr>",
                            "<tr><td>67</td><td>2017</td><td>2</td></tr>",
                            "<tr><td>67</td><td>Részösszeg</td><td>6</td></tr>",
                            "<tr><td>68</td><td>2016</td><td>3</td></tr>",
                            "<tr><td>68</td><td>Részösszeg</td><td>3</td></tr>",
                            "<tr><td>69</td><td>2016</td><td>4</td></tr>",
                            "<tr><td>69</td><td>Részösszeg</td><td>4</td></tr>",
                            "<tr><td>70</td><td>2016</td><td>10</td></tr>",
                            "<tr><td>70</td><td>2017</td><td>1</td></tr>",
                            "<tr><td>70</td><td>Részösszeg</td><td>11</td></tr>",
                            "<tr><td>71</td><td>2016</td><td>3</td></tr>",
                            "<tr><td>71</td><td>Részösszeg</td><td>3</td></tr>",
                            "<tr><td>72</td><td>2016</td><td>4</td></tr>",
                            "<tr><td>72</td><td>Részösszeg</td><td>4</td></tr>",
                            "<tr><td>73</td><td>2016</td><td>4</td></tr>",
                            "<tr><td>73</td><td>Részösszeg</td><td>4</td></tr>",
                            "<tr><td>74</td><td>2016</td><td>9</td></tr>",
                            "<tr><td>74</td><td>Részösszeg</td><td>9</td></tr>",
                            "<tr><td>75</td><td>2016</td><td>1</td></tr>",
                            "<tr><td>75</td><td>2017</td><td>2</td></tr>",
                            "<tr><td>75</td><td>Részösszeg</td><td>3</td></tr>",
                            "<tr><td>76</td><td>2016</td><td>2</td></tr>",
                            "<tr><td>76</td><td>2017</td><td>1</td></tr>",
                            "<tr><td>76</td><td>Részösszeg</td><td>3</td></tr>",
                            "<tr><td>77</td><td>2016</td><td>4</td></tr>",
                            "<tr><td>77</td><td>2017</td><td>2</td></tr>",
                            "<tr><td>77</td><td>Részösszeg</td><td>6</td></tr>",
                            "<tr><td>78</td><td>2016</td><td>5</td></tr>",
                            "<tr><td>78</td><td>2017</td><td>1</td></tr>",
                            "<tr><td>78</td><td>Részösszeg</td><td>6</td></tr>",
                            "<tr><td>79</td><td>2016</td><td>4</td></tr>",
                            "<tr><td>79</td><td>2017</td><td>1</td></tr>",
                            "<tr><td>79</td><td>Részösszeg</td><td>5</td></tr>",
                            "<tr><td>80</td><td>2016</td><td>7</td></tr>",
                            "<tr><td>80</td><td>Részösszeg</td><td>7</td></tr>",
                            "<tr><td>81</td><td>2016</td><td>1</td></tr>",
                            "<tr><td>81</td><td>2017</td><td>4</td></tr>",
                            "<tr><td>81</td><td>Részösszeg</td><td>5</td></tr>",
                            "<tr><td>82</td><td>2016</td><td>6</td></tr>",
                            "<tr><td>82</td><td>Részösszeg</td><td>6</td></tr>",
                            "<tr><td>83</td><td>2016</td><td>8</td></tr>",
                            "<tr><td>83</td><td>Részösszeg</td><td>8</td></tr>",
                            "<tr><td>84</td><td>2016</td><td>4</td></tr>",
                            "<tr><td>84</td><td>Részösszeg</td><td>4</td></tr>",
                            "<tr><td>85</td><td>2016</td><td>3</td></tr>",
                            "<tr><td>85</td><td>2017</td><td>1</td></tr>",
                            "<tr><td>85</td><td>Részösszeg</td><td>4</td></tr>",
                            "<tr><td>86</td><td>2016</td><td>4</td></tr>",
                            "<tr><td>86</td><td>2017</td><td>1</td></tr>",
                            "<tr><td>86</td><td>Részösszeg</td><td>5</td></tr>",
                            "<tr><td>87</td><td>2016</td><td>4</td></tr>",
                            "<tr><td>87</td><td>2017</td><td>1</td></tr>",
                            "<tr><td>87</td><td>Részösszeg</td><td>5</td></tr>",
                            "<tr><td>88</td><td>2016</td><td>6</td></tr>",
                            "<tr><td>88</td><td>2017</td><td>2</td></tr>",
                            "<tr><td>88</td><td>Részösszeg</td><td>8</td></tr>",
                            "<tr><td>89</td><td>2016</td><td>7</td></tr>",
                            "<tr><td>89</td><td>2017</td><td>1</td></tr>",
                            "<tr><td>89</td><td>Részösszeg</td><td>8</td></tr>",
                            "<tr><td>90</td><td>2016</td><td>4</td></tr>",
                            "<tr><td>90</td><td>Részösszeg</td><td>4</td></tr>",
                            "<tr><td>91</td><td>2016</td><td>4</td></tr>",
                            "<tr><td>91</td><td>Részösszeg</td><td>4</td></tr>",
                            "<tr><td>92</td><td>2016</td><td>4</td></tr>",
                            "<tr><td>92</td><td>2017</td><td>2</td></tr>",
                            "<tr><td>92</td><td>Részösszeg</td><td>6</td></tr>",
                            "<tr><td>93</td><td>2016</td><td>5</td></tr>",
                            "<tr><td>93</td><td>Részösszeg</td><td>5</td></tr>",
                            "<tr><td>94</td><td>2016</td><td>8</td></tr>",
                            "<tr><td>94</td><td>2017</td><td>2</td></tr>",
                            "<tr><td>94</td><td>Részösszeg</td><td>10</td></tr>",
                            "<tr><td>95</td><td>2016</td><td>3</td></tr>",
                            "<tr><td>95</td><td>2017</td><td>1</td></tr>",
                            "<tr><td>95</td><td>Részösszeg</td><td>4</td></tr>",
                            "<tr><td>96</td><td>2016</td><td>5</td></tr>",
                            "<tr><td>96</td><td>2017</td><td>2</td></tr>",
                            "<tr><td>96</td><td>Részösszeg</td><td>7</td></tr>",
                            "<tr><td>97</td><td>2016</td><td>5</td></tr>",
                            "<tr><td>97</td><td>2017</td><td>2</td></tr>",
                            "<tr><td>97</td><td>Részösszeg</td><td>7</td></tr>",
                            "<tr><td>98</td><td>2016</td><td>4</td></tr>",
                            "<tr><td>98</td><td>Részösszeg</td><td>4</td></tr>",
                            "<tr><td>99</td><td>2016</td><td>4</td></tr>",
                            "<tr><td>99</td><td>2017</td><td>1</td></tr>",
                            "<tr><td>99</td><td>Részösszeg</td><td>5</td></tr>",
                            "<tr><td>100</td><td>2016</td><td>3</td></tr>",
                            "<tr><td>100</td><td>2017</td><td>1</td></tr>",
                            "<tr><td>100</td><td>Részösszeg</td><td>4</td></tr>",
                            "<tr><td>101</td><td>2016</td><td>2</td></tr>",
                            "<tr><td>101</td><td>2017</td><td>1</td></tr>",
                            "<tr><td>101</td><td>Részösszeg</td><td>3</td></tr>",
                            "<tr><td>102</td><td>2016</td><td>2</td></tr>",
                            "<tr><td>102</td><td>Részösszeg</td><td>2</td></tr>",
                            "<tr><td>103</td><td>2016</td><td>3</td></tr>",
                            "<tr><td>103</td><td>2017</td><td>1</td></tr>",
                            "<tr><td>103</td><td>Részösszeg</td><td>4</td></tr>",
                            "<tr><td>104</td><td>2016</td><td>2</td></tr>",
                            "<tr><td>104</td><td>2017</td><td>2</td></tr>",
                            "<tr><td>104</td><td>Részösszeg</td><td>4</td></tr>",
                            "<tr><td>105</td><td>2016</td><td>1</td></tr>",
                            "<tr><td>105</td><td>2017</td><td>1</td></tr>",
                            "<tr><td>105</td><td>Részösszeg</td><td>2</td></tr>",
                            "<tr><td>106</td><td>2016</td><td>5</td></tr>",
                            "<tr><td>106</td><td>2017</td><td>1</td></tr>",
                            "<tr><td>106</td><td>Részösszeg</td><td>6</td></tr>",
                            "<tr><td>107</td><td>2016</td><td>3</td></tr>",
                            "<tr><td>107</td><td>2017</td><td>2</td></tr>",
                            "<tr><td>107</td><td>Részösszeg</td><td>5</td></tr>",
                            "<tr><td>108</td><td>2016</td><td>2</td></tr>",
                            "<tr><td>108</td><td>Részösszeg</td><td>2</td></tr>",
                            "<tr><td>109</td><td>2016</td><td>6</td></tr>",
                            "<tr><td>109</td><td>2017</td><td>1</td></tr>",
                            "<tr><td>109</td><td>Részösszeg</td><td>7</td></tr>",
                            "<tr><td>110</td><td>2016</td><td>6</td></tr>",
                            "<tr><td>110</td><td>2017</td><td>2</td></tr>",
                            "<tr><td>110</td><td>Részösszeg</td><td>8</td></tr>",
                            "<tr><td>111</td><td>2016</td><td>5</td></tr>",
                            "<tr><td>111</td><td>Részösszeg</td><td>5</td></tr>",
                            "<tr><td>112</td><td>2016</td><td>4</td></tr>",
                            "<tr><td>112</td><td>2017</td><td>1</td></tr>",
                            "<tr><td>112</td><td>Részösszeg</td><td>5</td></tr>",
                            "<tr><td>113</td><td>2016</td><td>3</td></tr>",
                            "<tr><td>113</td><td>2017</td><td>2</td></tr>",
                            "<tr><td>113</td><td>Részösszeg</td><td>5</td></tr>",
                            "<tr><td>114</td><td>2016</td><td>3</td></tr>",
                            "<tr><td>114</td><td>2017</td><td>1</td></tr>",
                            "<tr><td>114</td><td>Részösszeg</td><td>4</td></tr>",
                            "<tr><td>115</td><td>2016</td><td>5</td></tr>",
                            "<tr><td>115</td><td>2017</td><td>2</td></tr>",
                            "<tr><td>115</td><td>Részösszeg</td><td>7</td></tr>",
                            "<tr><td>116</td><td>2017</td><td>2</td></tr>",
                            "<tr><td>116</td><td>Részösszeg</td><td>2</td></tr>",
                            "<tr><td>117</td><td>2016</td><td>7</td></tr>",
                            "<tr><td>117</td><td>2017</td><td>1</td></tr>",
                            "<tr><td>117</td><td>Részösszeg</td><td>8</td></tr>",
                            "<tr><td>118</td><td>2016</td><td>5</td></tr>",
                            "<tr><td>118</td><td>2017</td><td>2</td></tr>",
                            "<tr><td>118</td><td>Részösszeg</td><td>7</td></tr>",
                            "<tr><td>119</td><td>2016</td><td>3</td></tr>",
                            "<tr><td>119</td><td>2017</td><td>2</td></tr>",
                            "<tr><td>119</td><td>Részösszeg</td><td>5</td></tr>",
                            "<tr><td>120</td><td>2016</td><td>4</td></tr>",
                            "<tr><td>120</td><td>2017</td><td>2</td></tr>",
                            "<tr><td>120</td><td>Részösszeg</td><td>6</td></tr>",
                            "<tr><td>121</td><td>2016</td><td>8</td></tr>",
                            "<tr><td>121</td><td>Részösszeg</td><td>8</td></tr>",
                            "<tr><td>122</td><td>2016</td><td>8</td></tr>",
                            "<tr><td>122</td><td>2017</td><td>1</td></tr>",
                            "<tr><td>122</td><td>Részösszeg</td><td>9</td></tr>",
                            "<tr><td>123</td><td>2016</td><td>5</td></tr>",
                            "<tr><td>123</td><td>Részösszeg</td><td>5</td></tr>",
                            "<tr><td>124</td><td>2016</td><td>4</td></tr>",
                            "<tr><td>124</td><td>2017</td><td>2</td></tr>",
                            "<tr><td>124</td><td>Részösszeg</td><td>6</td></tr>",
                            "<tr><td>125</td><td>2016</td><td>1</td></tr>",
                            "<tr><td>125</td><td>Részösszeg</td><td>1</td></tr>",
                            "<tr><td>126</td><td>2016</td><td>4</td></tr>",
                            "<tr><td>126</td><td>2017</td><td>2</td></tr>",
                            "<tr><td>126</td><td>Részösszeg</td><td>6</td></tr>",
                            "<tr><td>127</td><td>2016</td><td>6</td></tr>",
                            "<tr><td>127</td><td>2017</td><td>1</td></tr>",
                            "<tr><td>127</td><td>Részösszeg</td><td>7</td></tr>",
                            "<tr><td>128</td><td>2016</td><td>3</td></tr>",
                            "<tr><td>128</td><td>2017</td><td>2</td></tr>",
                            "<tr><td>128</td><td>Részösszeg</td><td>5</td></tr>",
                            "<tr><td>129</td><td>2016</td><td>2</td></tr>",
                            "<tr><td>129</td><td>2017</td><td>2</td></tr>",
                            "<tr><td>129</td><td>Részösszeg</td><td>4</td></tr>",
                            "<tr><td>130</td><td>2016</td><td>5</td></tr>",
                            "<tr><td>130</td><td>2017</td><td>1</td></tr>",
                            "<tr><td>130</td><td>Részösszeg</td><td>6</td></tr>",
                            "<tr><td>131</td><td>2016</td><td>4</td></tr>",
                            "<tr><td>131</td><td>2017</td><td>1</td></tr>",
                            "<tr><td>131</td><td>Részösszeg</td><td>5</td></tr>",
                            "<tr><td>132</td><td>2016</td><td>5</td></tr>",
                            "<tr><td>132</td><td>2017</td><td>1</td></tr>",
                            "<tr><td>132</td><td>Részösszeg</td><td>6</td></tr>",
                            "<tr><td>133</td><td>2016</td><td>5</td></tr>",
                            "<tr><td>133</td><td>2017</td><td>1</td></tr>",
                            "<tr><td>133</td><td>Részösszeg</td><td>6</td></tr>",
                            "<tr><td>134</td><td>2016</td><td>5</td></tr>",
                            "<tr><td>134</td><td>2017</td><td>1</td></tr>",
                            "<tr><td>134</td><td>Részösszeg</td><td>6</td></tr>",
                            "<tr><td>135</td><td>2016</td><td>3</td></tr>",
                            "<tr><td>135</td><td>Részösszeg</td><td>3</td></tr>",
                            "<tr><td>136</td><td>2016</td><td>3</td></tr>",
                            "<tr><td>136</td><td>Részösszeg</td><td>3</td></tr>",
                            "<tr><td>137</td><td>2016</td><td>6</td></tr>",
                            "<tr><td>137</td><td>Részösszeg</td><td>6</td></tr>",
                            "<tr><td>138</td><td>2016</td><td>7</td></tr>",
                            "<tr><td>138</td><td>Részösszeg</td><td>7</td></tr>",
                            "<tr><td>139</td><td>2016</td><td>5</td></tr>",
                            "<tr><td>139</td><td>2017</td><td>2</td></tr>",
                            "<tr><td>139</td><td>Részösszeg</td><td>7</td></tr>",
                            "<tr><td>140</td><td>2016</td><td>8</td></tr>",
                            "<tr><td>140</td><td>Részösszeg</td><td>8</td></tr>",
                            "<tr><td>141</td><td>2016</td><td>6</td></tr>",
                            "<tr><td>141</td><td>Részösszeg</td><td>6</td></tr>",
                            "<tr><td>142</td><td>2016</td><td>1</td></tr>",
                            "<tr><td>142</td><td>2017</td><td>1</td></tr>",
                            "<tr><td>142</td><td>Részösszeg</td><td>2</td></tr>",
                            "<tr><td>143</td><td>2016</td><td>6</td></tr>",
                            "<tr><td>143</td><td>2017</td><td>1</td></tr>",
                            "<tr><td>143</td><td>Részösszeg</td><td>7</td></tr>",
                            "<tr><td>144</td><td>2016</td><td>4</td></tr>",
                            "<tr><td>144</td><td>2017</td><td>1</td></tr>",
                            "<tr><td>144</td><td>Részösszeg</td><td>5</td></tr>",
                            "<tr><td>145</td><td>2016</td><td>5</td></tr>",
                            "<tr><td>145</td><td>2017</td><td>1</td></tr>",
                            "<tr><td>145</td><td>Részösszeg</td><td>6</td></tr>",
                            "<tr><td>146</td><td>2016</td><td>5</td></tr>",
                            "<tr><td>146</td><td>2017</td><td>1</td></tr>",
                            "<tr><td>146</td><td>Részösszeg</td><td>6</td></tr>",
                            "<tr><td>147</td><td>2016</td><td>1</td></tr>",
                            "<tr><td>147</td><td>Részösszeg</td><td>1</td></tr>",
                            "<tr><td>148</td><td>2016</td><td>5</td></tr>",
                            "<tr><td>148</td><td>2017</td><td>1</td></tr>",
                            "<tr><td>148</td><td>Részösszeg</td><td>6</td></tr>",
                            "<tr><td>149</td><td>2016</td><td>6</td></tr>",
                            "<tr><td>149</td><td>2017</td><td>1</td></tr>",
                            "<tr><td>149</td><td>Részösszeg</td><td>7</td></tr>",
                            "<tr><td>150</td><td>2016</td><td>5</td></tr>",
                            "<tr><td>150</td><td>2017</td><td>1</td></tr>",
                            "<tr><td>150</td><td>Részösszeg</td><td>6</td></tr>",
                            "<tr><td>151</td><td>2016</td><td>3</td></tr>",
                            "<tr><td>151</td><td>Részösszeg</td><td>3</td></tr>",
                            "<tr><td>152</td><td>2016</td><td>3</td></tr>",
                            "<tr><td>152</td><td>2017</td><td>1</td></tr>",
                            "<tr><td>152</td><td>Részösszeg</td><td>4</td></tr>",
                            "<tr><td>153</td><td>2016</td><td>2</td></tr>",
                            "<tr><td>153</td><td>2017</td><td>3</td></tr>",
                            "<tr><td>153</td><td>Részösszeg</td><td>5</td></tr>",
                            "<tr><td>154</td><td>2016</td><td>4</td></tr>",
                            "<tr><td>154</td><td>2017</td><td>1</td></tr>",
                            "<tr><td>154</td><td>Részösszeg</td><td>5</td></tr>",
                            "<tr><td>155</td><td>2016</td><td>4</td></tr>",
                            "<tr><td>155</td><td>2017</td><td>1</td></tr>",
                            "<tr><td>155</td><td>Részösszeg</td><td>5</td></tr>",
                            "<tr><td>156</td><td>2016</td><td>4</td></tr>",
                            "<tr><td>156</td><td>2017</td><td>3</td></tr>",
                            "<tr><td>156</td><td>Részösszeg</td><td>7</td></tr>",
                            "<tr><td>157</td><td>2016</td><td>4</td></tr>",
                            "<tr><td>157</td><td>2017</td><td>1</td></tr>",
                            "<tr><td>157</td><td>Részösszeg</td><td>5</td></tr>",
                            "<tr><td>158</td><td>2016</td><td>3</td></tr>",
                            "<tr><td>158</td><td>Részösszeg</td><td>3</td></tr>",
                            "<tr><td>160</td><td>2016</td><td>4</td></tr>",
                            "<tr><td>160</td><td>2017</td><td>1</td></tr>",
                            "<tr><td>160</td><td>Részösszeg</td><td>5</td></tr>",
                            "<tr><td>161</td><td>2016</td><td>5</td></tr>",
                            "<tr><td>161</td><td>2017</td><td>1</td></tr>",
                            "<tr><td>161</td><td>Részösszeg</td><td>6</td></tr>",
                            "<tr><td>162</td><td>2016</td><td>3</td></tr>",
                            "<tr><td>162</td><td>Részösszeg</td><td>3</td></tr>",
                            "<tr><td>163</td><td>2016</td><td>6</td></tr>",
                            "<tr><td>163</td><td>2017</td><td>1</td></tr>",
                            "<tr><td>163</td><td>Részösszeg</td><td>7</td></tr>",
                            "<tr><td>164</td><td>2016</td><td>5</td></tr>",
                            "<tr><td>164</td><td>Részösszeg</td><td>5</td></tr>",
                            "<tr><td>165</td><td>2016</td><td>7</td></tr>",
                            "<tr><td>165</td><td>Részösszeg</td><td>7</td></tr>",
                            "<tr><td>166</td><td>2016</td><td>2</td></tr>",
                            "<tr><td>166</td><td>2017</td><td>1</td></tr>",
                            "<tr><td>166</td><td>Részösszeg</td><td>3</td></tr>",
                            "<tr><td>167</td><td>2016</td><td>1</td></tr>",
                            "<tr><td>167</td><td>2017</td><td>1</td></tr>",
                            "<tr><td>167</td><td>Részösszeg</td><td>2</td></tr>",
                            "<tr><td>168</td><td>2016</td><td>5</td></tr>",
                            "<tr><td>168</td><td>Részösszeg</td><td>5</td></tr>",
                            "<tr><td>169</td><td>2016</td><td>5</td></tr>",
                            "<tr><td>169</td><td>2017</td><td>1</td></tr>",
                            "<tr><td>169</td><td>Részösszeg</td><td>6</td></tr>",
                            "<tr><td>170</td><td>2016</td><td>5</td></tr>",
                            "<tr><td>170</td><td>Részösszeg</td><td>5</td></tr>",
                            "<tr><td>171</td><td>2016</td><td>4</td></tr>",
                            "<tr><td>171</td><td>2017</td><td>1</td></tr>",
                            "<tr><td>171</td><td>Részösszeg</td><td>5</td></tr>",
                            "<tr><td>172</td><td>2016</td><td>7</td></tr>",
                            "<tr><td>172</td><td>2017</td><td>2</td></tr>",
                            "<tr><td>172</td><td>Részösszeg</td><td>9</td></tr>",
                            "<tr><td>173</td><td>2016</td><td>3</td></tr>",
                            "<tr><td>173</td><td>2017</td><td>1</td></tr>",
                            "<tr><td>173</td><td>Részösszeg</td><td>4</td></tr>",
                            "<tr><td>174</td><td>2016</td><td>4</td></tr>",
                            "<tr><td>174</td><td>Részösszeg</td><td>4</td></tr>",
                            "<tr><td>175</td><td>2016</td><td>5</td></tr>",
                            "<tr><td>175</td><td>Részösszeg</td><td>5</td></tr>",
                            "<tr><td>176</td><td>2016</td><td>4</td></tr>",
                            "<tr><td>176</td><td>2017</td><td>2</td></tr>",
                            "<tr><td>176</td><td>Részösszeg</td><td>6</td></tr>",
                            "<tr><td>177</td><td>2016</td><td>3</td></tr>",
                            "<tr><td>177</td><td>2017</td><td>1</td></tr>",
                            "<tr><td>177</td><td>Részösszeg</td><td>4</td></tr>",
                            "<tr><td>178</td><td>2016</td><td>4</td></tr>",
                            "<tr><td>178</td><td>Részösszeg</td><td>4</td></tr>",
                            "<tr><td>179</td><td>2016</td><td>2</td></tr>",
                            "<tr><td>179</td><td>2017</td><td>1</td></tr>",
                            "<tr><td>179</td><td>Részösszeg</td><td>3</td></tr>",
                            "<tr><td>180</td><td>2016</td><td>1</td></tr>",
                            "<tr><td>180</td><td>2017</td><td>2</td></tr>",
                            "<tr><td>180</td><td>Részösszeg</td><td>3</td></tr>",
                            "<tr><td>181</td><td>2016</td><td>6</td></tr>",
                            "<tr><td>181</td><td>Részösszeg</td><td>6</td></tr>",
                            "<tr><td>182</td><td>2016</td><td>10</td></tr>",
                            "<tr><td>182</td><td>2017</td><td>2</td></tr>",
                            "<tr><td>182</td><td>Részösszeg</td><td>12</td></tr>",
                            "<tr><td>183</td><td>2016</td><td>3</td></tr>",
                            "<tr><td>183</td><td>2017</td><td>1</td></tr>",
                            "<tr><td>183</td><td>Részösszeg</td><td>4</td></tr>",
                            "<tr><td>184</td><td>2016</td><td>4</td></tr>",
                            "<tr><td>184</td><td>Részösszeg</td><td>4</td></tr>",
                            "<tr><td>185</td><td>2016</td><td>10</td></tr>",
                            "<tr><td>185</td><td>2017</td><td>2</td></tr>",
                            "<tr><td>185</td><td>Részösszeg</td><td>12</td></tr>",
                            "<tr><td>186</td><td>2016</td><td>3</td></tr>",
                            "<tr><td>186</td><td>2017</td><td>1</td></tr>",
                            "<tr><td>186</td><td>Részösszeg</td><td>4</td></tr>",
                            "<tr><td>187</td><td>2016</td><td>7</td></tr>",
                            "<tr><td>187</td><td>Részösszeg</td><td>7</td></tr>",
                            "<tr><td>188</td><td>2016</td><td>6</td></tr>",
                            "<tr><td>188</td><td>Részösszeg</td><td>6</td></tr>",
                            "<tr><td>189</td><td>2016</td><td>3</td></tr>",
                            "<tr><td>189</td><td>2017</td><td>2</td></tr>",
                            "<tr><td>189</td><td>Részösszeg</td><td>5</td></tr>",
                            "<tr><td>190</td><td>2016</td><td>4</td></tr>",
                            "<tr><td>190</td><td>2017</td><td>1</td></tr>",
                            "<tr><td>190</td><td>Részösszeg</td><td>5</td></tr>",
                            "<tr><td>191</td><td>2016</td><td>3</td></tr>",
                            "<tr><td>191</td><td>2017</td><td>2</td></tr>",
                            "<tr><td>191</td><td>Részösszeg</td><td>5</td></tr>",
                            "<tr><td>192</td><td>2016</td><td>2</td></tr>",
                            "<tr><td>192</td><td>Részösszeg</td><td>2</td></tr>",
                            "<tr><td>193</td><td>2016</td><td>7</td></tr>",
                            "<tr><td>193</td><td>Részösszeg</td><td>7</td></tr>",
                            "<tr><td>194</td><td>2016</td><td>1</td></tr>",
                            "<tr><td>194</td><td>Részösszeg</td><td>1</td></tr>",
                            "<tr><td>195</td><td>2016</td><td>4</td></tr>",
                            "<tr><td>195</td><td>2017</td><td>2</td></tr>",
                            "<tr><td>195</td><td>Részösszeg</td><td>6</td></tr>",
                            "<tr><td>196</td><td>2016</td><td>4</td></tr>",
                            "<tr><td>196</td><td>Részösszeg</td><td>4</td></tr>",
                            "<tr><td>197</td><td>2016</td><td>6</td></tr>",
                            "<tr><td>197</td><td>Részösszeg</td><td>6</td></tr>",
                            "<tr><td>198</td><td>2016</td><td>7</td></tr>",
                            "<tr><td>198</td><td>2017</td><td>1</td></tr>",
                            "<tr><td>198</td><td>Részösszeg</td><td>8</td></tr>",
                            "<tr><td>Összesen</td><td>Végösszeg</td><td>1027</td></tr>",
                            "</table>"
                        ]
                    }
                }
            ],
            "execution_count": 12
        },
        {
            "cell_type": "markdown",
            "source": [
                "Készítsük listát, amely a szobák azonosítóit és a hozzájuk tartozó foglalások azonosítóját és időtartalmát (napokban) jeleníti meg!\n",
                "\n",
                "- Egy új oszlopban jelenítsük meg az adott szoba időben előző foglalásának időtartamát is!\n",
                "- Ha nincs előző, akkor 0 jelenjen meg\n",
                "\n",
                "Válaszszöveg 2 kérdés\n",
                "\n",
                "Rich text szerkesztő"
            ],
            "metadata": {
                "azdata_cell_guid": "975d006b-94a3-4e81-a97f-a0192abb9517"
            },
            "attachments": {}
        },
        {
            "cell_type": "code",
            "source": [
                ""
            ],
            "metadata": {
                "azdata_cell_guid": "8a9a11aa-ed6d-4855-93c4-778de36ccbed",
                "language": "sql"
            },
            "outputs": [],
            "execution_count": null
        },
        {
            "cell_type": "markdown",
            "source": [
                "<span style=\"color: rgb(0, 0, 0); font-family: &quot;Open Sans&quot;, sans-serif; font-size: 14.44px; background-color: rgb(255, 255, 255);\">Jelenítsük meg azon ügyfelek nevét, akik még sohasem foglaltak VAGY volt foglalásuk, de nem volt közöttük 2 napnál hosszabb!</span>"
            ],
            "metadata": {
                "azdata_cell_guid": "824f98cb-0e3b-4101-914d-4350cda0181a"
            },
            "attachments": {}
        },
        {
            "cell_type": "code",
            "source": [
                ""
            ],
            "metadata": {
                "azdata_cell_guid": "33a9fd27-d1b9-4f48-b7d4-85b0d7f057fc",
                "language": "sql"
            },
            "outputs": [],
            "execution_count": null
        }
    ]
}