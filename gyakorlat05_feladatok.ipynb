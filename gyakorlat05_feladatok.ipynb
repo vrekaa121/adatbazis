{
    "metadata": {
        "kernelspec": {
            "name": "SQL",
            "display_name": "SQL",
            "language": "sql"
        },
        "language_info": {
            "name": "sql",
            "version": ""
        }
    },
    "nbformat_minor": 2,
    "nbformat": 4,
    "cells": [
        {
            "cell_type": "markdown",
            "source": [
                "1. <span style=\"color: rgb(36, 41, 47); font-family: -apple-system, BlinkMacSystemFont, &quot;Segoe UI&quot;, Helvetica, Arial, sans-serif, &quot;Apple Color Emoji&quot;, &quot;Segoe UI Emoji&quot;; font-size: 16px;\">Készítsünk listát éves bontásban norbert2 azonosítójú ügyfél rendeléseinek értékéről!</span>\n",
                "\n",
                "1. A lista megfelelően jelölve tartalmazza a végösszeget is!"
            ],
            "metadata": {
                "azdata_cell_guid": "363cd270-6577-449b-9c89-d4b7c7972d52"
            },
            "attachments": {}
        },
        {
            "cell_type": "code",
            "source": [
                "-- rendeles és rendeles_tetel tablak\r\n",
                "-- érték: sum(mennyiseg*egysegar)\r\n",
                "\r\n",
                "SELECT IIF(YEAR(r.REND_DATUM) IS NULL, 'Összesen', CAST(YEAR(r.REND_DATUM) AS NVARCHAR(4))) AS 'Év',\r\n",
                "        SUM(rt.mennyiseg * rt.egysegar) AS 'Rendelés értéke'\r\n",
                "FROM Rendeles r JOIN Rendeles_tetel rt ON r.SORSZAM = rt.SORSZAM\r\n",
                "WHERE r.login = 'norbert2'\r\n",
                "GROUP BY ROLLUP(YEAR(r.REND_DATUM))"
            ],
            "metadata": {
                "azdata_cell_guid": "6ab9f633-a3b5-48c9-a1dc-4fb8235ae85b",
                "language": "sql"
            },
            "outputs": [
                {
                    "output_type": "display_data",
                    "data": {
                        "text/html": "(3 rows affected)"
                    },
                    "metadata": {}
                },
                {
                    "output_type": "display_data",
                    "data": {
                        "text/html": "Total execution time: 00:00:00.018"
                    },
                    "metadata": {}
                },
                {
                    "output_type": "execute_result",
                    "metadata": {},
                    "execution_count": 13,
                    "data": {
                        "application/vnd.dataresource+json": {
                            "schema": {
                                "fields": [
                                    {
                                        "name": "Év"
                                    },
                                    {
                                        "name": "Rendelés értéke"
                                    }
                                ]
                            },
                            "data": [
                                {
                                    "Év": "2015",
                                    "Rendelés értéke": "483473"
                                },
                                {
                                    "Év": "2017",
                                    "Rendelés értéke": "614340"
                                },
                                {
                                    "Év": "Összesen",
                                    "Rendelés értéke": "1097813"
                                }
                            ]
                        },
                        "text/html": [
                            "<table>",
                            "<tr><th>Év</th><th>Rendelés értéke</th></tr>",
                            "<tr><td>2015</td><td>483473</td></tr>",
                            "<tr><td>2017</td><td>614340</td></tr>",
                            "<tr><td>Összesen</td><td>1097813</td></tr>",
                            "</table>"
                        ]
                    }
                }
            ],
            "execution_count": 13
        },
        {
            "cell_type": "markdown",
            "source": [
                "2. <span style=\"color: rgb(36, 41, 47); font-family: -apple-system, BlinkMacSystemFont, &quot;Segoe UI&quot;, Helvetica, Arial, sans-serif, &quot;Apple Color Emoji&quot;, &quot;Segoe UI Emoji&quot;; font-size: 16px;\">Készítsünk listát szállítási dátumonként, azon belül szállítási módonként az egyes rendelések összmennyiségéről!</span>\n",
                "\n",
                "1. Csak azokat a termékeket vegyük figyelembe, amelyek mennyiségi egysége db!\n",
                "2. A listát szűrjük úgy, hogy az csak a részösszeg sorokat és a végösszeget tartalmazza!"
            ],
            "metadata": {
                "azdata_cell_guid": "ea75c103-911f-41a3-a32c-3d40fb3e4e4a"
            },
            "attachments": {}
        },
        {
            "cell_type": "code",
            "source": [
                "--rendeles, rendeles_tetel, termek táblák\r\n",
                "--SUM(mennyiseg)\r\n",
                "\r\n",
                "SELECT r.SZALL_DATUM,\r\n",
                "        r.SZALL_MOD,\r\n",
                "        SUM(rt.MENNYISEG)\r\n",
                "FROM Rendeles r JOIN Rendeles_tetel rt ON r.SORSZAM = rt.SORSZAM\r\n",
                "                JOIN Termek t ON T.TERMEKKOD = rt.TERMEKKOD\r\n",
                "WHERE MEGYS = 'db'\r\n",
                "GROUP BY ROLLUP(r.SZALL_DATUM, r.SZALL_MOD)\r\n",
                "HAVING r.SZALL_MOD IS NULL or r.SZALL_DATUM IS NULL\r\n",
                "\r\n",
                "--HAVING GROUPING_ID(r.SZALL_MOD, r.SZALL_DATUM) > 0 (mindig nagyobb mint nulla ha van csoportosítás)"
            ],
            "metadata": {
                "azdata_cell_guid": "222b9618-a8e8-42b4-a8e8-d002257122b7",
                "language": "sql"
            },
            "outputs": [
                {
                    "output_type": "display_data",
                    "data": {
                        "text/html": "(711 rows affected)"
                    },
                    "metadata": {}
                },
                {
                    "output_type": "display_data",
                    "data": {
                        "text/html": "Total execution time: 00:00:00.231"
                    },
                    "metadata": {}
                },
                {
                    "output_type": "execute_result",
                    "metadata": {},
                    "execution_count": 18,
                    "data": {
                        "application/vnd.dataresource+json": {
                            "schema": {
                                "fields": [
                                    {
                                        "name": "SZALL_DATUM"
                                    },
                                    {
                                        "name": "SZALL_MOD"
                                    },
                                    {
                                        "name": "(No column name)"
                                    }
                                ]
                            },
                            "data": [
                                {
                                    "SZALL_DATUM": "2015-05-03",
                                    "SZALL_MOD": "NULL",
                                    "(No column name)": "100"
                                },
                                {
                                    "SZALL_DATUM": "2015-05-04",
                                    "SZALL_MOD": "NULL",
                                    "(No column name)": "996"
                                },
                                {
                                    "SZALL_DATUM": "2015-05-05",
                                    "SZALL_MOD": "NULL",
                                    "(No column name)": "3152"
                                },
                                {
                                    "SZALL_DATUM": "2015-05-06",
                                    "SZALL_MOD": "NULL",
                                    "(No column name)": "5030"
                                },
                                {
                                    "SZALL_DATUM": "2015-05-07",
                                    "SZALL_MOD": "NULL",
                                    "(No column name)": "3828"
                                },
                                {
                                    "SZALL_DATUM": "2015-05-08",
                                    "SZALL_MOD": "NULL",
                                    "(No column name)": "3213"
                                },
                                {
                                    "SZALL_DATUM": "2015-05-09",
                                    "SZALL_MOD": "NULL",
                                    "(No column name)": "6665"
                                },
                                {
                                    "SZALL_DATUM": "2015-05-10",
                                    "SZALL_MOD": "NULL",
                                    "(No column name)": "6909"
                                },
                                {
                                    "SZALL_DATUM": "2015-05-11",
                                    "SZALL_MOD": "NULL",
                                    "(No column name)": "6224"
                                },
                                {
                                    "SZALL_DATUM": "2015-05-12",
                                    "SZALL_MOD": "NULL",
                                    "(No column name)": "7568"
                                },
                                {
                                    "SZALL_DATUM": "2015-05-13",
                                    "SZALL_MOD": "NULL",
                                    "(No column name)": "7985"
                                },
                                {
                                    "SZALL_DATUM": "2015-05-14",
                                    "SZALL_MOD": "NULL",
                                    "(No column name)": "9706"
                                },
                                {
                                    "SZALL_DATUM": "2015-05-15",
                                    "SZALL_MOD": "NULL",
                                    "(No column name)": "7400"
                                },
                                {
                                    "SZALL_DATUM": "2015-05-16",
                                    "SZALL_MOD": "NULL",
                                    "(No column name)": "7897"
                                },
                                {
                                    "SZALL_DATUM": "2015-05-17",
                                    "SZALL_MOD": "NULL",
                                    "(No column name)": "4572"
                                },
                                {
                                    "SZALL_DATUM": "2015-05-18",
                                    "SZALL_MOD": "NULL",
                                    "(No column name)": "8190"
                                },
                                {
                                    "SZALL_DATUM": "2015-05-19",
                                    "SZALL_MOD": "NULL",
                                    "(No column name)": "7248"
                                },
                                {
                                    "SZALL_DATUM": "2015-05-20",
                                    "SZALL_MOD": "NULL",
                                    "(No column name)": "9859"
                                },
                                {
                                    "SZALL_DATUM": "2015-05-21",
                                    "SZALL_MOD": "NULL",
                                    "(No column name)": "8041"
                                },
                                {
                                    "SZALL_DATUM": "2015-05-22",
                                    "SZALL_MOD": "NULL",
                                    "(No column name)": "8338"
                                },
                                {
                                    "SZALL_DATUM": "2015-05-23",
                                    "SZALL_MOD": "NULL",
                                    "(No column name)": "5616"
                                },
                                {
                                    "SZALL_DATUM": "2015-05-24",
                                    "SZALL_MOD": "NULL",
                                    "(No column name)": "5001"
                                },
                                {
                                    "SZALL_DATUM": "2015-05-25",
                                    "SZALL_MOD": "NULL",
                                    "(No column name)": "7611"
                                },
                                {
                                    "SZALL_DATUM": "2015-05-26",
                                    "SZALL_MOD": "NULL",
                                    "(No column name)": "7153"
                                },
                                {
                                    "SZALL_DATUM": "2015-05-27",
                                    "SZALL_MOD": "NULL",
                                    "(No column name)": "8300"
                                },
                                {
                                    "SZALL_DATUM": "2015-05-28",
                                    "SZALL_MOD": "NULL",
                                    "(No column name)": "9340"
                                },
                                {
                                    "SZALL_DATUM": "2015-05-29",
                                    "SZALL_MOD": "NULL",
                                    "(No column name)": "10784"
                                },
                                {
                                    "SZALL_DATUM": "2015-05-30",
                                    "SZALL_MOD": "NULL",
                                    "(No column name)": "7763"
                                },
                                {
                                    "SZALL_DATUM": "2015-05-31",
                                    "SZALL_MOD": "NULL",
                                    "(No column name)": "4364"
                                },
                                {
                                    "SZALL_DATUM": "2015-06-01",
                                    "SZALL_MOD": "NULL",
                                    "(No column name)": "6947"
                                },
                                {
                                    "SZALL_DATUM": "2015-06-02",
                                    "SZALL_MOD": "NULL",
                                    "(No column name)": "6241"
                                },
                                {
                                    "SZALL_DATUM": "2015-06-03",
                                    "SZALL_MOD": "NULL",
                                    "(No column name)": "9359"
                                },
                                {
                                    "SZALL_DATUM": "2015-06-04",
                                    "SZALL_MOD": "NULL",
                                    "(No column name)": "8474"
                                },
                                {
                                    "SZALL_DATUM": "2015-06-05",
                                    "SZALL_MOD": "NULL",
                                    "(No column name)": "8961"
                                },
                                {
                                    "SZALL_DATUM": "2015-06-06",
                                    "SZALL_MOD": "NULL",
                                    "(No column name)": "9510"
                                },
                                {
                                    "SZALL_DATUM": "2015-06-07",
                                    "SZALL_MOD": "NULL",
                                    "(No column name)": "7956"
                                },
                                {
                                    "SZALL_DATUM": "2015-06-08",
                                    "SZALL_MOD": "NULL",
                                    "(No column name)": "4277"
                                },
                                {
                                    "SZALL_DATUM": "2015-06-09",
                                    "SZALL_MOD": "NULL",
                                    "(No column name)": "7132"
                                },
                                {
                                    "SZALL_DATUM": "2015-06-10",
                                    "SZALL_MOD": "NULL",
                                    "(No column name)": "9346"
                                },
                                {
                                    "SZALL_DATUM": "2015-06-11",
                                    "SZALL_MOD": "NULL",
                                    "(No column name)": "5191"
                                },
                                {
                                    "SZALL_DATUM": "2015-06-12",
                                    "SZALL_MOD": "NULL",
                                    "(No column name)": "7336"
                                },
                                {
                                    "SZALL_DATUM": "2015-06-13",
                                    "SZALL_MOD": "NULL",
                                    "(No column name)": "7818"
                                },
                                {
                                    "SZALL_DATUM": "2015-06-14",
                                    "SZALL_MOD": "NULL",
                                    "(No column name)": "6484"
                                },
                                {
                                    "SZALL_DATUM": "2015-06-15",
                                    "SZALL_MOD": "NULL",
                                    "(No column name)": "7796"
                                },
                                {
                                    "SZALL_DATUM": "2015-06-16",
                                    "SZALL_MOD": "NULL",
                                    "(No column name)": "4307"
                                },
                                {
                                    "SZALL_DATUM": "2015-06-17",
                                    "SZALL_MOD": "NULL",
                                    "(No column name)": "8645"
                                },
                                {
                                    "SZALL_DATUM": "2015-06-18",
                                    "SZALL_MOD": "NULL",
                                    "(No column name)": "10077"
                                },
                                {
                                    "SZALL_DATUM": "2015-06-19",
                                    "SZALL_MOD": "NULL",
                                    "(No column name)": "5675"
                                },
                                {
                                    "SZALL_DATUM": "2015-06-20",
                                    "SZALL_MOD": "NULL",
                                    "(No column name)": "7859"
                                },
                                {
                                    "SZALL_DATUM": "2015-06-21",
                                    "SZALL_MOD": "NULL",
                                    "(No column name)": "6627"
                                },
                                {
                                    "SZALL_DATUM": "2015-06-22",
                                    "SZALL_MOD": "NULL",
                                    "(No column name)": "9084"
                                },
                                {
                                    "SZALL_DATUM": "2015-06-23",
                                    "SZALL_MOD": "NULL",
                                    "(No column name)": "8869"
                                },
                                {
                                    "SZALL_DATUM": "2015-06-24",
                                    "SZALL_MOD": "NULL",
                                    "(No column name)": "4993"
                                },
                                {
                                    "SZALL_DATUM": "2015-06-25",
                                    "SZALL_MOD": "NULL",
                                    "(No column name)": "8165"
                                },
                                {
                                    "SZALL_DATUM": "2015-06-26",
                                    "SZALL_MOD": "NULL",
                                    "(No column name)": "10834"
                                },
                                {
                                    "SZALL_DATUM": "2015-06-27",
                                    "SZALL_MOD": "NULL",
                                    "(No column name)": "6396"
                                },
                                {
                                    "SZALL_DATUM": "2015-06-28",
                                    "SZALL_MOD": "NULL",
                                    "(No column name)": "6803"
                                },
                                {
                                    "SZALL_DATUM": "2015-06-29",
                                    "SZALL_MOD": "NULL",
                                    "(No column name)": "7435"
                                },
                                {
                                    "SZALL_DATUM": "2015-06-30",
                                    "SZALL_MOD": "NULL",
                                    "(No column name)": "8526"
                                },
                                {
                                    "SZALL_DATUM": "2015-07-01",
                                    "SZALL_MOD": "NULL",
                                    "(No column name)": "6032"
                                },
                                {
                                    "SZALL_DATUM": "2015-07-02",
                                    "SZALL_MOD": "NULL",
                                    "(No column name)": "7066"
                                },
                                {
                                    "SZALL_DATUM": "2015-07-03",
                                    "SZALL_MOD": "NULL",
                                    "(No column name)": "6359"
                                },
                                {
                                    "SZALL_DATUM": "2015-07-04",
                                    "SZALL_MOD": "NULL",
                                    "(No column name)": "8739"
                                },
                                {
                                    "SZALL_DATUM": "2015-07-05",
                                    "SZALL_MOD": "NULL",
                                    "(No column name)": "8558"
                                },
                                {
                                    "SZALL_DATUM": "2015-07-06",
                                    "SZALL_MOD": "NULL",
                                    "(No column name)": "8389"
                                },
                                {
                                    "SZALL_DATUM": "2015-07-07",
                                    "SZALL_MOD": "NULL",
                                    "(No column name)": "9522"
                                },
                                {
                                    "SZALL_DATUM": "2015-07-08",
                                    "SZALL_MOD": "NULL",
                                    "(No column name)": "6395"
                                },
                                {
                                    "SZALL_DATUM": "2015-07-09",
                                    "SZALL_MOD": "NULL",
                                    "(No column name)": "7375"
                                },
                                {
                                    "SZALL_DATUM": "2015-07-10",
                                    "SZALL_MOD": "NULL",
                                    "(No column name)": "7676"
                                },
                                {
                                    "SZALL_DATUM": "2015-07-11",
                                    "SZALL_MOD": "NULL",
                                    "(No column name)": "7366"
                                },
                                {
                                    "SZALL_DATUM": "2015-07-12",
                                    "SZALL_MOD": "NULL",
                                    "(No column name)": "8638"
                                },
                                {
                                    "SZALL_DATUM": "2015-07-13",
                                    "SZALL_MOD": "NULL",
                                    "(No column name)": "8300"
                                },
                                {
                                    "SZALL_DATUM": "2015-07-14",
                                    "SZALL_MOD": "NULL",
                                    "(No column name)": "6340"
                                },
                                {
                                    "SZALL_DATUM": "2015-07-15",
                                    "SZALL_MOD": "NULL",
                                    "(No column name)": "8615"
                                },
                                {
                                    "SZALL_DATUM": "2015-07-16",
                                    "SZALL_MOD": "NULL",
                                    "(No column name)": "7041"
                                },
                                {
                                    "SZALL_DATUM": "2015-07-17",
                                    "SZALL_MOD": "NULL",
                                    "(No column name)": "7327"
                                },
                                {
                                    "SZALL_DATUM": "2015-07-18",
                                    "SZALL_MOD": "NULL",
                                    "(No column name)": "6762"
                                },
                                {
                                    "SZALL_DATUM": "2015-07-19",
                                    "SZALL_MOD": "NULL",
                                    "(No column name)": "6776"
                                },
                                {
                                    "SZALL_DATUM": "2015-07-20",
                                    "SZALL_MOD": "NULL",
                                    "(No column name)": "9748"
                                },
                                {
                                    "SZALL_DATUM": "2015-07-21",
                                    "SZALL_MOD": "NULL",
                                    "(No column name)": "9805"
                                },
                                {
                                    "SZALL_DATUM": "2015-07-22",
                                    "SZALL_MOD": "NULL",
                                    "(No column name)": "5140"
                                },
                                {
                                    "SZALL_DATUM": "2015-07-23",
                                    "SZALL_MOD": "NULL",
                                    "(No column name)": "7258"
                                },
                                {
                                    "SZALL_DATUM": "2015-07-24",
                                    "SZALL_MOD": "NULL",
                                    "(No column name)": "8697"
                                },
                                {
                                    "SZALL_DATUM": "2015-07-25",
                                    "SZALL_MOD": "NULL",
                                    "(No column name)": "8180"
                                },
                                {
                                    "SZALL_DATUM": "2015-07-26",
                                    "SZALL_MOD": "NULL",
                                    "(No column name)": "9323"
                                },
                                {
                                    "SZALL_DATUM": "2015-07-27",
                                    "SZALL_MOD": "NULL",
                                    "(No column name)": "5417"
                                },
                                {
                                    "SZALL_DATUM": "2015-07-28",
                                    "SZALL_MOD": "NULL",
                                    "(No column name)": "7825"
                                },
                                {
                                    "SZALL_DATUM": "2015-07-29",
                                    "SZALL_MOD": "NULL",
                                    "(No column name)": "6405"
                                },
                                {
                                    "SZALL_DATUM": "2015-07-30",
                                    "SZALL_MOD": "NULL",
                                    "(No column name)": "10029"
                                },
                                {
                                    "SZALL_DATUM": "2015-07-31",
                                    "SZALL_MOD": "NULL",
                                    "(No column name)": "8673"
                                },
                                {
                                    "SZALL_DATUM": "2015-08-01",
                                    "SZALL_MOD": "NULL",
                                    "(No column name)": "9957"
                                },
                                {
                                    "SZALL_DATUM": "2015-08-02",
                                    "SZALL_MOD": "NULL",
                                    "(No column name)": "7599"
                                },
                                {
                                    "SZALL_DATUM": "2015-08-03",
                                    "SZALL_MOD": "NULL",
                                    "(No column name)": "9208"
                                },
                                {
                                    "SZALL_DATUM": "2015-08-04",
                                    "SZALL_MOD": "NULL",
                                    "(No column name)": "9353"
                                },
                                {
                                    "SZALL_DATUM": "2015-08-05",
                                    "SZALL_MOD": "NULL",
                                    "(No column name)": "10342"
                                },
                                {
                                    "SZALL_DATUM": "2015-08-06",
                                    "SZALL_MOD": "NULL",
                                    "(No column name)": "5124"
                                },
                                {
                                    "SZALL_DATUM": "2015-08-07",
                                    "SZALL_MOD": "NULL",
                                    "(No column name)": "8960"
                                },
                                {
                                    "SZALL_DATUM": "2015-08-08",
                                    "SZALL_MOD": "NULL",
                                    "(No column name)": "10296"
                                },
                                {
                                    "SZALL_DATUM": "2015-08-09",
                                    "SZALL_MOD": "NULL",
                                    "(No column name)": "6026"
                                },
                                {
                                    "SZALL_DATUM": "2015-08-10",
                                    "SZALL_MOD": "NULL",
                                    "(No column name)": "7896"
                                },
                                {
                                    "SZALL_DATUM": "2015-08-11",
                                    "SZALL_MOD": "NULL",
                                    "(No column name)": "9008"
                                },
                                {
                                    "SZALL_DATUM": "2015-08-12",
                                    "SZALL_MOD": "NULL",
                                    "(No column name)": "7605"
                                },
                                {
                                    "SZALL_DATUM": "2015-08-13",
                                    "SZALL_MOD": "NULL",
                                    "(No column name)": "9380"
                                },
                                {
                                    "SZALL_DATUM": "2015-08-14",
                                    "SZALL_MOD": "NULL",
                                    "(No column name)": "9780"
                                },
                                {
                                    "SZALL_DATUM": "2015-08-15",
                                    "SZALL_MOD": "NULL",
                                    "(No column name)": "7514"
                                },
                                {
                                    "SZALL_DATUM": "2015-08-16",
                                    "SZALL_MOD": "NULL",
                                    "(No column name)": "5341"
                                },
                                {
                                    "SZALL_DATUM": "2015-08-17",
                                    "SZALL_MOD": "NULL",
                                    "(No column name)": "7162"
                                },
                                {
                                    "SZALL_DATUM": "2015-08-18",
                                    "SZALL_MOD": "NULL",
                                    "(No column name)": "6271"
                                },
                                {
                                    "SZALL_DATUM": "2015-08-19",
                                    "SZALL_MOD": "NULL",
                                    "(No column name)": "6650"
                                },
                                {
                                    "SZALL_DATUM": "2015-08-20",
                                    "SZALL_MOD": "NULL",
                                    "(No column name)": "9005"
                                },
                                {
                                    "SZALL_DATUM": "2015-08-21",
                                    "SZALL_MOD": "NULL",
                                    "(No column name)": "6874"
                                },
                                {
                                    "SZALL_DATUM": "2015-08-22",
                                    "SZALL_MOD": "NULL",
                                    "(No column name)": "10138"
                                },
                                {
                                    "SZALL_DATUM": "2015-08-23",
                                    "SZALL_MOD": "NULL",
                                    "(No column name)": "6734"
                                },
                                {
                                    "SZALL_DATUM": "2015-08-24",
                                    "SZALL_MOD": "NULL",
                                    "(No column name)": "7767"
                                },
                                {
                                    "SZALL_DATUM": "2015-08-25",
                                    "SZALL_MOD": "NULL",
                                    "(No column name)": "9206"
                                },
                                {
                                    "SZALL_DATUM": "2015-08-26",
                                    "SZALL_MOD": "NULL",
                                    "(No column name)": "11006"
                                },
                                {
                                    "SZALL_DATUM": "2015-08-27",
                                    "SZALL_MOD": "NULL",
                                    "(No column name)": "6244"
                                },
                                {
                                    "SZALL_DATUM": "2015-08-28",
                                    "SZALL_MOD": "NULL",
                                    "(No column name)": "8145"
                                },
                                {
                                    "SZALL_DATUM": "2015-08-29",
                                    "SZALL_MOD": "NULL",
                                    "(No column name)": "7380"
                                },
                                {
                                    "SZALL_DATUM": "2015-08-30",
                                    "SZALL_MOD": "NULL",
                                    "(No column name)": "9727"
                                },
                                {
                                    "SZALL_DATUM": "2015-08-31",
                                    "SZALL_MOD": "NULL",
                                    "(No column name)": "7226"
                                },
                                {
                                    "SZALL_DATUM": "2015-09-01",
                                    "SZALL_MOD": "NULL",
                                    "(No column name)": "9466"
                                },
                                {
                                    "SZALL_DATUM": "2015-09-02",
                                    "SZALL_MOD": "NULL",
                                    "(No column name)": "6179"
                                },
                                {
                                    "SZALL_DATUM": "2015-09-03",
                                    "SZALL_MOD": "NULL",
                                    "(No column name)": "9949"
                                },
                                {
                                    "SZALL_DATUM": "2015-09-04",
                                    "SZALL_MOD": "NULL",
                                    "(No column name)": "10432"
                                },
                                {
                                    "SZALL_DATUM": "2015-09-05",
                                    "SZALL_MOD": "NULL",
                                    "(No column name)": "7083"
                                },
                                {
                                    "SZALL_DATUM": "2015-09-06",
                                    "SZALL_MOD": "NULL",
                                    "(No column name)": "8378"
                                },
                                {
                                    "SZALL_DATUM": "2015-09-07",
                                    "SZALL_MOD": "NULL",
                                    "(No column name)": "8303"
                                },
                                {
                                    "SZALL_DATUM": "2015-09-08",
                                    "SZALL_MOD": "NULL",
                                    "(No column name)": "8349"
                                },
                                {
                                    "SZALL_DATUM": "2015-09-09",
                                    "SZALL_MOD": "NULL",
                                    "(No column name)": "7985"
                                },
                                {
                                    "SZALL_DATUM": "2015-09-10",
                                    "SZALL_MOD": "NULL",
                                    "(No column name)": "10353"
                                },
                                {
                                    "SZALL_DATUM": "2015-09-11",
                                    "SZALL_MOD": "NULL",
                                    "(No column name)": "9284"
                                },
                                {
                                    "SZALL_DATUM": "2015-09-12",
                                    "SZALL_MOD": "NULL",
                                    "(No column name)": "8553"
                                },
                                {
                                    "SZALL_DATUM": "2015-09-13",
                                    "SZALL_MOD": "NULL",
                                    "(No column name)": "7435"
                                },
                                {
                                    "SZALL_DATUM": "2015-09-14",
                                    "SZALL_MOD": "NULL",
                                    "(No column name)": "8232"
                                },
                                {
                                    "SZALL_DATUM": "2015-09-15",
                                    "SZALL_MOD": "NULL",
                                    "(No column name)": "4776"
                                },
                                {
                                    "SZALL_DATUM": "2015-09-16",
                                    "SZALL_MOD": "NULL",
                                    "(No column name)": "7416"
                                },
                                {
                                    "SZALL_DATUM": "2015-09-17",
                                    "SZALL_MOD": "NULL",
                                    "(No column name)": "8358"
                                },
                                {
                                    "SZALL_DATUM": "2015-09-18",
                                    "SZALL_MOD": "NULL",
                                    "(No column name)": "7210"
                                },
                                {
                                    "SZALL_DATUM": "2015-09-19",
                                    "SZALL_MOD": "NULL",
                                    "(No column name)": "8267"
                                },
                                {
                                    "SZALL_DATUM": "2015-09-20",
                                    "SZALL_MOD": "NULL",
                                    "(No column name)": "10001"
                                },
                                {
                                    "SZALL_DATUM": "2015-09-21",
                                    "SZALL_MOD": "NULL",
                                    "(No column name)": "7086"
                                },
                                {
                                    "SZALL_DATUM": "2015-09-22",
                                    "SZALL_MOD": "NULL",
                                    "(No column name)": "7424"
                                },
                                {
                                    "SZALL_DATUM": "2015-09-23",
                                    "SZALL_MOD": "NULL",
                                    "(No column name)": "8183"
                                },
                                {
                                    "SZALL_DATUM": "2015-09-24",
                                    "SZALL_MOD": "NULL",
                                    "(No column name)": "10252"
                                },
                                {
                                    "SZALL_DATUM": "2015-09-25",
                                    "SZALL_MOD": "NULL",
                                    "(No column name)": "8106"
                                },
                                {
                                    "SZALL_DATUM": "2015-09-26",
                                    "SZALL_MOD": "NULL",
                                    "(No column name)": "9451"
                                },
                                {
                                    "SZALL_DATUM": "2015-09-27",
                                    "SZALL_MOD": "NULL",
                                    "(No column name)": "8692"
                                },
                                {
                                    "SZALL_DATUM": "2015-09-28",
                                    "SZALL_MOD": "NULL",
                                    "(No column name)": "10281"
                                },
                                {
                                    "SZALL_DATUM": "2015-09-29",
                                    "SZALL_MOD": "NULL",
                                    "(No column name)": "9481"
                                },
                                {
                                    "SZALL_DATUM": "2015-09-30",
                                    "SZALL_MOD": "NULL",
                                    "(No column name)": "5900"
                                },
                                {
                                    "SZALL_DATUM": "2015-10-01",
                                    "SZALL_MOD": "NULL",
                                    "(No column name)": "9384"
                                },
                                {
                                    "SZALL_DATUM": "2015-10-02",
                                    "SZALL_MOD": "NULL",
                                    "(No column name)": "5674"
                                },
                                {
                                    "SZALL_DATUM": "2015-10-03",
                                    "SZALL_MOD": "NULL",
                                    "(No column name)": "8509"
                                },
                                {
                                    "SZALL_DATUM": "2015-10-04",
                                    "SZALL_MOD": "NULL",
                                    "(No column name)": "7645"
                                },
                                {
                                    "SZALL_DATUM": "2015-10-05",
                                    "SZALL_MOD": "NULL",
                                    "(No column name)": "8535"
                                },
                                {
                                    "SZALL_DATUM": "2015-10-06",
                                    "SZALL_MOD": "NULL",
                                    "(No column name)": "7529"
                                },
                                {
                                    "SZALL_DATUM": "2015-10-07",
                                    "SZALL_MOD": "NULL",
                                    "(No column name)": "9435"
                                },
                                {
                                    "SZALL_DATUM": "2015-10-08",
                                    "SZALL_MOD": "NULL",
                                    "(No column name)": "7319"
                                },
                                {
                                    "SZALL_DATUM": "2015-10-09",
                                    "SZALL_MOD": "NULL",
                                    "(No column name)": "8931"
                                },
                                {
                                    "SZALL_DATUM": "2015-10-10",
                                    "SZALL_MOD": "NULL",
                                    "(No column name)": "7928"
                                },
                                {
                                    "SZALL_DATUM": "2015-10-11",
                                    "SZALL_MOD": "NULL",
                                    "(No column name)": "7516"
                                },
                                {
                                    "SZALL_DATUM": "2015-10-12",
                                    "SZALL_MOD": "NULL",
                                    "(No column name)": "9355"
                                },
                                {
                                    "SZALL_DATUM": "2015-10-13",
                                    "SZALL_MOD": "NULL",
                                    "(No column name)": "6564"
                                },
                                {
                                    "SZALL_DATUM": "2015-10-14",
                                    "SZALL_MOD": "NULL",
                                    "(No column name)": "7035"
                                },
                                {
                                    "SZALL_DATUM": "2015-10-15",
                                    "SZALL_MOD": "NULL",
                                    "(No column name)": "9269"
                                },
                                {
                                    "SZALL_DATUM": "2015-10-16",
                                    "SZALL_MOD": "NULL",
                                    "(No column name)": "8427"
                                },
                                {
                                    "SZALL_DATUM": "2015-10-17",
                                    "SZALL_MOD": "NULL",
                                    "(No column name)": "6936"
                                },
                                {
                                    "SZALL_DATUM": "2015-10-18",
                                    "SZALL_MOD": "NULL",
                                    "(No column name)": "8671"
                                },
                                {
                                    "SZALL_DATUM": "2015-10-19",
                                    "SZALL_MOD": "NULL",
                                    "(No column name)": "7207"
                                },
                                {
                                    "SZALL_DATUM": "2015-10-20",
                                    "SZALL_MOD": "NULL",
                                    "(No column name)": "8613"
                                },
                                {
                                    "SZALL_DATUM": "2015-10-21",
                                    "SZALL_MOD": "NULL",
                                    "(No column name)": "7366"
                                },
                                {
                                    "SZALL_DATUM": "2015-10-22",
                                    "SZALL_MOD": "NULL",
                                    "(No column name)": "6678"
                                },
                                {
                                    "SZALL_DATUM": "2015-10-23",
                                    "SZALL_MOD": "NULL",
                                    "(No column name)": "8056"
                                },
                                {
                                    "SZALL_DATUM": "2015-10-24",
                                    "SZALL_MOD": "NULL",
                                    "(No column name)": "7233"
                                },
                                {
                                    "SZALL_DATUM": "2015-10-25",
                                    "SZALL_MOD": "NULL",
                                    "(No column name)": "9107"
                                },
                                {
                                    "SZALL_DATUM": "2015-10-26",
                                    "SZALL_MOD": "NULL",
                                    "(No column name)": "9776"
                                },
                                {
                                    "SZALL_DATUM": "2015-10-27",
                                    "SZALL_MOD": "NULL",
                                    "(No column name)": "7669"
                                },
                                {
                                    "SZALL_DATUM": "2015-10-28",
                                    "SZALL_MOD": "NULL",
                                    "(No column name)": "7522"
                                },
                                {
                                    "SZALL_DATUM": "2015-10-29",
                                    "SZALL_MOD": "NULL",
                                    "(No column name)": "6971"
                                },
                                {
                                    "SZALL_DATUM": "2015-10-30",
                                    "SZALL_MOD": "NULL",
                                    "(No column name)": "8999"
                                },
                                {
                                    "SZALL_DATUM": "2015-10-31",
                                    "SZALL_MOD": "NULL",
                                    "(No column name)": "7046"
                                },
                                {
                                    "SZALL_DATUM": "2015-11-01",
                                    "SZALL_MOD": "NULL",
                                    "(No column name)": "6171"
                                },
                                {
                                    "SZALL_DATUM": "2015-11-02",
                                    "SZALL_MOD": "NULL",
                                    "(No column name)": "7612"
                                },
                                {
                                    "SZALL_DATUM": "2015-11-03",
                                    "SZALL_MOD": "NULL",
                                    "(No column name)": "11533"
                                },
                                {
                                    "SZALL_DATUM": "2015-11-04",
                                    "SZALL_MOD": "NULL",
                                    "(No column name)": "5352"
                                },
                                {
                                    "SZALL_DATUM": "2015-11-05",
                                    "SZALL_MOD": "NULL",
                                    "(No column name)": "7183"
                                },
                                {
                                    "SZALL_DATUM": "2015-11-06",
                                    "SZALL_MOD": "NULL",
                                    "(No column name)": "8606"
                                },
                                {
                                    "SZALL_DATUM": "2015-11-07",
                                    "SZALL_MOD": "NULL",
                                    "(No column name)": "7260"
                                },
                                {
                                    "SZALL_DATUM": "2015-11-08",
                                    "SZALL_MOD": "NULL",
                                    "(No column name)": "8177"
                                },
                                {
                                    "SZALL_DATUM": "2015-11-09",
                                    "SZALL_MOD": "NULL",
                                    "(No column name)": "8431"
                                },
                                {
                                    "SZALL_DATUM": "2015-11-10",
                                    "SZALL_MOD": "NULL",
                                    "(No column name)": "8329"
                                },
                                {
                                    "SZALL_DATUM": "2015-11-11",
                                    "SZALL_MOD": "NULL",
                                    "(No column name)": "8191"
                                },
                                {
                                    "SZALL_DATUM": "2015-11-12",
                                    "SZALL_MOD": "NULL",
                                    "(No column name)": "5884"
                                },
                                {
                                    "SZALL_DATUM": "2015-11-13",
                                    "SZALL_MOD": "NULL",
                                    "(No column name)": "7359"
                                },
                                {
                                    "SZALL_DATUM": "2015-11-14",
                                    "SZALL_MOD": "NULL",
                                    "(No column name)": "7730"
                                },
                                {
                                    "SZALL_DATUM": "2015-11-15",
                                    "SZALL_MOD": "NULL",
                                    "(No column name)": "6881"
                                },
                                {
                                    "SZALL_DATUM": "2015-11-16",
                                    "SZALL_MOD": "NULL",
                                    "(No column name)": "7721"
                                },
                                {
                                    "SZALL_DATUM": "2015-11-17",
                                    "SZALL_MOD": "NULL",
                                    "(No column name)": "7234"
                                },
                                {
                                    "SZALL_DATUM": "2015-11-18",
                                    "SZALL_MOD": "NULL",
                                    "(No column name)": "8321"
                                },
                                {
                                    "SZALL_DATUM": "2015-11-19",
                                    "SZALL_MOD": "NULL",
                                    "(No column name)": "7582"
                                },
                                {
                                    "SZALL_DATUM": "2015-11-20",
                                    "SZALL_MOD": "NULL",
                                    "(No column name)": "6288"
                                },
                                {
                                    "SZALL_DATUM": "2015-11-21",
                                    "SZALL_MOD": "NULL",
                                    "(No column name)": "6657"
                                },
                                {
                                    "SZALL_DATUM": "2015-11-22",
                                    "SZALL_MOD": "NULL",
                                    "(No column name)": "8640"
                                },
                                {
                                    "SZALL_DATUM": "2015-11-23",
                                    "SZALL_MOD": "NULL",
                                    "(No column name)": "7363"
                                },
                                {
                                    "SZALL_DATUM": "2015-11-24",
                                    "SZALL_MOD": "NULL",
                                    "(No column name)": "7556"
                                },
                                {
                                    "SZALL_DATUM": "2015-11-25",
                                    "SZALL_MOD": "NULL",
                                    "(No column name)": "7103"
                                },
                                {
                                    "SZALL_DATUM": "2015-11-26",
                                    "SZALL_MOD": "NULL",
                                    "(No column name)": "8368"
                                },
                                {
                                    "SZALL_DATUM": "2015-11-27",
                                    "SZALL_MOD": "NULL",
                                    "(No column name)": "6865"
                                },
                                {
                                    "SZALL_DATUM": "2015-11-28",
                                    "SZALL_MOD": "NULL",
                                    "(No column name)": "10098"
                                },
                                {
                                    "SZALL_DATUM": "2015-11-29",
                                    "SZALL_MOD": "NULL",
                                    "(No column name)": "7636"
                                },
                                {
                                    "SZALL_DATUM": "2015-11-30",
                                    "SZALL_MOD": "NULL",
                                    "(No column name)": "7182"
                                },
                                {
                                    "SZALL_DATUM": "2015-12-01",
                                    "SZALL_MOD": "NULL",
                                    "(No column name)": "7314"
                                },
                                {
                                    "SZALL_DATUM": "2015-12-02",
                                    "SZALL_MOD": "NULL",
                                    "(No column name)": "9592"
                                },
                                {
                                    "SZALL_DATUM": "2015-12-03",
                                    "SZALL_MOD": "NULL",
                                    "(No column name)": "8829"
                                },
                                {
                                    "SZALL_DATUM": "2015-12-04",
                                    "SZALL_MOD": "NULL",
                                    "(No column name)": "8013"
                                },
                                {
                                    "SZALL_DATUM": "2015-12-05",
                                    "SZALL_MOD": "NULL",
                                    "(No column name)": "8887"
                                },
                                {
                                    "SZALL_DATUM": "2015-12-06",
                                    "SZALL_MOD": "NULL",
                                    "(No column name)": "5596"
                                },
                                {
                                    "SZALL_DATUM": "2015-12-07",
                                    "SZALL_MOD": "NULL",
                                    "(No column name)": "8825"
                                },
                                {
                                    "SZALL_DATUM": "2015-12-08",
                                    "SZALL_MOD": "NULL",
                                    "(No column name)": "7819"
                                },
                                {
                                    "SZALL_DATUM": "2015-12-09",
                                    "SZALL_MOD": "NULL",
                                    "(No column name)": "7897"
                                },
                                {
                                    "SZALL_DATUM": "2015-12-10",
                                    "SZALL_MOD": "NULL",
                                    "(No column name)": "9644"
                                },
                                {
                                    "SZALL_DATUM": "2015-12-11",
                                    "SZALL_MOD": "NULL",
                                    "(No column name)": "8093"
                                },
                                {
                                    "SZALL_DATUM": "2015-12-12",
                                    "SZALL_MOD": "NULL",
                                    "(No column name)": "8957"
                                },
                                {
                                    "SZALL_DATUM": "2015-12-13",
                                    "SZALL_MOD": "NULL",
                                    "(No column name)": "7399"
                                },
                                {
                                    "SZALL_DATUM": "2015-12-14",
                                    "SZALL_MOD": "NULL",
                                    "(No column name)": "7676"
                                },
                                {
                                    "SZALL_DATUM": "2015-12-15",
                                    "SZALL_MOD": "NULL",
                                    "(No column name)": "6863"
                                },
                                {
                                    "SZALL_DATUM": "2015-12-16",
                                    "SZALL_MOD": "NULL",
                                    "(No column name)": "7886"
                                },
                                {
                                    "SZALL_DATUM": "2015-12-17",
                                    "SZALL_MOD": "NULL",
                                    "(No column name)": "6894"
                                },
                                {
                                    "SZALL_DATUM": "2015-12-18",
                                    "SZALL_MOD": "NULL",
                                    "(No column name)": "12260"
                                },
                                {
                                    "SZALL_DATUM": "2015-12-19",
                                    "SZALL_MOD": "NULL",
                                    "(No column name)": "5788"
                                },
                                {
                                    "SZALL_DATUM": "2015-12-20",
                                    "SZALL_MOD": "NULL",
                                    "(No column name)": "8699"
                                },
                                {
                                    "SZALL_DATUM": "2015-12-21",
                                    "SZALL_MOD": "NULL",
                                    "(No column name)": "6630"
                                },
                                {
                                    "SZALL_DATUM": "2015-12-22",
                                    "SZALL_MOD": "NULL",
                                    "(No column name)": "9212"
                                },
                                {
                                    "SZALL_DATUM": "2015-12-23",
                                    "SZALL_MOD": "NULL",
                                    "(No column name)": "6676"
                                },
                                {
                                    "SZALL_DATUM": "2015-12-24",
                                    "SZALL_MOD": "NULL",
                                    "(No column name)": "8869"
                                },
                                {
                                    "SZALL_DATUM": "2015-12-25",
                                    "SZALL_MOD": "NULL",
                                    "(No column name)": "6944"
                                },
                                {
                                    "SZALL_DATUM": "2015-12-26",
                                    "SZALL_MOD": "NULL",
                                    "(No column name)": "8921"
                                },
                                {
                                    "SZALL_DATUM": "2015-12-27",
                                    "SZALL_MOD": "NULL",
                                    "(No column name)": "7648"
                                },
                                {
                                    "SZALL_DATUM": "2015-12-28",
                                    "SZALL_MOD": "NULL",
                                    "(No column name)": "8042"
                                },
                                {
                                    "SZALL_DATUM": "2015-12-29",
                                    "SZALL_MOD": "NULL",
                                    "(No column name)": "7923"
                                },
                                {
                                    "SZALL_DATUM": "2015-12-30",
                                    "SZALL_MOD": "NULL",
                                    "(No column name)": "6562"
                                },
                                {
                                    "SZALL_DATUM": "2015-12-31",
                                    "SZALL_MOD": "NULL",
                                    "(No column name)": "7021"
                                },
                                {
                                    "SZALL_DATUM": "2016-01-01",
                                    "SZALL_MOD": "NULL",
                                    "(No column name)": "8837"
                                },
                                {
                                    "SZALL_DATUM": "2016-01-02",
                                    "SZALL_MOD": "NULL",
                                    "(No column name)": "7518"
                                },
                                {
                                    "SZALL_DATUM": "2016-01-03",
                                    "SZALL_MOD": "NULL",
                                    "(No column name)": "8422"
                                },
                                {
                                    "SZALL_DATUM": "2016-01-04",
                                    "SZALL_MOD": "NULL",
                                    "(No column name)": "8813"
                                },
                                {
                                    "SZALL_DATUM": "2016-01-05",
                                    "SZALL_MOD": "NULL",
                                    "(No column name)": "6895"
                                },
                                {
                                    "SZALL_DATUM": "2016-01-06",
                                    "SZALL_MOD": "NULL",
                                    "(No column name)": "6716"
                                },
                                {
                                    "SZALL_DATUM": "2016-01-07",
                                    "SZALL_MOD": "NULL",
                                    "(No column name)": "5593"
                                },
                                {
                                    "SZALL_DATUM": "2016-01-08",
                                    "SZALL_MOD": "NULL",
                                    "(No column name)": "9534"
                                },
                                {
                                    "SZALL_DATUM": "2016-01-09",
                                    "SZALL_MOD": "NULL",
                                    "(No column name)": "7056"
                                },
                                {
                                    "SZALL_DATUM": "2016-01-10",
                                    "SZALL_MOD": "NULL",
                                    "(No column name)": "8057"
                                },
                                {
                                    "SZALL_DATUM": "2016-01-11",
                                    "SZALL_MOD": "NULL",
                                    "(No column name)": "6734"
                                },
                                {
                                    "SZALL_DATUM": "2016-01-12",
                                    "SZALL_MOD": "NULL",
                                    "(No column name)": "6949"
                                },
                                {
                                    "SZALL_DATUM": "2016-01-13",
                                    "SZALL_MOD": "NULL",
                                    "(No column name)": "7487"
                                },
                                {
                                    "SZALL_DATUM": "2016-01-14",
                                    "SZALL_MOD": "NULL",
                                    "(No column name)": "8998"
                                },
                                {
                                    "SZALL_DATUM": "2016-01-15",
                                    "SZALL_MOD": "NULL",
                                    "(No column name)": "9345"
                                },
                                {
                                    "SZALL_DATUM": "2016-01-16",
                                    "SZALL_MOD": "NULL",
                                    "(No column name)": "8068"
                                },
                                {
                                    "SZALL_DATUM": "2016-01-17",
                                    "SZALL_MOD": "NULL",
                                    "(No column name)": "6954"
                                },
                                {
                                    "SZALL_DATUM": "2016-01-18",
                                    "SZALL_MOD": "NULL",
                                    "(No column name)": "4416"
                                },
                                {
                                    "SZALL_DATUM": "2016-01-19",
                                    "SZALL_MOD": "NULL",
                                    "(No column name)": "7124"
                                },
                                {
                                    "SZALL_DATUM": "2016-01-20",
                                    "SZALL_MOD": "NULL",
                                    "(No column name)": "8568"
                                },
                                {
                                    "SZALL_DATUM": "2016-01-21",
                                    "SZALL_MOD": "NULL",
                                    "(No column name)": "10953"
                                },
                                {
                                    "SZALL_DATUM": "2016-01-22",
                                    "SZALL_MOD": "NULL",
                                    "(No column name)": "8588"
                                },
                                {
                                    "SZALL_DATUM": "2016-01-23",
                                    "SZALL_MOD": "NULL",
                                    "(No column name)": "6512"
                                },
                                {
                                    "SZALL_DATUM": "2016-01-24",
                                    "SZALL_MOD": "NULL",
                                    "(No column name)": "8898"
                                },
                                {
                                    "SZALL_DATUM": "2016-01-25",
                                    "SZALL_MOD": "NULL",
                                    "(No column name)": "5191"
                                },
                                {
                                    "SZALL_DATUM": "2016-01-26",
                                    "SZALL_MOD": "NULL",
                                    "(No column name)": "5293"
                                },
                                {
                                    "SZALL_DATUM": "2016-01-27",
                                    "SZALL_MOD": "NULL",
                                    "(No column name)": "6513"
                                },
                                {
                                    "SZALL_DATUM": "2016-01-28",
                                    "SZALL_MOD": "NULL",
                                    "(No column name)": "8119"
                                },
                                {
                                    "SZALL_DATUM": "2016-01-29",
                                    "SZALL_MOD": "NULL",
                                    "(No column name)": "6658"
                                },
                                {
                                    "SZALL_DATUM": "2016-01-30",
                                    "SZALL_MOD": "NULL",
                                    "(No column name)": "8727"
                                },
                                {
                                    "SZALL_DATUM": "2016-01-31",
                                    "SZALL_MOD": "NULL",
                                    "(No column name)": "7527"
                                },
                                {
                                    "SZALL_DATUM": "2016-02-01",
                                    "SZALL_MOD": "NULL",
                                    "(No column name)": "9120"
                                },
                                {
                                    "SZALL_DATUM": "2016-02-02",
                                    "SZALL_MOD": "NULL",
                                    "(No column name)": "8088"
                                },
                                {
                                    "SZALL_DATUM": "2016-02-03",
                                    "SZALL_MOD": "NULL",
                                    "(No column name)": "9306"
                                },
                                {
                                    "SZALL_DATUM": "2016-02-04",
                                    "SZALL_MOD": "NULL",
                                    "(No column name)": "7994"
                                },
                                {
                                    "SZALL_DATUM": "2016-02-05",
                                    "SZALL_MOD": "NULL",
                                    "(No column name)": "9703"
                                },
                                {
                                    "SZALL_DATUM": "2016-02-06",
                                    "SZALL_MOD": "NULL",
                                    "(No column name)": "9860"
                                },
                                {
                                    "SZALL_DATUM": "2016-02-07",
                                    "SZALL_MOD": "NULL",
                                    "(No column name)": "6630"
                                },
                                {
                                    "SZALL_DATUM": "2016-02-08",
                                    "SZALL_MOD": "NULL",
                                    "(No column name)": "10093"
                                },
                                {
                                    "SZALL_DATUM": "2016-02-09",
                                    "SZALL_MOD": "NULL",
                                    "(No column name)": "9706"
                                },
                                {
                                    "SZALL_DATUM": "2016-02-10",
                                    "SZALL_MOD": "NULL",
                                    "(No column name)": "8520"
                                },
                                {
                                    "SZALL_DATUM": "2016-02-11",
                                    "SZALL_MOD": "NULL",
                                    "(No column name)": "7094"
                                },
                                {
                                    "SZALL_DATUM": "2016-02-12",
                                    "SZALL_MOD": "NULL",
                                    "(No column name)": "7789"
                                },
                                {
                                    "SZALL_DATUM": "2016-02-13",
                                    "SZALL_MOD": "NULL",
                                    "(No column name)": "7991"
                                },
                                {
                                    "SZALL_DATUM": "2016-02-14",
                                    "SZALL_MOD": "NULL",
                                    "(No column name)": "8049"
                                },
                                {
                                    "SZALL_DATUM": "2016-02-15",
                                    "SZALL_MOD": "NULL",
                                    "(No column name)": "10033"
                                },
                                {
                                    "SZALL_DATUM": "2016-02-16",
                                    "SZALL_MOD": "NULL",
                                    "(No column name)": "8049"
                                },
                                {
                                    "SZALL_DATUM": "2016-02-17",
                                    "SZALL_MOD": "NULL",
                                    "(No column name)": "9586"
                                },
                                {
                                    "SZALL_DATUM": "2016-02-18",
                                    "SZALL_MOD": "NULL",
                                    "(No column name)": "5922"
                                },
                                {
                                    "SZALL_DATUM": "2016-02-19",
                                    "SZALL_MOD": "NULL",
                                    "(No column name)": "8898"
                                },
                                {
                                    "SZALL_DATUM": "2016-02-20",
                                    "SZALL_MOD": "NULL",
                                    "(No column name)": "7549"
                                },
                                {
                                    "SZALL_DATUM": "2016-02-21",
                                    "SZALL_MOD": "NULL",
                                    "(No column name)": "6531"
                                },
                                {
                                    "SZALL_DATUM": "2016-02-22",
                                    "SZALL_MOD": "NULL",
                                    "(No column name)": "8724"
                                },
                                {
                                    "SZALL_DATUM": "2016-02-23",
                                    "SZALL_MOD": "NULL",
                                    "(No column name)": "6959"
                                },
                                {
                                    "SZALL_DATUM": "2016-02-24",
                                    "SZALL_MOD": "NULL",
                                    "(No column name)": "6314"
                                },
                                {
                                    "SZALL_DATUM": "2016-02-25",
                                    "SZALL_MOD": "NULL",
                                    "(No column name)": "7324"
                                },
                                {
                                    "SZALL_DATUM": "2016-02-26",
                                    "SZALL_MOD": "NULL",
                                    "(No column name)": "8466"
                                },
                                {
                                    "SZALL_DATUM": "2016-02-27",
                                    "SZALL_MOD": "NULL",
                                    "(No column name)": "7122"
                                },
                                {
                                    "SZALL_DATUM": "2016-02-28",
                                    "SZALL_MOD": "NULL",
                                    "(No column name)": "8447"
                                },
                                {
                                    "SZALL_DATUM": "2016-02-29",
                                    "SZALL_MOD": "NULL",
                                    "(No column name)": "8516"
                                },
                                {
                                    "SZALL_DATUM": "2016-03-01",
                                    "SZALL_MOD": "NULL",
                                    "(No column name)": "9654"
                                },
                                {
                                    "SZALL_DATUM": "2016-03-02",
                                    "SZALL_MOD": "NULL",
                                    "(No column name)": "7282"
                                },
                                {
                                    "SZALL_DATUM": "2016-03-03",
                                    "SZALL_MOD": "NULL",
                                    "(No column name)": "8853"
                                },
                                {
                                    "SZALL_DATUM": "2016-03-04",
                                    "SZALL_MOD": "NULL",
                                    "(No column name)": "8549"
                                },
                                {
                                    "SZALL_DATUM": "2016-03-05",
                                    "SZALL_MOD": "NULL",
                                    "(No column name)": "9463"
                                },
                                {
                                    "SZALL_DATUM": "2016-03-06",
                                    "SZALL_MOD": "NULL",
                                    "(No column name)": "7740"
                                },
                                {
                                    "SZALL_DATUM": "2016-03-07",
                                    "SZALL_MOD": "NULL",
                                    "(No column name)": "7680"
                                },
                                {
                                    "SZALL_DATUM": "2016-03-08",
                                    "SZALL_MOD": "NULL",
                                    "(No column name)": "5849"
                                },
                                {
                                    "SZALL_DATUM": "2016-03-09",
                                    "SZALL_MOD": "NULL",
                                    "(No column name)": "9412"
                                },
                                {
                                    "SZALL_DATUM": "2016-03-10",
                                    "SZALL_MOD": "NULL",
                                    "(No column name)": "8848"
                                },
                                {
                                    "SZALL_DATUM": "2016-03-11",
                                    "SZALL_MOD": "NULL",
                                    "(No column name)": "6193"
                                },
                                {
                                    "SZALL_DATUM": "2016-03-12",
                                    "SZALL_MOD": "NULL",
                                    "(No column name)": "10487"
                                },
                                {
                                    "SZALL_DATUM": "2016-03-13",
                                    "SZALL_MOD": "NULL",
                                    "(No column name)": "5913"
                                },
                                {
                                    "SZALL_DATUM": "2016-03-14",
                                    "SZALL_MOD": "NULL",
                                    "(No column name)": "9336"
                                },
                                {
                                    "SZALL_DATUM": "2016-03-15",
                                    "SZALL_MOD": "NULL",
                                    "(No column name)": "8180"
                                },
                                {
                                    "SZALL_DATUM": "2016-03-16",
                                    "SZALL_MOD": "NULL",
                                    "(No column name)": "7448"
                                },
                                {
                                    "SZALL_DATUM": "2016-03-17",
                                    "SZALL_MOD": "NULL",
                                    "(No column name)": "7770"
                                },
                                {
                                    "SZALL_DATUM": "2016-03-18",
                                    "SZALL_MOD": "NULL",
                                    "(No column name)": "6927"
                                },
                                {
                                    "SZALL_DATUM": "2016-03-19",
                                    "SZALL_MOD": "NULL",
                                    "(No column name)": "7827"
                                },
                                {
                                    "SZALL_DATUM": "2016-03-20",
                                    "SZALL_MOD": "NULL",
                                    "(No column name)": "12190"
                                },
                                {
                                    "SZALL_DATUM": "2016-03-21",
                                    "SZALL_MOD": "NULL",
                                    "(No column name)": "11075"
                                },
                                {
                                    "SZALL_DATUM": "2016-03-22",
                                    "SZALL_MOD": "NULL",
                                    "(No column name)": "7770"
                                },
                                {
                                    "SZALL_DATUM": "2016-03-23",
                                    "SZALL_MOD": "NULL",
                                    "(No column name)": "6397"
                                },
                                {
                                    "SZALL_DATUM": "2016-03-24",
                                    "SZALL_MOD": "NULL",
                                    "(No column name)": "7220"
                                },
                                {
                                    "SZALL_DATUM": "2016-03-25",
                                    "SZALL_MOD": "NULL",
                                    "(No column name)": "8763"
                                },
                                {
                                    "SZALL_DATUM": "2016-03-26",
                                    "SZALL_MOD": "NULL",
                                    "(No column name)": "9893"
                                },
                                {
                                    "SZALL_DATUM": "2016-03-27",
                                    "SZALL_MOD": "NULL",
                                    "(No column name)": "8950"
                                },
                                {
                                    "SZALL_DATUM": "2016-03-28",
                                    "SZALL_MOD": "NULL",
                                    "(No column name)": "7552"
                                },
                                {
                                    "SZALL_DATUM": "2016-03-29",
                                    "SZALL_MOD": "NULL",
                                    "(No column name)": "7416"
                                },
                                {
                                    "SZALL_DATUM": "2016-03-30",
                                    "SZALL_MOD": "NULL",
                                    "(No column name)": "8631"
                                },
                                {
                                    "SZALL_DATUM": "2016-03-31",
                                    "SZALL_MOD": "NULL",
                                    "(No column name)": "6885"
                                },
                                {
                                    "SZALL_DATUM": "2016-04-01",
                                    "SZALL_MOD": "NULL",
                                    "(No column name)": "8756"
                                },
                                {
                                    "SZALL_DATUM": "2016-04-02",
                                    "SZALL_MOD": "NULL",
                                    "(No column name)": "8073"
                                },
                                {
                                    "SZALL_DATUM": "2016-04-03",
                                    "SZALL_MOD": "NULL",
                                    "(No column name)": "5897"
                                },
                                {
                                    "SZALL_DATUM": "2016-04-04",
                                    "SZALL_MOD": "NULL",
                                    "(No column name)": "7405"
                                },
                                {
                                    "SZALL_DATUM": "2016-04-05",
                                    "SZALL_MOD": "NULL",
                                    "(No column name)": "8092"
                                },
                                {
                                    "SZALL_DATUM": "2016-04-06",
                                    "SZALL_MOD": "NULL",
                                    "(No column name)": "7458"
                                },
                                {
                                    "SZALL_DATUM": "2016-04-07",
                                    "SZALL_MOD": "NULL",
                                    "(No column name)": "9216"
                                },
                                {
                                    "SZALL_DATUM": "2016-04-08",
                                    "SZALL_MOD": "NULL",
                                    "(No column name)": "10889"
                                },
                                {
                                    "SZALL_DATUM": "2016-04-09",
                                    "SZALL_MOD": "NULL",
                                    "(No column name)": "9754"
                                },
                                {
                                    "SZALL_DATUM": "2016-04-10",
                                    "SZALL_MOD": "NULL",
                                    "(No column name)": "9878"
                                },
                                {
                                    "SZALL_DATUM": "2016-04-11",
                                    "SZALL_MOD": "NULL",
                                    "(No column name)": "8948"
                                },
                                {
                                    "SZALL_DATUM": "2016-04-12",
                                    "SZALL_MOD": "NULL",
                                    "(No column name)": "7144"
                                },
                                {
                                    "SZALL_DATUM": "2016-04-13",
                                    "SZALL_MOD": "NULL",
                                    "(No column name)": "7728"
                                },
                                {
                                    "SZALL_DATUM": "2016-04-14",
                                    "SZALL_MOD": "NULL",
                                    "(No column name)": "8805"
                                },
                                {
                                    "SZALL_DATUM": "2016-04-15",
                                    "SZALL_MOD": "NULL",
                                    "(No column name)": "8331"
                                },
                                {
                                    "SZALL_DATUM": "2016-04-16",
                                    "SZALL_MOD": "NULL",
                                    "(No column name)": "8755"
                                },
                                {
                                    "SZALL_DATUM": "2016-04-17",
                                    "SZALL_MOD": "NULL",
                                    "(No column name)": "10267"
                                },
                                {
                                    "SZALL_DATUM": "2016-04-18",
                                    "SZALL_MOD": "NULL",
                                    "(No column name)": "7586"
                                },
                                {
                                    "SZALL_DATUM": "2016-04-19",
                                    "SZALL_MOD": "NULL",
                                    "(No column name)": "9190"
                                },
                                {
                                    "SZALL_DATUM": "2016-04-20",
                                    "SZALL_MOD": "NULL",
                                    "(No column name)": "6584"
                                },
                                {
                                    "SZALL_DATUM": "2016-04-21",
                                    "SZALL_MOD": "NULL",
                                    "(No column name)": "6628"
                                },
                                {
                                    "SZALL_DATUM": "2016-04-22",
                                    "SZALL_MOD": "NULL",
                                    "(No column name)": "6502"
                                },
                                {
                                    "SZALL_DATUM": "2016-04-23",
                                    "SZALL_MOD": "NULL",
                                    "(No column name)": "6588"
                                },
                                {
                                    "SZALL_DATUM": "2016-04-24",
                                    "SZALL_MOD": "NULL",
                                    "(No column name)": "9512"
                                },
                                {
                                    "SZALL_DATUM": "2016-04-25",
                                    "SZALL_MOD": "NULL",
                                    "(No column name)": "10177"
                                },
                                {
                                    "SZALL_DATUM": "2016-04-26",
                                    "SZALL_MOD": "NULL",
                                    "(No column name)": "7946"
                                },
                                {
                                    "SZALL_DATUM": "2016-04-27",
                                    "SZALL_MOD": "NULL",
                                    "(No column name)": "8344"
                                },
                                {
                                    "SZALL_DATUM": "2016-04-28",
                                    "SZALL_MOD": "NULL",
                                    "(No column name)": "7732"
                                },
                                {
                                    "SZALL_DATUM": "2016-04-29",
                                    "SZALL_MOD": "NULL",
                                    "(No column name)": "7870"
                                },
                                {
                                    "SZALL_DATUM": "2016-04-30",
                                    "SZALL_MOD": "NULL",
                                    "(No column name)": "7898"
                                },
                                {
                                    "SZALL_DATUM": "2016-05-01",
                                    "SZALL_MOD": "NULL",
                                    "(No column name)": "6600"
                                },
                                {
                                    "SZALL_DATUM": "2016-05-02",
                                    "SZALL_MOD": "NULL",
                                    "(No column name)": "8142"
                                },
                                {
                                    "SZALL_DATUM": "2016-05-03",
                                    "SZALL_MOD": "NULL",
                                    "(No column name)": "5084"
                                },
                                {
                                    "SZALL_DATUM": "2016-05-04",
                                    "SZALL_MOD": "NULL",
                                    "(No column name)": "9125"
                                },
                                {
                                    "SZALL_DATUM": "2016-05-05",
                                    "SZALL_MOD": "NULL",
                                    "(No column name)": "7845"
                                },
                                {
                                    "SZALL_DATUM": "2016-05-06",
                                    "SZALL_MOD": "NULL",
                                    "(No column name)": "7969"
                                },
                                {
                                    "SZALL_DATUM": "2016-05-07",
                                    "SZALL_MOD": "NULL",
                                    "(No column name)": "8896"
                                },
                                {
                                    "SZALL_DATUM": "2016-05-08",
                                    "SZALL_MOD": "NULL",
                                    "(No column name)": "7858"
                                },
                                {
                                    "SZALL_DATUM": "2016-05-09",
                                    "SZALL_MOD": "NULL",
                                    "(No column name)": "11178"
                                },
                                {
                                    "SZALL_DATUM": "2016-05-10",
                                    "SZALL_MOD": "NULL",
                                    "(No column name)": "8968"
                                },
                                {
                                    "SZALL_DATUM": "2016-05-11",
                                    "SZALL_MOD": "NULL",
                                    "(No column name)": "8132"
                                },
                                {
                                    "SZALL_DATUM": "2016-05-12",
                                    "SZALL_MOD": "NULL",
                                    "(No column name)": "8095"
                                },
                                {
                                    "SZALL_DATUM": "2016-05-13",
                                    "SZALL_MOD": "NULL",
                                    "(No column name)": "8089"
                                },
                                {
                                    "SZALL_DATUM": "2016-05-14",
                                    "SZALL_MOD": "NULL",
                                    "(No column name)": "7722"
                                },
                                {
                                    "SZALL_DATUM": "2016-05-15",
                                    "SZALL_MOD": "NULL",
                                    "(No column name)": "5490"
                                },
                                {
                                    "SZALL_DATUM": "2016-05-16",
                                    "SZALL_MOD": "NULL",
                                    "(No column name)": "7944"
                                },
                                {
                                    "SZALL_DATUM": "2016-05-17",
                                    "SZALL_MOD": "NULL",
                                    "(No column name)": "8888"
                                },
                                {
                                    "SZALL_DATUM": "2016-05-18",
                                    "SZALL_MOD": "NULL",
                                    "(No column name)": "5720"
                                },
                                {
                                    "SZALL_DATUM": "2016-05-19",
                                    "SZALL_MOD": "NULL",
                                    "(No column name)": "7578"
                                },
                                {
                                    "SZALL_DATUM": "2016-05-20",
                                    "SZALL_MOD": "NULL",
                                    "(No column name)": "8879"
                                },
                                {
                                    "SZALL_DATUM": "2016-05-21",
                                    "SZALL_MOD": "NULL",
                                    "(No column name)": "9030"
                                },
                                {
                                    "SZALL_DATUM": "2016-05-22",
                                    "SZALL_MOD": "NULL",
                                    "(No column name)": "4914"
                                },
                                {
                                    "SZALL_DATUM": "2016-05-23",
                                    "SZALL_MOD": "NULL",
                                    "(No column name)": "8577"
                                },
                                {
                                    "SZALL_DATUM": "2016-05-24",
                                    "SZALL_MOD": "NULL",
                                    "(No column name)": "8816"
                                },
                                {
                                    "SZALL_DATUM": "2016-05-25",
                                    "SZALL_MOD": "NULL",
                                    "(No column name)": "9296"
                                },
                                {
                                    "SZALL_DATUM": "2016-05-26",
                                    "SZALL_MOD": "NULL",
                                    "(No column name)": "5287"
                                },
                                {
                                    "SZALL_DATUM": "2016-05-27",
                                    "SZALL_MOD": "NULL",
                                    "(No column name)": "9701"
                                },
                                {
                                    "SZALL_DATUM": "2016-05-28",
                                    "SZALL_MOD": "NULL",
                                    "(No column name)": "6509"
                                },
                                {
                                    "SZALL_DATUM": "2016-05-29",
                                    "SZALL_MOD": "NULL",
                                    "(No column name)": "9450"
                                },
                                {
                                    "SZALL_DATUM": "2016-05-30",
                                    "SZALL_MOD": "NULL",
                                    "(No column name)": "6884"
                                },
                                {
                                    "SZALL_DATUM": "2016-05-31",
                                    "SZALL_MOD": "NULL",
                                    "(No column name)": "10007"
                                },
                                {
                                    "SZALL_DATUM": "2016-06-01",
                                    "SZALL_MOD": "NULL",
                                    "(No column name)": "8484"
                                },
                                {
                                    "SZALL_DATUM": "2016-06-02",
                                    "SZALL_MOD": "NULL",
                                    "(No column name)": "6928"
                                },
                                {
                                    "SZALL_DATUM": "2016-06-03",
                                    "SZALL_MOD": "NULL",
                                    "(No column name)": "6567"
                                },
                                {
                                    "SZALL_DATUM": "2016-06-04",
                                    "SZALL_MOD": "NULL",
                                    "(No column name)": "7904"
                                },
                                {
                                    "SZALL_DATUM": "2016-06-05",
                                    "SZALL_MOD": "NULL",
                                    "(No column name)": "5802"
                                },
                                {
                                    "SZALL_DATUM": "2016-06-06",
                                    "SZALL_MOD": "NULL",
                                    "(No column name)": "9474"
                                },
                                {
                                    "SZALL_DATUM": "2016-06-07",
                                    "SZALL_MOD": "NULL",
                                    "(No column name)": "8722"
                                },
                                {
                                    "SZALL_DATUM": "2016-06-08",
                                    "SZALL_MOD": "NULL",
                                    "(No column name)": "7019"
                                },
                                {
                                    "SZALL_DATUM": "2016-06-09",
                                    "SZALL_MOD": "NULL",
                                    "(No column name)": "7354"
                                },
                                {
                                    "SZALL_DATUM": "2016-06-10",
                                    "SZALL_MOD": "NULL",
                                    "(No column name)": "8873"
                                },
                                {
                                    "SZALL_DATUM": "2016-06-11",
                                    "SZALL_MOD": "NULL",
                                    "(No column name)": "9217"
                                },
                                {
                                    "SZALL_DATUM": "2016-06-12",
                                    "SZALL_MOD": "NULL",
                                    "(No column name)": "9418"
                                },
                                {
                                    "SZALL_DATUM": "2016-06-13",
                                    "SZALL_MOD": "NULL",
                                    "(No column name)": "6407"
                                },
                                {
                                    "SZALL_DATUM": "2016-06-14",
                                    "SZALL_MOD": "NULL",
                                    "(No column name)": "7968"
                                },
                                {
                                    "SZALL_DATUM": "2016-06-15",
                                    "SZALL_MOD": "NULL",
                                    "(No column name)": "8830"
                                },
                                {
                                    "SZALL_DATUM": "2016-06-16",
                                    "SZALL_MOD": "NULL",
                                    "(No column name)": "6462"
                                },
                                {
                                    "SZALL_DATUM": "2016-06-17",
                                    "SZALL_MOD": "NULL",
                                    "(No column name)": "9189"
                                },
                                {
                                    "SZALL_DATUM": "2016-06-18",
                                    "SZALL_MOD": "NULL",
                                    "(No column name)": "6311"
                                },
                                {
                                    "SZALL_DATUM": "2016-06-19",
                                    "SZALL_MOD": "NULL",
                                    "(No column name)": "8834"
                                },
                                {
                                    "SZALL_DATUM": "2016-06-20",
                                    "SZALL_MOD": "NULL",
                                    "(No column name)": "8005"
                                },
                                {
                                    "SZALL_DATUM": "2016-06-21",
                                    "SZALL_MOD": "NULL",
                                    "(No column name)": "6482"
                                },
                                {
                                    "SZALL_DATUM": "2016-06-22",
                                    "SZALL_MOD": "NULL",
                                    "(No column name)": "6541"
                                },
                                {
                                    "SZALL_DATUM": "2016-06-23",
                                    "SZALL_MOD": "NULL",
                                    "(No column name)": "6662"
                                },
                                {
                                    "SZALL_DATUM": "2016-06-24",
                                    "SZALL_MOD": "NULL",
                                    "(No column name)": "8530"
                                },
                                {
                                    "SZALL_DATUM": "2016-06-25",
                                    "SZALL_MOD": "NULL",
                                    "(No column name)": "8262"
                                },
                                {
                                    "SZALL_DATUM": "2016-06-26",
                                    "SZALL_MOD": "NULL",
                                    "(No column name)": "10488"
                                },
                                {
                                    "SZALL_DATUM": "2016-06-27",
                                    "SZALL_MOD": "NULL",
                                    "(No column name)": "5541"
                                },
                                {
                                    "SZALL_DATUM": "2016-06-28",
                                    "SZALL_MOD": "NULL",
                                    "(No column name)": "10267"
                                },
                                {
                                    "SZALL_DATUM": "2016-06-29",
                                    "SZALL_MOD": "NULL",
                                    "(No column name)": "9869"
                                },
                                {
                                    "SZALL_DATUM": "2016-06-30",
                                    "SZALL_MOD": "NULL",
                                    "(No column name)": "9437"
                                },
                                {
                                    "SZALL_DATUM": "2016-07-01",
                                    "SZALL_MOD": "NULL",
                                    "(No column name)": "5916"
                                },
                                {
                                    "SZALL_DATUM": "2016-07-02",
                                    "SZALL_MOD": "NULL",
                                    "(No column name)": "6710"
                                },
                                {
                                    "SZALL_DATUM": "2016-07-03",
                                    "SZALL_MOD": "NULL",
                                    "(No column name)": "9081"
                                },
                                {
                                    "SZALL_DATUM": "2016-07-04",
                                    "SZALL_MOD": "NULL",
                                    "(No column name)": "10816"
                                },
                                {
                                    "SZALL_DATUM": "2016-07-05",
                                    "SZALL_MOD": "NULL",
                                    "(No column name)": "8863"
                                },
                                {
                                    "SZALL_DATUM": "2016-07-06",
                                    "SZALL_MOD": "NULL",
                                    "(No column name)": "7283"
                                },
                                {
                                    "SZALL_DATUM": "2016-07-07",
                                    "SZALL_MOD": "NULL",
                                    "(No column name)": "5922"
                                },
                                {
                                    "SZALL_DATUM": "2016-07-08",
                                    "SZALL_MOD": "NULL",
                                    "(No column name)": "7968"
                                },
                                {
                                    "SZALL_DATUM": "2016-07-09",
                                    "SZALL_MOD": "NULL",
                                    "(No column name)": "9112"
                                },
                                {
                                    "SZALL_DATUM": "2016-07-10",
                                    "SZALL_MOD": "NULL",
                                    "(No column name)": "7494"
                                },
                                {
                                    "SZALL_DATUM": "2016-07-11",
                                    "SZALL_MOD": "NULL",
                                    "(No column name)": "10358"
                                },
                                {
                                    "SZALL_DATUM": "2016-07-12",
                                    "SZALL_MOD": "NULL",
                                    "(No column name)": "8519"
                                },
                                {
                                    "SZALL_DATUM": "2016-07-13",
                                    "SZALL_MOD": "NULL",
                                    "(No column name)": "8721"
                                },
                                {
                                    "SZALL_DATUM": "2016-07-14",
                                    "SZALL_MOD": "NULL",
                                    "(No column name)": "7363"
                                },
                                {
                                    "SZALL_DATUM": "2016-07-15",
                                    "SZALL_MOD": "NULL",
                                    "(No column name)": "7066"
                                },
                                {
                                    "SZALL_DATUM": "2016-07-16",
                                    "SZALL_MOD": "NULL",
                                    "(No column name)": "8298"
                                },
                                {
                                    "SZALL_DATUM": "2016-07-17",
                                    "SZALL_MOD": "NULL",
                                    "(No column name)": "6320"
                                },
                                {
                                    "SZALL_DATUM": "2016-07-18",
                                    "SZALL_MOD": "NULL",
                                    "(No column name)": "8573"
                                },
                                {
                                    "SZALL_DATUM": "2016-07-19",
                                    "SZALL_MOD": "NULL",
                                    "(No column name)": "9023"
                                },
                                {
                                    "SZALL_DATUM": "2016-07-20",
                                    "SZALL_MOD": "NULL",
                                    "(No column name)": "7415"
                                },
                                {
                                    "SZALL_DATUM": "2016-07-21",
                                    "SZALL_MOD": "NULL",
                                    "(No column name)": "7484"
                                },
                                {
                                    "SZALL_DATUM": "2016-07-22",
                                    "SZALL_MOD": "NULL",
                                    "(No column name)": "7412"
                                },
                                {
                                    "SZALL_DATUM": "2016-07-23",
                                    "SZALL_MOD": "NULL",
                                    "(No column name)": "6895"
                                },
                                {
                                    "SZALL_DATUM": "2016-07-24",
                                    "SZALL_MOD": "NULL",
                                    "(No column name)": "6958"
                                },
                                {
                                    "SZALL_DATUM": "2016-07-25",
                                    "SZALL_MOD": "NULL",
                                    "(No column name)": "7559"
                                },
                                {
                                    "SZALL_DATUM": "2016-07-26",
                                    "SZALL_MOD": "NULL",
                                    "(No column name)": "7020"
                                },
                                {
                                    "SZALL_DATUM": "2016-07-27",
                                    "SZALL_MOD": "NULL",
                                    "(No column name)": "9352"
                                },
                                {
                                    "SZALL_DATUM": "2016-07-28",
                                    "SZALL_MOD": "NULL",
                                    "(No column name)": "7155"
                                },
                                {
                                    "SZALL_DATUM": "2016-07-29",
                                    "SZALL_MOD": "NULL",
                                    "(No column name)": "9038"
                                },
                                {
                                    "SZALL_DATUM": "2016-07-30",
                                    "SZALL_MOD": "NULL",
                                    "(No column name)": "6288"
                                },
                                {
                                    "SZALL_DATUM": "2016-07-31",
                                    "SZALL_MOD": "NULL",
                                    "(No column name)": "9007"
                                },
                                {
                                    "SZALL_DATUM": "2016-08-01",
                                    "SZALL_MOD": "NULL",
                                    "(No column name)": "7588"
                                },
                                {
                                    "SZALL_DATUM": "2016-08-02",
                                    "SZALL_MOD": "NULL",
                                    "(No column name)": "6686"
                                },
                                {
                                    "SZALL_DATUM": "2016-08-03",
                                    "SZALL_MOD": "NULL",
                                    "(No column name)": "7884"
                                },
                                {
                                    "SZALL_DATUM": "2016-08-04",
                                    "SZALL_MOD": "NULL",
                                    "(No column name)": "6900"
                                },
                                {
                                    "SZALL_DATUM": "2016-08-05",
                                    "SZALL_MOD": "NULL",
                                    "(No column name)": "7610"
                                },
                                {
                                    "SZALL_DATUM": "2016-08-06",
                                    "SZALL_MOD": "NULL",
                                    "(No column name)": "8498"
                                },
                                {
                                    "SZALL_DATUM": "2016-08-07",
                                    "SZALL_MOD": "NULL",
                                    "(No column name)": "5511"
                                },
                                {
                                    "SZALL_DATUM": "2016-08-08",
                                    "SZALL_MOD": "NULL",
                                    "(No column name)": "5829"
                                },
                                {
                                    "SZALL_DATUM": "2016-08-09",
                                    "SZALL_MOD": "NULL",
                                    "(No column name)": "10307"
                                },
                                {
                                    "SZALL_DATUM": "2016-08-10",
                                    "SZALL_MOD": "NULL",
                                    "(No column name)": "8311"
                                },
                                {
                                    "SZALL_DATUM": "2016-08-11",
                                    "SZALL_MOD": "NULL",
                                    "(No column name)": "8232"
                                },
                                {
                                    "SZALL_DATUM": "2016-08-12",
                                    "SZALL_MOD": "NULL",
                                    "(No column name)": "8761"
                                },
                                {
                                    "SZALL_DATUM": "2016-08-13",
                                    "SZALL_MOD": "NULL",
                                    "(No column name)": "9571"
                                },
                                {
                                    "SZALL_DATUM": "2016-08-14",
                                    "SZALL_MOD": "NULL",
                                    "(No column name)": "8263"
                                },
                                {
                                    "SZALL_DATUM": "2016-08-15",
                                    "SZALL_MOD": "NULL",
                                    "(No column name)": "10966"
                                },
                                {
                                    "SZALL_DATUM": "2016-08-16",
                                    "SZALL_MOD": "NULL",
                                    "(No column name)": "7435"
                                },
                                {
                                    "SZALL_DATUM": "2016-08-17",
                                    "SZALL_MOD": "NULL",
                                    "(No column name)": "7576"
                                },
                                {
                                    "SZALL_DATUM": "2016-08-18",
                                    "SZALL_MOD": "NULL",
                                    "(No column name)": "7689"
                                },
                                {
                                    "SZALL_DATUM": "2016-08-19",
                                    "SZALL_MOD": "NULL",
                                    "(No column name)": "6974"
                                },
                                {
                                    "SZALL_DATUM": "2016-08-20",
                                    "SZALL_MOD": "NULL",
                                    "(No column name)": "9117"
                                },
                                {
                                    "SZALL_DATUM": "2016-08-21",
                                    "SZALL_MOD": "NULL",
                                    "(No column name)": "5864"
                                },
                                {
                                    "SZALL_DATUM": "2016-08-22",
                                    "SZALL_MOD": "NULL",
                                    "(No column name)": "7082"
                                },
                                {
                                    "SZALL_DATUM": "2016-08-23",
                                    "SZALL_MOD": "NULL",
                                    "(No column name)": "6153"
                                },
                                {
                                    "SZALL_DATUM": "2016-08-24",
                                    "SZALL_MOD": "NULL",
                                    "(No column name)": "8822"
                                },
                                {
                                    "SZALL_DATUM": "2016-08-25",
                                    "SZALL_MOD": "NULL",
                                    "(No column name)": "9398"
                                },
                                {
                                    "SZALL_DATUM": "2016-08-26",
                                    "SZALL_MOD": "NULL",
                                    "(No column name)": "8695"
                                },
                                {
                                    "SZALL_DATUM": "2016-08-27",
                                    "SZALL_MOD": "NULL",
                                    "(No column name)": "8120"
                                },
                                {
                                    "SZALL_DATUM": "2016-08-28",
                                    "SZALL_MOD": "NULL",
                                    "(No column name)": "8937"
                                },
                                {
                                    "SZALL_DATUM": "2016-08-29",
                                    "SZALL_MOD": "NULL",
                                    "(No column name)": "7542"
                                },
                                {
                                    "SZALL_DATUM": "2016-08-30",
                                    "SZALL_MOD": "NULL",
                                    "(No column name)": "5527"
                                },
                                {
                                    "SZALL_DATUM": "2016-08-31",
                                    "SZALL_MOD": "NULL",
                                    "(No column name)": "6069"
                                },
                                {
                                    "SZALL_DATUM": "2016-09-01",
                                    "SZALL_MOD": "NULL",
                                    "(No column name)": "6626"
                                },
                                {
                                    "SZALL_DATUM": "2016-09-02",
                                    "SZALL_MOD": "NULL",
                                    "(No column name)": "7775"
                                },
                                {
                                    "SZALL_DATUM": "2016-09-03",
                                    "SZALL_MOD": "NULL",
                                    "(No column name)": "11043"
                                },
                                {
                                    "SZALL_DATUM": "2016-09-04",
                                    "SZALL_MOD": "NULL",
                                    "(No column name)": "11369"
                                },
                                {
                                    "SZALL_DATUM": "2016-09-05",
                                    "SZALL_MOD": "NULL",
                                    "(No column name)": "6206"
                                },
                                {
                                    "SZALL_DATUM": "2016-09-06",
                                    "SZALL_MOD": "NULL",
                                    "(No column name)": "8736"
                                },
                                {
                                    "SZALL_DATUM": "2016-09-07",
                                    "SZALL_MOD": "NULL",
                                    "(No column name)": "8579"
                                },
                                {
                                    "SZALL_DATUM": "2016-09-08",
                                    "SZALL_MOD": "NULL",
                                    "(No column name)": "8561"
                                },
                                {
                                    "SZALL_DATUM": "2016-09-09",
                                    "SZALL_MOD": "NULL",
                                    "(No column name)": "8470"
                                },
                                {
                                    "SZALL_DATUM": "2016-09-10",
                                    "SZALL_MOD": "NULL",
                                    "(No column name)": "9203"
                                },
                                {
                                    "SZALL_DATUM": "2016-09-11",
                                    "SZALL_MOD": "NULL",
                                    "(No column name)": "8573"
                                },
                                {
                                    "SZALL_DATUM": "2016-09-12",
                                    "SZALL_MOD": "NULL",
                                    "(No column name)": "6264"
                                },
                                {
                                    "SZALL_DATUM": "2016-09-13",
                                    "SZALL_MOD": "NULL",
                                    "(No column name)": "8200"
                                },
                                {
                                    "SZALL_DATUM": "2016-09-14",
                                    "SZALL_MOD": "NULL",
                                    "(No column name)": "10576"
                                },
                                {
                                    "SZALL_DATUM": "2016-09-15",
                                    "SZALL_MOD": "NULL",
                                    "(No column name)": "10530"
                                },
                                {
                                    "SZALL_DATUM": "2016-09-16",
                                    "SZALL_MOD": "NULL",
                                    "(No column name)": "5621"
                                },
                                {
                                    "SZALL_DATUM": "2016-09-17",
                                    "SZALL_MOD": "NULL",
                                    "(No column name)": "7379"
                                },
                                {
                                    "SZALL_DATUM": "2016-09-18",
                                    "SZALL_MOD": "NULL",
                                    "(No column name)": "10790"
                                },
                                {
                                    "SZALL_DATUM": "2016-09-19",
                                    "SZALL_MOD": "NULL",
                                    "(No column name)": "7019"
                                },
                                {
                                    "SZALL_DATUM": "2016-09-20",
                                    "SZALL_MOD": "NULL",
                                    "(No column name)": "8544"
                                },
                                {
                                    "SZALL_DATUM": "2016-09-21",
                                    "SZALL_MOD": "NULL",
                                    "(No column name)": "5504"
                                },
                                {
                                    "SZALL_DATUM": "2016-09-22",
                                    "SZALL_MOD": "NULL",
                                    "(No column name)": "6691"
                                },
                                {
                                    "SZALL_DATUM": "2016-09-23",
                                    "SZALL_MOD": "NULL",
                                    "(No column name)": "6574"
                                },
                                {
                                    "SZALL_DATUM": "2016-09-24",
                                    "SZALL_MOD": "NULL",
                                    "(No column name)": "6220"
                                },
                                {
                                    "SZALL_DATUM": "2016-09-25",
                                    "SZALL_MOD": "NULL",
                                    "(No column name)": "6759"
                                },
                                {
                                    "SZALL_DATUM": "2016-09-26",
                                    "SZALL_MOD": "NULL",
                                    "(No column name)": "7073"
                                },
                                {
                                    "SZALL_DATUM": "2016-09-27",
                                    "SZALL_MOD": "NULL",
                                    "(No column name)": "9214"
                                },
                                {
                                    "SZALL_DATUM": "2016-09-28",
                                    "SZALL_MOD": "NULL",
                                    "(No column name)": "7948"
                                },
                                {
                                    "SZALL_DATUM": "2016-09-29",
                                    "SZALL_MOD": "NULL",
                                    "(No column name)": "5840"
                                },
                                {
                                    "SZALL_DATUM": "2016-09-30",
                                    "SZALL_MOD": "NULL",
                                    "(No column name)": "8410"
                                },
                                {
                                    "SZALL_DATUM": "2016-10-01",
                                    "SZALL_MOD": "NULL",
                                    "(No column name)": "8122"
                                },
                                {
                                    "SZALL_DATUM": "2016-10-02",
                                    "SZALL_MOD": "NULL",
                                    "(No column name)": "7206"
                                },
                                {
                                    "SZALL_DATUM": "2016-10-03",
                                    "SZALL_MOD": "NULL",
                                    "(No column name)": "6357"
                                },
                                {
                                    "SZALL_DATUM": "2016-10-04",
                                    "SZALL_MOD": "NULL",
                                    "(No column name)": "7203"
                                },
                                {
                                    "SZALL_DATUM": "2016-10-05",
                                    "SZALL_MOD": "NULL",
                                    "(No column name)": "7856"
                                },
                                {
                                    "SZALL_DATUM": "2016-10-06",
                                    "SZALL_MOD": "NULL",
                                    "(No column name)": "6682"
                                },
                                {
                                    "SZALL_DATUM": "2016-10-07",
                                    "SZALL_MOD": "NULL",
                                    "(No column name)": "6607"
                                },
                                {
                                    "SZALL_DATUM": "2016-10-08",
                                    "SZALL_MOD": "NULL",
                                    "(No column name)": "8515"
                                },
                                {
                                    "SZALL_DATUM": "2016-10-09",
                                    "SZALL_MOD": "NULL",
                                    "(No column name)": "10396"
                                },
                                {
                                    "SZALL_DATUM": "2016-10-10",
                                    "SZALL_MOD": "NULL",
                                    "(No column name)": "7117"
                                },
                                {
                                    "SZALL_DATUM": "2016-10-11",
                                    "SZALL_MOD": "NULL",
                                    "(No column name)": "9192"
                                },
                                {
                                    "SZALL_DATUM": "2016-10-12",
                                    "SZALL_MOD": "NULL",
                                    "(No column name)": "10889"
                                },
                                {
                                    "SZALL_DATUM": "2016-10-13",
                                    "SZALL_MOD": "NULL",
                                    "(No column name)": "10192"
                                },
                                {
                                    "SZALL_DATUM": "2016-10-14",
                                    "SZALL_MOD": "NULL",
                                    "(No column name)": "7397"
                                },
                                {
                                    "SZALL_DATUM": "2016-10-15",
                                    "SZALL_MOD": "NULL",
                                    "(No column name)": "7459"
                                },
                                {
                                    "SZALL_DATUM": "2016-10-16",
                                    "SZALL_MOD": "NULL",
                                    "(No column name)": "7198"
                                },
                                {
                                    "SZALL_DATUM": "2016-10-17",
                                    "SZALL_MOD": "NULL",
                                    "(No column name)": "11045"
                                },
                                {
                                    "SZALL_DATUM": "2016-10-18",
                                    "SZALL_MOD": "NULL",
                                    "(No column name)": "7033"
                                },
                                {
                                    "SZALL_DATUM": "2016-10-19",
                                    "SZALL_MOD": "NULL",
                                    "(No column name)": "9307"
                                },
                                {
                                    "SZALL_DATUM": "2016-10-20",
                                    "SZALL_MOD": "NULL",
                                    "(No column name)": "6856"
                                },
                                {
                                    "SZALL_DATUM": "2016-10-21",
                                    "SZALL_MOD": "NULL",
                                    "(No column name)": "9403"
                                },
                                {
                                    "SZALL_DATUM": "2016-10-22",
                                    "SZALL_MOD": "NULL",
                                    "(No column name)": "8356"
                                },
                                {
                                    "SZALL_DATUM": "2016-10-23",
                                    "SZALL_MOD": "NULL",
                                    "(No column name)": "9634"
                                },
                                {
                                    "SZALL_DATUM": "2016-10-24",
                                    "SZALL_MOD": "NULL",
                                    "(No column name)": "4888"
                                },
                                {
                                    "SZALL_DATUM": "2016-10-25",
                                    "SZALL_MOD": "NULL",
                                    "(No column name)": "11978"
                                },
                                {
                                    "SZALL_DATUM": "2016-10-26",
                                    "SZALL_MOD": "NULL",
                                    "(No column name)": "8070"
                                },
                                {
                                    "SZALL_DATUM": "2016-10-27",
                                    "SZALL_MOD": "NULL",
                                    "(No column name)": "7617"
                                },
                                {
                                    "SZALL_DATUM": "2016-10-28",
                                    "SZALL_MOD": "NULL",
                                    "(No column name)": "7766"
                                },
                                {
                                    "SZALL_DATUM": "2016-10-29",
                                    "SZALL_MOD": "NULL",
                                    "(No column name)": "6854"
                                },
                                {
                                    "SZALL_DATUM": "2016-10-30",
                                    "SZALL_MOD": "NULL",
                                    "(No column name)": "11718"
                                },
                                {
                                    "SZALL_DATUM": "2016-10-31",
                                    "SZALL_MOD": "NULL",
                                    "(No column name)": "8714"
                                },
                                {
                                    "SZALL_DATUM": "2016-11-01",
                                    "SZALL_MOD": "NULL",
                                    "(No column name)": "7238"
                                },
                                {
                                    "SZALL_DATUM": "2016-11-02",
                                    "SZALL_MOD": "NULL",
                                    "(No column name)": "5472"
                                },
                                {
                                    "SZALL_DATUM": "2016-11-03",
                                    "SZALL_MOD": "NULL",
                                    "(No column name)": "7739"
                                },
                                {
                                    "SZALL_DATUM": "2016-11-04",
                                    "SZALL_MOD": "NULL",
                                    "(No column name)": "6667"
                                },
                                {
                                    "SZALL_DATUM": "2016-11-05",
                                    "SZALL_MOD": "NULL",
                                    "(No column name)": "9157"
                                },
                                {
                                    "SZALL_DATUM": "2016-11-06",
                                    "SZALL_MOD": "NULL",
                                    "(No column name)": "8517"
                                },
                                {
                                    "SZALL_DATUM": "2016-11-07",
                                    "SZALL_MOD": "NULL",
                                    "(No column name)": "6691"
                                },
                                {
                                    "SZALL_DATUM": "2016-11-08",
                                    "SZALL_MOD": "NULL",
                                    "(No column name)": "8431"
                                },
                                {
                                    "SZALL_DATUM": "2016-11-09",
                                    "SZALL_MOD": "NULL",
                                    "(No column name)": "5911"
                                },
                                {
                                    "SZALL_DATUM": "2016-11-10",
                                    "SZALL_MOD": "NULL",
                                    "(No column name)": "6795"
                                },
                                {
                                    "SZALL_DATUM": "2016-11-11",
                                    "SZALL_MOD": "NULL",
                                    "(No column name)": "6940"
                                },
                                {
                                    "SZALL_DATUM": "2016-11-12",
                                    "SZALL_MOD": "NULL",
                                    "(No column name)": "10959"
                                },
                                {
                                    "SZALL_DATUM": "2016-11-13",
                                    "SZALL_MOD": "NULL",
                                    "(No column name)": "10751"
                                },
                                {
                                    "SZALL_DATUM": "2016-11-14",
                                    "SZALL_MOD": "NULL",
                                    "(No column name)": "11881"
                                },
                                {
                                    "SZALL_DATUM": "2016-11-15",
                                    "SZALL_MOD": "NULL",
                                    "(No column name)": "6736"
                                },
                                {
                                    "SZALL_DATUM": "2016-11-16",
                                    "SZALL_MOD": "NULL",
                                    "(No column name)": "8969"
                                },
                                {
                                    "SZALL_DATUM": "2016-11-17",
                                    "SZALL_MOD": "NULL",
                                    "(No column name)": "6852"
                                },
                                {
                                    "SZALL_DATUM": "2016-11-18",
                                    "SZALL_MOD": "NULL",
                                    "(No column name)": "6770"
                                },
                                {
                                    "SZALL_DATUM": "2016-11-19",
                                    "SZALL_MOD": "NULL",
                                    "(No column name)": "7451"
                                },
                                {
                                    "SZALL_DATUM": "2016-11-20",
                                    "SZALL_MOD": "NULL",
                                    "(No column name)": "7946"
                                },
                                {
                                    "SZALL_DATUM": "2016-11-21",
                                    "SZALL_MOD": "NULL",
                                    "(No column name)": "6727"
                                },
                                {
                                    "SZALL_DATUM": "2016-11-22",
                                    "SZALL_MOD": "NULL",
                                    "(No column name)": "7801"
                                },
                                {
                                    "SZALL_DATUM": "2016-11-23",
                                    "SZALL_MOD": "NULL",
                                    "(No column name)": "7435"
                                },
                                {
                                    "SZALL_DATUM": "2016-11-24",
                                    "SZALL_MOD": "NULL",
                                    "(No column name)": "5981"
                                },
                                {
                                    "SZALL_DATUM": "2016-11-25",
                                    "SZALL_MOD": "NULL",
                                    "(No column name)": "6915"
                                },
                                {
                                    "SZALL_DATUM": "2016-11-26",
                                    "SZALL_MOD": "NULL",
                                    "(No column name)": "9216"
                                },
                                {
                                    "SZALL_DATUM": "2016-11-27",
                                    "SZALL_MOD": "NULL",
                                    "(No column name)": "9893"
                                },
                                {
                                    "SZALL_DATUM": "2016-11-28",
                                    "SZALL_MOD": "NULL",
                                    "(No column name)": "9770"
                                },
                                {
                                    "SZALL_DATUM": "2016-11-29",
                                    "SZALL_MOD": "NULL",
                                    "(No column name)": "8722"
                                },
                                {
                                    "SZALL_DATUM": "2016-11-30",
                                    "SZALL_MOD": "NULL",
                                    "(No column name)": "6419"
                                },
                                {
                                    "SZALL_DATUM": "2016-12-01",
                                    "SZALL_MOD": "NULL",
                                    "(No column name)": "9940"
                                },
                                {
                                    "SZALL_DATUM": "2016-12-02",
                                    "SZALL_MOD": "NULL",
                                    "(No column name)": "4748"
                                },
                                {
                                    "SZALL_DATUM": "2016-12-03",
                                    "SZALL_MOD": "NULL",
                                    "(No column name)": "6745"
                                },
                                {
                                    "SZALL_DATUM": "2016-12-04",
                                    "SZALL_MOD": "NULL",
                                    "(No column name)": "9959"
                                },
                                {
                                    "SZALL_DATUM": "2016-12-05",
                                    "SZALL_MOD": "NULL",
                                    "(No column name)": "8225"
                                },
                                {
                                    "SZALL_DATUM": "2016-12-06",
                                    "SZALL_MOD": "NULL",
                                    "(No column name)": "7762"
                                },
                                {
                                    "SZALL_DATUM": "2016-12-07",
                                    "SZALL_MOD": "NULL",
                                    "(No column name)": "7380"
                                },
                                {
                                    "SZALL_DATUM": "2016-12-08",
                                    "SZALL_MOD": "NULL",
                                    "(No column name)": "7200"
                                },
                                {
                                    "SZALL_DATUM": "2016-12-09",
                                    "SZALL_MOD": "NULL",
                                    "(No column name)": "9724"
                                },
                                {
                                    "SZALL_DATUM": "2016-12-10",
                                    "SZALL_MOD": "NULL",
                                    "(No column name)": "7083"
                                },
                                {
                                    "SZALL_DATUM": "2016-12-11",
                                    "SZALL_MOD": "NULL",
                                    "(No column name)": "7576"
                                },
                                {
                                    "SZALL_DATUM": "2016-12-12",
                                    "SZALL_MOD": "NULL",
                                    "(No column name)": "8580"
                                },
                                {
                                    "SZALL_DATUM": "2016-12-13",
                                    "SZALL_MOD": "NULL",
                                    "(No column name)": "8233"
                                },
                                {
                                    "SZALL_DATUM": "2016-12-14",
                                    "SZALL_MOD": "NULL",
                                    "(No column name)": "6268"
                                },
                                {
                                    "SZALL_DATUM": "2016-12-15",
                                    "SZALL_MOD": "NULL",
                                    "(No column name)": "7392"
                                },
                                {
                                    "SZALL_DATUM": "2016-12-16",
                                    "SZALL_MOD": "NULL",
                                    "(No column name)": "6407"
                                },
                                {
                                    "SZALL_DATUM": "2016-12-17",
                                    "SZALL_MOD": "NULL",
                                    "(No column name)": "7555"
                                },
                                {
                                    "SZALL_DATUM": "2016-12-18",
                                    "SZALL_MOD": "NULL",
                                    "(No column name)": "6070"
                                },
                                {
                                    "SZALL_DATUM": "2016-12-19",
                                    "SZALL_MOD": "NULL",
                                    "(No column name)": "5390"
                                },
                                {
                                    "SZALL_DATUM": "2016-12-20",
                                    "SZALL_MOD": "NULL",
                                    "(No column name)": "7735"
                                },
                                {
                                    "SZALL_DATUM": "2016-12-21",
                                    "SZALL_MOD": "NULL",
                                    "(No column name)": "10434"
                                },
                                {
                                    "SZALL_DATUM": "2016-12-22",
                                    "SZALL_MOD": "NULL",
                                    "(No column name)": "5465"
                                },
                                {
                                    "SZALL_DATUM": "2016-12-23",
                                    "SZALL_MOD": "NULL",
                                    "(No column name)": "8338"
                                },
                                {
                                    "SZALL_DATUM": "2016-12-24",
                                    "SZALL_MOD": "NULL",
                                    "(No column name)": "5916"
                                },
                                {
                                    "SZALL_DATUM": "2016-12-25",
                                    "SZALL_MOD": "NULL",
                                    "(No column name)": "7345"
                                },
                                {
                                    "SZALL_DATUM": "2016-12-26",
                                    "SZALL_MOD": "NULL",
                                    "(No column name)": "9875"
                                },
                                {
                                    "SZALL_DATUM": "2016-12-27",
                                    "SZALL_MOD": "NULL",
                                    "(No column name)": "10216"
                                },
                                {
                                    "SZALL_DATUM": "2016-12-28",
                                    "SZALL_MOD": "NULL",
                                    "(No column name)": "6222"
                                },
                                {
                                    "SZALL_DATUM": "2016-12-29",
                                    "SZALL_MOD": "NULL",
                                    "(No column name)": "10046"
                                },
                                {
                                    "SZALL_DATUM": "2016-12-30",
                                    "SZALL_MOD": "NULL",
                                    "(No column name)": "7113"
                                },
                                {
                                    "SZALL_DATUM": "2016-12-31",
                                    "SZALL_MOD": "NULL",
                                    "(No column name)": "7188"
                                },
                                {
                                    "SZALL_DATUM": "2017-01-01",
                                    "SZALL_MOD": "NULL",
                                    "(No column name)": "7200"
                                },
                                {
                                    "SZALL_DATUM": "2017-01-02",
                                    "SZALL_MOD": "NULL",
                                    "(No column name)": "7425"
                                },
                                {
                                    "SZALL_DATUM": "2017-01-03",
                                    "SZALL_MOD": "NULL",
                                    "(No column name)": "6783"
                                },
                                {
                                    "SZALL_DATUM": "2017-01-04",
                                    "SZALL_MOD": "NULL",
                                    "(No column name)": "7465"
                                },
                                {
                                    "SZALL_DATUM": "2017-01-05",
                                    "SZALL_MOD": "NULL",
                                    "(No column name)": "7591"
                                },
                                {
                                    "SZALL_DATUM": "2017-01-06",
                                    "SZALL_MOD": "NULL",
                                    "(No column name)": "8298"
                                },
                                {
                                    "SZALL_DATUM": "2017-01-07",
                                    "SZALL_MOD": "NULL",
                                    "(No column name)": "8976"
                                },
                                {
                                    "SZALL_DATUM": "2017-01-08",
                                    "SZALL_MOD": "NULL",
                                    "(No column name)": "7179"
                                },
                                {
                                    "SZALL_DATUM": "2017-01-09",
                                    "SZALL_MOD": "NULL",
                                    "(No column name)": "9465"
                                },
                                {
                                    "SZALL_DATUM": "2017-01-10",
                                    "SZALL_MOD": "NULL",
                                    "(No column name)": "8667"
                                },
                                {
                                    "SZALL_DATUM": "2017-01-11",
                                    "SZALL_MOD": "NULL",
                                    "(No column name)": "9472"
                                },
                                {
                                    "SZALL_DATUM": "2017-01-12",
                                    "SZALL_MOD": "NULL",
                                    "(No column name)": "7636"
                                },
                                {
                                    "SZALL_DATUM": "2017-01-13",
                                    "SZALL_MOD": "NULL",
                                    "(No column name)": "7538"
                                },
                                {
                                    "SZALL_DATUM": "2017-01-14",
                                    "SZALL_MOD": "NULL",
                                    "(No column name)": "8920"
                                },
                                {
                                    "SZALL_DATUM": "2017-01-15",
                                    "SZALL_MOD": "NULL",
                                    "(No column name)": "7611"
                                },
                                {
                                    "SZALL_DATUM": "2017-01-16",
                                    "SZALL_MOD": "NULL",
                                    "(No column name)": "7369"
                                },
                                {
                                    "SZALL_DATUM": "2017-01-17",
                                    "SZALL_MOD": "NULL",
                                    "(No column name)": "8658"
                                },
                                {
                                    "SZALL_DATUM": "2017-01-18",
                                    "SZALL_MOD": "NULL",
                                    "(No column name)": "6558"
                                },
                                {
                                    "SZALL_DATUM": "2017-01-19",
                                    "SZALL_MOD": "NULL",
                                    "(No column name)": "6422"
                                },
                                {
                                    "SZALL_DATUM": "2017-01-20",
                                    "SZALL_MOD": "NULL",
                                    "(No column name)": "6450"
                                },
                                {
                                    "SZALL_DATUM": "2017-01-21",
                                    "SZALL_MOD": "NULL",
                                    "(No column name)": "7150"
                                },
                                {
                                    "SZALL_DATUM": "2017-01-22",
                                    "SZALL_MOD": "NULL",
                                    "(No column name)": "8199"
                                },
                                {
                                    "SZALL_DATUM": "2017-01-23",
                                    "SZALL_MOD": "NULL",
                                    "(No column name)": "8394"
                                },
                                {
                                    "SZALL_DATUM": "2017-01-24",
                                    "SZALL_MOD": "NULL",
                                    "(No column name)": "8615"
                                },
                                {
                                    "SZALL_DATUM": "2017-01-25",
                                    "SZALL_MOD": "NULL",
                                    "(No column name)": "6484"
                                },
                                {
                                    "SZALL_DATUM": "2017-01-26",
                                    "SZALL_MOD": "NULL",
                                    "(No column name)": "9426"
                                },
                                {
                                    "SZALL_DATUM": "2017-01-27",
                                    "SZALL_MOD": "NULL",
                                    "(No column name)": "5418"
                                },
                                {
                                    "SZALL_DATUM": "2017-01-28",
                                    "SZALL_MOD": "NULL",
                                    "(No column name)": "8401"
                                },
                                {
                                    "SZALL_DATUM": "2017-01-29",
                                    "SZALL_MOD": "NULL",
                                    "(No column name)": "8997"
                                },
                                {
                                    "SZALL_DATUM": "2017-01-30",
                                    "SZALL_MOD": "NULL",
                                    "(No column name)": "9661"
                                },
                                {
                                    "SZALL_DATUM": "2017-01-31",
                                    "SZALL_MOD": "NULL",
                                    "(No column name)": "6253"
                                },
                                {
                                    "SZALL_DATUM": "2017-02-01",
                                    "SZALL_MOD": "NULL",
                                    "(No column name)": "5703"
                                },
                                {
                                    "SZALL_DATUM": "2017-02-02",
                                    "SZALL_MOD": "NULL",
                                    "(No column name)": "8746"
                                },
                                {
                                    "SZALL_DATUM": "2017-02-03",
                                    "SZALL_MOD": "NULL",
                                    "(No column name)": "7840"
                                },
                                {
                                    "SZALL_DATUM": "2017-02-04",
                                    "SZALL_MOD": "NULL",
                                    "(No column name)": "6220"
                                },
                                {
                                    "SZALL_DATUM": "2017-02-05",
                                    "SZALL_MOD": "NULL",
                                    "(No column name)": "5138"
                                },
                                {
                                    "SZALL_DATUM": "2017-02-06",
                                    "SZALL_MOD": "NULL",
                                    "(No column name)": "8206"
                                },
                                {
                                    "SZALL_DATUM": "2017-02-07",
                                    "SZALL_MOD": "NULL",
                                    "(No column name)": "6846"
                                },
                                {
                                    "SZALL_DATUM": "2017-02-08",
                                    "SZALL_MOD": "NULL",
                                    "(No column name)": "10057"
                                },
                                {
                                    "SZALL_DATUM": "2017-02-09",
                                    "SZALL_MOD": "NULL",
                                    "(No column name)": "8302"
                                },
                                {
                                    "SZALL_DATUM": "2017-02-10",
                                    "SZALL_MOD": "NULL",
                                    "(No column name)": "8964"
                                },
                                {
                                    "SZALL_DATUM": "2017-02-11",
                                    "SZALL_MOD": "NULL",
                                    "(No column name)": "8790"
                                },
                                {
                                    "SZALL_DATUM": "2017-02-12",
                                    "SZALL_MOD": "NULL",
                                    "(No column name)": "6268"
                                },
                                {
                                    "SZALL_DATUM": "2017-02-13",
                                    "SZALL_MOD": "NULL",
                                    "(No column name)": "8176"
                                },
                                {
                                    "SZALL_DATUM": "2017-02-14",
                                    "SZALL_MOD": "NULL",
                                    "(No column name)": "10029"
                                },
                                {
                                    "SZALL_DATUM": "2017-02-15",
                                    "SZALL_MOD": "NULL",
                                    "(No column name)": "6443"
                                },
                                {
                                    "SZALL_DATUM": "2017-02-16",
                                    "SZALL_MOD": "NULL",
                                    "(No column name)": "8794"
                                },
                                {
                                    "SZALL_DATUM": "2017-02-17",
                                    "SZALL_MOD": "NULL",
                                    "(No column name)": "9808"
                                },
                                {
                                    "SZALL_DATUM": "2017-02-18",
                                    "SZALL_MOD": "NULL",
                                    "(No column name)": "10757"
                                },
                                {
                                    "SZALL_DATUM": "2017-02-19",
                                    "SZALL_MOD": "NULL",
                                    "(No column name)": "8284"
                                },
                                {
                                    "SZALL_DATUM": "2017-02-20",
                                    "SZALL_MOD": "NULL",
                                    "(No column name)": "5660"
                                },
                                {
                                    "SZALL_DATUM": "2017-02-21",
                                    "SZALL_MOD": "NULL",
                                    "(No column name)": "8878"
                                },
                                {
                                    "SZALL_DATUM": "2017-02-22",
                                    "SZALL_MOD": "NULL",
                                    "(No column name)": "9034"
                                },
                                {
                                    "SZALL_DATUM": "2017-02-23",
                                    "SZALL_MOD": "NULL",
                                    "(No column name)": "7574"
                                },
                                {
                                    "SZALL_DATUM": "2017-02-24",
                                    "SZALL_MOD": "NULL",
                                    "(No column name)": "6814"
                                },
                                {
                                    "SZALL_DATUM": "2017-02-25",
                                    "SZALL_MOD": "NULL",
                                    "(No column name)": "6820"
                                },
                                {
                                    "SZALL_DATUM": "2017-02-26",
                                    "SZALL_MOD": "NULL",
                                    "(No column name)": "8578"
                                },
                                {
                                    "SZALL_DATUM": "2017-02-27",
                                    "SZALL_MOD": "NULL",
                                    "(No column name)": "9185"
                                },
                                {
                                    "SZALL_DATUM": "2017-02-28",
                                    "SZALL_MOD": "NULL",
                                    "(No column name)": "11649"
                                },
                                {
                                    "SZALL_DATUM": "2017-03-01",
                                    "SZALL_MOD": "NULL",
                                    "(No column name)": "5037"
                                },
                                {
                                    "SZALL_DATUM": "2017-03-02",
                                    "SZALL_MOD": "NULL",
                                    "(No column name)": "4861"
                                },
                                {
                                    "SZALL_DATUM": "2017-03-03",
                                    "SZALL_MOD": "NULL",
                                    "(No column name)": "7585"
                                },
                                {
                                    "SZALL_DATUM": "2017-03-04",
                                    "SZALL_MOD": "NULL",
                                    "(No column name)": "5977"
                                },
                                {
                                    "SZALL_DATUM": "2017-03-05",
                                    "SZALL_MOD": "NULL",
                                    "(No column name)": "10338"
                                },
                                {
                                    "SZALL_DATUM": "2017-03-06",
                                    "SZALL_MOD": "NULL",
                                    "(No column name)": "10916"
                                },
                                {
                                    "SZALL_DATUM": "2017-03-07",
                                    "SZALL_MOD": "NULL",
                                    "(No column name)": "8747"
                                },
                                {
                                    "SZALL_DATUM": "2017-03-08",
                                    "SZALL_MOD": "NULL",
                                    "(No column name)": "6837"
                                },
                                {
                                    "SZALL_DATUM": "2017-03-09",
                                    "SZALL_MOD": "NULL",
                                    "(No column name)": "6964"
                                },
                                {
                                    "SZALL_DATUM": "2017-03-10",
                                    "SZALL_MOD": "NULL",
                                    "(No column name)": "6846"
                                },
                                {
                                    "SZALL_DATUM": "2017-03-11",
                                    "SZALL_MOD": "NULL",
                                    "(No column name)": "6885"
                                },
                                {
                                    "SZALL_DATUM": "2017-03-12",
                                    "SZALL_MOD": "NULL",
                                    "(No column name)": "5941"
                                },
                                {
                                    "SZALL_DATUM": "2017-03-13",
                                    "SZALL_MOD": "NULL",
                                    "(No column name)": "6950"
                                },
                                {
                                    "SZALL_DATUM": "2017-03-14",
                                    "SZALL_MOD": "NULL",
                                    "(No column name)": "7224"
                                },
                                {
                                    "SZALL_DATUM": "2017-03-15",
                                    "SZALL_MOD": "NULL",
                                    "(No column name)": "9718"
                                },
                                {
                                    "SZALL_DATUM": "2017-03-16",
                                    "SZALL_MOD": "NULL",
                                    "(No column name)": "9763"
                                },
                                {
                                    "SZALL_DATUM": "2017-03-17",
                                    "SZALL_MOD": "NULL",
                                    "(No column name)": "8908"
                                },
                                {
                                    "SZALL_DATUM": "2017-03-18",
                                    "SZALL_MOD": "NULL",
                                    "(No column name)": "9344"
                                },
                                {
                                    "SZALL_DATUM": "2017-03-19",
                                    "SZALL_MOD": "NULL",
                                    "(No column name)": "9937"
                                },
                                {
                                    "SZALL_DATUM": "2017-03-20",
                                    "SZALL_MOD": "NULL",
                                    "(No column name)": "7683"
                                },
                                {
                                    "SZALL_DATUM": "2017-03-21",
                                    "SZALL_MOD": "NULL",
                                    "(No column name)": "8639"
                                },
                                {
                                    "SZALL_DATUM": "2017-03-22",
                                    "SZALL_MOD": "NULL",
                                    "(No column name)": "6526"
                                },
                                {
                                    "SZALL_DATUM": "2017-03-23",
                                    "SZALL_MOD": "NULL",
                                    "(No column name)": "8799"
                                },
                                {
                                    "SZALL_DATUM": "2017-03-24",
                                    "SZALL_MOD": "NULL",
                                    "(No column name)": "7416"
                                },
                                {
                                    "SZALL_DATUM": "2017-03-25",
                                    "SZALL_MOD": "NULL",
                                    "(No column name)": "6272"
                                },
                                {
                                    "SZALL_DATUM": "2017-03-26",
                                    "SZALL_MOD": "NULL",
                                    "(No column name)": "7786"
                                },
                                {
                                    "SZALL_DATUM": "2017-03-27",
                                    "SZALL_MOD": "NULL",
                                    "(No column name)": "7715"
                                },
                                {
                                    "SZALL_DATUM": "2017-03-28",
                                    "SZALL_MOD": "NULL",
                                    "(No column name)": "8568"
                                },
                                {
                                    "SZALL_DATUM": "2017-03-29",
                                    "SZALL_MOD": "NULL",
                                    "(No column name)": "8346"
                                },
                                {
                                    "SZALL_DATUM": "2017-03-30",
                                    "SZALL_MOD": "NULL",
                                    "(No column name)": "8513"
                                },
                                {
                                    "SZALL_DATUM": "2017-03-31",
                                    "SZALL_MOD": "NULL",
                                    "(No column name)": "8598"
                                },
                                {
                                    "SZALL_DATUM": "2017-04-01",
                                    "SZALL_MOD": "NULL",
                                    "(No column name)": "7307"
                                },
                                {
                                    "SZALL_DATUM": "2017-04-02",
                                    "SZALL_MOD": "NULL",
                                    "(No column name)": "9477"
                                },
                                {
                                    "SZALL_DATUM": "2017-04-03",
                                    "SZALL_MOD": "NULL",
                                    "(No column name)": "6042"
                                },
                                {
                                    "SZALL_DATUM": "2017-04-04",
                                    "SZALL_MOD": "NULL",
                                    "(No column name)": "7493"
                                },
                                {
                                    "SZALL_DATUM": "2017-04-05",
                                    "SZALL_MOD": "NULL",
                                    "(No column name)": "7562"
                                },
                                {
                                    "SZALL_DATUM": "2017-04-06",
                                    "SZALL_MOD": "NULL",
                                    "(No column name)": "4646"
                                },
                                {
                                    "SZALL_DATUM": "2017-04-07",
                                    "SZALL_MOD": "NULL",
                                    "(No column name)": "5197"
                                },
                                {
                                    "SZALL_DATUM": "2017-04-08",
                                    "SZALL_MOD": "NULL",
                                    "(No column name)": "3057"
                                },
                                {
                                    "SZALL_DATUM": "2017-04-09",
                                    "SZALL_MOD": "NULL",
                                    "(No column name)": "3870"
                                },
                                {
                                    "SZALL_DATUM": "2017-04-10",
                                    "SZALL_MOD": "NULL",
                                    "(No column name)": "1640"
                                },
                                {
                                    "SZALL_DATUM": "2017-04-11",
                                    "SZALL_MOD": "NULL",
                                    "(No column name)": "1220"
                                },
                                {
                                    "SZALL_DATUM": "NULL",
                                    "SZALL_MOD": "NULL",
                                    "(No column name)": "5578316"
                                }
                            ]
                        },
                        "text/html": [
                            "<table>",
                            "<tr><th>SZALL_DATUM</th><th>SZALL_MOD</th><th>(No column name)</th></tr>",
                            "<tr><td>2015-05-03</td><td>NULL</td><td>100</td></tr>",
                            "<tr><td>2015-05-04</td><td>NULL</td><td>996</td></tr>",
                            "<tr><td>2015-05-05</td><td>NULL</td><td>3152</td></tr>",
                            "<tr><td>2015-05-06</td><td>NULL</td><td>5030</td></tr>",
                            "<tr><td>2015-05-07</td><td>NULL</td><td>3828</td></tr>",
                            "<tr><td>2015-05-08</td><td>NULL</td><td>3213</td></tr>",
                            "<tr><td>2015-05-09</td><td>NULL</td><td>6665</td></tr>",
                            "<tr><td>2015-05-10</td><td>NULL</td><td>6909</td></tr>",
                            "<tr><td>2015-05-11</td><td>NULL</td><td>6224</td></tr>",
                            "<tr><td>2015-05-12</td><td>NULL</td><td>7568</td></tr>",
                            "<tr><td>2015-05-13</td><td>NULL</td><td>7985</td></tr>",
                            "<tr><td>2015-05-14</td><td>NULL</td><td>9706</td></tr>",
                            "<tr><td>2015-05-15</td><td>NULL</td><td>7400</td></tr>",
                            "<tr><td>2015-05-16</td><td>NULL</td><td>7897</td></tr>",
                            "<tr><td>2015-05-17</td><td>NULL</td><td>4572</td></tr>",
                            "<tr><td>2015-05-18</td><td>NULL</td><td>8190</td></tr>",
                            "<tr><td>2015-05-19</td><td>NULL</td><td>7248</td></tr>",
                            "<tr><td>2015-05-20</td><td>NULL</td><td>9859</td></tr>",
                            "<tr><td>2015-05-21</td><td>NULL</td><td>8041</td></tr>",
                            "<tr><td>2015-05-22</td><td>NULL</td><td>8338</td></tr>",
                            "<tr><td>2015-05-23</td><td>NULL</td><td>5616</td></tr>",
                            "<tr><td>2015-05-24</td><td>NULL</td><td>5001</td></tr>",
                            "<tr><td>2015-05-25</td><td>NULL</td><td>7611</td></tr>",
                            "<tr><td>2015-05-26</td><td>NULL</td><td>7153</td></tr>",
                            "<tr><td>2015-05-27</td><td>NULL</td><td>8300</td></tr>",
                            "<tr><td>2015-05-28</td><td>NULL</td><td>9340</td></tr>",
                            "<tr><td>2015-05-29</td><td>NULL</td><td>10784</td></tr>",
                            "<tr><td>2015-05-30</td><td>NULL</td><td>7763</td></tr>",
                            "<tr><td>2015-05-31</td><td>NULL</td><td>4364</td></tr>",
                            "<tr><td>2015-06-01</td><td>NULL</td><td>6947</td></tr>",
                            "<tr><td>2015-06-02</td><td>NULL</td><td>6241</td></tr>",
                            "<tr><td>2015-06-03</td><td>NULL</td><td>9359</td></tr>",
                            "<tr><td>2015-06-04</td><td>NULL</td><td>8474</td></tr>",
                            "<tr><td>2015-06-05</td><td>NULL</td><td>8961</td></tr>",
                            "<tr><td>2015-06-06</td><td>NULL</td><td>9510</td></tr>",
                            "<tr><td>2015-06-07</td><td>NULL</td><td>7956</td></tr>",
                            "<tr><td>2015-06-08</td><td>NULL</td><td>4277</td></tr>",
                            "<tr><td>2015-06-09</td><td>NULL</td><td>7132</td></tr>",
                            "<tr><td>2015-06-10</td><td>NULL</td><td>9346</td></tr>",
                            "<tr><td>2015-06-11</td><td>NULL</td><td>5191</td></tr>",
                            "<tr><td>2015-06-12</td><td>NULL</td><td>7336</td></tr>",
                            "<tr><td>2015-06-13</td><td>NULL</td><td>7818</td></tr>",
                            "<tr><td>2015-06-14</td><td>NULL</td><td>6484</td></tr>",
                            "<tr><td>2015-06-15</td><td>NULL</td><td>7796</td></tr>",
                            "<tr><td>2015-06-16</td><td>NULL</td><td>4307</td></tr>",
                            "<tr><td>2015-06-17</td><td>NULL</td><td>8645</td></tr>",
                            "<tr><td>2015-06-18</td><td>NULL</td><td>10077</td></tr>",
                            "<tr><td>2015-06-19</td><td>NULL</td><td>5675</td></tr>",
                            "<tr><td>2015-06-20</td><td>NULL</td><td>7859</td></tr>",
                            "<tr><td>2015-06-21</td><td>NULL</td><td>6627</td></tr>",
                            "<tr><td>2015-06-22</td><td>NULL</td><td>9084</td></tr>",
                            "<tr><td>2015-06-23</td><td>NULL</td><td>8869</td></tr>",
                            "<tr><td>2015-06-24</td><td>NULL</td><td>4993</td></tr>",
                            "<tr><td>2015-06-25</td><td>NULL</td><td>8165</td></tr>",
                            "<tr><td>2015-06-26</td><td>NULL</td><td>10834</td></tr>",
                            "<tr><td>2015-06-27</td><td>NULL</td><td>6396</td></tr>",
                            "<tr><td>2015-06-28</td><td>NULL</td><td>6803</td></tr>",
                            "<tr><td>2015-06-29</td><td>NULL</td><td>7435</td></tr>",
                            "<tr><td>2015-06-30</td><td>NULL</td><td>8526</td></tr>",
                            "<tr><td>2015-07-01</td><td>NULL</td><td>6032</td></tr>",
                            "<tr><td>2015-07-02</td><td>NULL</td><td>7066</td></tr>",
                            "<tr><td>2015-07-03</td><td>NULL</td><td>6359</td></tr>",
                            "<tr><td>2015-07-04</td><td>NULL</td><td>8739</td></tr>",
                            "<tr><td>2015-07-05</td><td>NULL</td><td>8558</td></tr>",
                            "<tr><td>2015-07-06</td><td>NULL</td><td>8389</td></tr>",
                            "<tr><td>2015-07-07</td><td>NULL</td><td>9522</td></tr>",
                            "<tr><td>2015-07-08</td><td>NULL</td><td>6395</td></tr>",
                            "<tr><td>2015-07-09</td><td>NULL</td><td>7375</td></tr>",
                            "<tr><td>2015-07-10</td><td>NULL</td><td>7676</td></tr>",
                            "<tr><td>2015-07-11</td><td>NULL</td><td>7366</td></tr>",
                            "<tr><td>2015-07-12</td><td>NULL</td><td>8638</td></tr>",
                            "<tr><td>2015-07-13</td><td>NULL</td><td>8300</td></tr>",
                            "<tr><td>2015-07-14</td><td>NULL</td><td>6340</td></tr>",
                            "<tr><td>2015-07-15</td><td>NULL</td><td>8615</td></tr>",
                            "<tr><td>2015-07-16</td><td>NULL</td><td>7041</td></tr>",
                            "<tr><td>2015-07-17</td><td>NULL</td><td>7327</td></tr>",
                            "<tr><td>2015-07-18</td><td>NULL</td><td>6762</td></tr>",
                            "<tr><td>2015-07-19</td><td>NULL</td><td>6776</td></tr>",
                            "<tr><td>2015-07-20</td><td>NULL</td><td>9748</td></tr>",
                            "<tr><td>2015-07-21</td><td>NULL</td><td>9805</td></tr>",
                            "<tr><td>2015-07-22</td><td>NULL</td><td>5140</td></tr>",
                            "<tr><td>2015-07-23</td><td>NULL</td><td>7258</td></tr>",
                            "<tr><td>2015-07-24</td><td>NULL</td><td>8697</td></tr>",
                            "<tr><td>2015-07-25</td><td>NULL</td><td>8180</td></tr>",
                            "<tr><td>2015-07-26</td><td>NULL</td><td>9323</td></tr>",
                            "<tr><td>2015-07-27</td><td>NULL</td><td>5417</td></tr>",
                            "<tr><td>2015-07-28</td><td>NULL</td><td>7825</td></tr>",
                            "<tr><td>2015-07-29</td><td>NULL</td><td>6405</td></tr>",
                            "<tr><td>2015-07-30</td><td>NULL</td><td>10029</td></tr>",
                            "<tr><td>2015-07-31</td><td>NULL</td><td>8673</td></tr>",
                            "<tr><td>2015-08-01</td><td>NULL</td><td>9957</td></tr>",
                            "<tr><td>2015-08-02</td><td>NULL</td><td>7599</td></tr>",
                            "<tr><td>2015-08-03</td><td>NULL</td><td>9208</td></tr>",
                            "<tr><td>2015-08-04</td><td>NULL</td><td>9353</td></tr>",
                            "<tr><td>2015-08-05</td><td>NULL</td><td>10342</td></tr>",
                            "<tr><td>2015-08-06</td><td>NULL</td><td>5124</td></tr>",
                            "<tr><td>2015-08-07</td><td>NULL</td><td>8960</td></tr>",
                            "<tr><td>2015-08-08</td><td>NULL</td><td>10296</td></tr>",
                            "<tr><td>2015-08-09</td><td>NULL</td><td>6026</td></tr>",
                            "<tr><td>2015-08-10</td><td>NULL</td><td>7896</td></tr>",
                            "<tr><td>2015-08-11</td><td>NULL</td><td>9008</td></tr>",
                            "<tr><td>2015-08-12</td><td>NULL</td><td>7605</td></tr>",
                            "<tr><td>2015-08-13</td><td>NULL</td><td>9380</td></tr>",
                            "<tr><td>2015-08-14</td><td>NULL</td><td>9780</td></tr>",
                            "<tr><td>2015-08-15</td><td>NULL</td><td>7514</td></tr>",
                            "<tr><td>2015-08-16</td><td>NULL</td><td>5341</td></tr>",
                            "<tr><td>2015-08-17</td><td>NULL</td><td>7162</td></tr>",
                            "<tr><td>2015-08-18</td><td>NULL</td><td>6271</td></tr>",
                            "<tr><td>2015-08-19</td><td>NULL</td><td>6650</td></tr>",
                            "<tr><td>2015-08-20</td><td>NULL</td><td>9005</td></tr>",
                            "<tr><td>2015-08-21</td><td>NULL</td><td>6874</td></tr>",
                            "<tr><td>2015-08-22</td><td>NULL</td><td>10138</td></tr>",
                            "<tr><td>2015-08-23</td><td>NULL</td><td>6734</td></tr>",
                            "<tr><td>2015-08-24</td><td>NULL</td><td>7767</td></tr>",
                            "<tr><td>2015-08-25</td><td>NULL</td><td>9206</td></tr>",
                            "<tr><td>2015-08-26</td><td>NULL</td><td>11006</td></tr>",
                            "<tr><td>2015-08-27</td><td>NULL</td><td>6244</td></tr>",
                            "<tr><td>2015-08-28</td><td>NULL</td><td>8145</td></tr>",
                            "<tr><td>2015-08-29</td><td>NULL</td><td>7380</td></tr>",
                            "<tr><td>2015-08-30</td><td>NULL</td><td>9727</td></tr>",
                            "<tr><td>2015-08-31</td><td>NULL</td><td>7226</td></tr>",
                            "<tr><td>2015-09-01</td><td>NULL</td><td>9466</td></tr>",
                            "<tr><td>2015-09-02</td><td>NULL</td><td>6179</td></tr>",
                            "<tr><td>2015-09-03</td><td>NULL</td><td>9949</td></tr>",
                            "<tr><td>2015-09-04</td><td>NULL</td><td>10432</td></tr>",
                            "<tr><td>2015-09-05</td><td>NULL</td><td>7083</td></tr>",
                            "<tr><td>2015-09-06</td><td>NULL</td><td>8378</td></tr>",
                            "<tr><td>2015-09-07</td><td>NULL</td><td>8303</td></tr>",
                            "<tr><td>2015-09-08</td><td>NULL</td><td>8349</td></tr>",
                            "<tr><td>2015-09-09</td><td>NULL</td><td>7985</td></tr>",
                            "<tr><td>2015-09-10</td><td>NULL</td><td>10353</td></tr>",
                            "<tr><td>2015-09-11</td><td>NULL</td><td>9284</td></tr>",
                            "<tr><td>2015-09-12</td><td>NULL</td><td>8553</td></tr>",
                            "<tr><td>2015-09-13</td><td>NULL</td><td>7435</td></tr>",
                            "<tr><td>2015-09-14</td><td>NULL</td><td>8232</td></tr>",
                            "<tr><td>2015-09-15</td><td>NULL</td><td>4776</td></tr>",
                            "<tr><td>2015-09-16</td><td>NULL</td><td>7416</td></tr>",
                            "<tr><td>2015-09-17</td><td>NULL</td><td>8358</td></tr>",
                            "<tr><td>2015-09-18</td><td>NULL</td><td>7210</td></tr>",
                            "<tr><td>2015-09-19</td><td>NULL</td><td>8267</td></tr>",
                            "<tr><td>2015-09-20</td><td>NULL</td><td>10001</td></tr>",
                            "<tr><td>2015-09-21</td><td>NULL</td><td>7086</td></tr>",
                            "<tr><td>2015-09-22</td><td>NULL</td><td>7424</td></tr>",
                            "<tr><td>2015-09-23</td><td>NULL</td><td>8183</td></tr>",
                            "<tr><td>2015-09-24</td><td>NULL</td><td>10252</td></tr>",
                            "<tr><td>2015-09-25</td><td>NULL</td><td>8106</td></tr>",
                            "<tr><td>2015-09-26</td><td>NULL</td><td>9451</td></tr>",
                            "<tr><td>2015-09-27</td><td>NULL</td><td>8692</td></tr>",
                            "<tr><td>2015-09-28</td><td>NULL</td><td>10281</td></tr>",
                            "<tr><td>2015-09-29</td><td>NULL</td><td>9481</td></tr>",
                            "<tr><td>2015-09-30</td><td>NULL</td><td>5900</td></tr>",
                            "<tr><td>2015-10-01</td><td>NULL</td><td>9384</td></tr>",
                            "<tr><td>2015-10-02</td><td>NULL</td><td>5674</td></tr>",
                            "<tr><td>2015-10-03</td><td>NULL</td><td>8509</td></tr>",
                            "<tr><td>2015-10-04</td><td>NULL</td><td>7645</td></tr>",
                            "<tr><td>2015-10-05</td><td>NULL</td><td>8535</td></tr>",
                            "<tr><td>2015-10-06</td><td>NULL</td><td>7529</td></tr>",
                            "<tr><td>2015-10-07</td><td>NULL</td><td>9435</td></tr>",
                            "<tr><td>2015-10-08</td><td>NULL</td><td>7319</td></tr>",
                            "<tr><td>2015-10-09</td><td>NULL</td><td>8931</td></tr>",
                            "<tr><td>2015-10-10</td><td>NULL</td><td>7928</td></tr>",
                            "<tr><td>2015-10-11</td><td>NULL</td><td>7516</td></tr>",
                            "<tr><td>2015-10-12</td><td>NULL</td><td>9355</td></tr>",
                            "<tr><td>2015-10-13</td><td>NULL</td><td>6564</td></tr>",
                            "<tr><td>2015-10-14</td><td>NULL</td><td>7035</td></tr>",
                            "<tr><td>2015-10-15</td><td>NULL</td><td>9269</td></tr>",
                            "<tr><td>2015-10-16</td><td>NULL</td><td>8427</td></tr>",
                            "<tr><td>2015-10-17</td><td>NULL</td><td>6936</td></tr>",
                            "<tr><td>2015-10-18</td><td>NULL</td><td>8671</td></tr>",
                            "<tr><td>2015-10-19</td><td>NULL</td><td>7207</td></tr>",
                            "<tr><td>2015-10-20</td><td>NULL</td><td>8613</td></tr>",
                            "<tr><td>2015-10-21</td><td>NULL</td><td>7366</td></tr>",
                            "<tr><td>2015-10-22</td><td>NULL</td><td>6678</td></tr>",
                            "<tr><td>2015-10-23</td><td>NULL</td><td>8056</td></tr>",
                            "<tr><td>2015-10-24</td><td>NULL</td><td>7233</td></tr>",
                            "<tr><td>2015-10-25</td><td>NULL</td><td>9107</td></tr>",
                            "<tr><td>2015-10-26</td><td>NULL</td><td>9776</td></tr>",
                            "<tr><td>2015-10-27</td><td>NULL</td><td>7669</td></tr>",
                            "<tr><td>2015-10-28</td><td>NULL</td><td>7522</td></tr>",
                            "<tr><td>2015-10-29</td><td>NULL</td><td>6971</td></tr>",
                            "<tr><td>2015-10-30</td><td>NULL</td><td>8999</td></tr>",
                            "<tr><td>2015-10-31</td><td>NULL</td><td>7046</td></tr>",
                            "<tr><td>2015-11-01</td><td>NULL</td><td>6171</td></tr>",
                            "<tr><td>2015-11-02</td><td>NULL</td><td>7612</td></tr>",
                            "<tr><td>2015-11-03</td><td>NULL</td><td>11533</td></tr>",
                            "<tr><td>2015-11-04</td><td>NULL</td><td>5352</td></tr>",
                            "<tr><td>2015-11-05</td><td>NULL</td><td>7183</td></tr>",
                            "<tr><td>2015-11-06</td><td>NULL</td><td>8606</td></tr>",
                            "<tr><td>2015-11-07</td><td>NULL</td><td>7260</td></tr>",
                            "<tr><td>2015-11-08</td><td>NULL</td><td>8177</td></tr>",
                            "<tr><td>2015-11-09</td><td>NULL</td><td>8431</td></tr>",
                            "<tr><td>2015-11-10</td><td>NULL</td><td>8329</td></tr>",
                            "<tr><td>2015-11-11</td><td>NULL</td><td>8191</td></tr>",
                            "<tr><td>2015-11-12</td><td>NULL</td><td>5884</td></tr>",
                            "<tr><td>2015-11-13</td><td>NULL</td><td>7359</td></tr>",
                            "<tr><td>2015-11-14</td><td>NULL</td><td>7730</td></tr>",
                            "<tr><td>2015-11-15</td><td>NULL</td><td>6881</td></tr>",
                            "<tr><td>2015-11-16</td><td>NULL</td><td>7721</td></tr>",
                            "<tr><td>2015-11-17</td><td>NULL</td><td>7234</td></tr>",
                            "<tr><td>2015-11-18</td><td>NULL</td><td>8321</td></tr>",
                            "<tr><td>2015-11-19</td><td>NULL</td><td>7582</td></tr>",
                            "<tr><td>2015-11-20</td><td>NULL</td><td>6288</td></tr>",
                            "<tr><td>2015-11-21</td><td>NULL</td><td>6657</td></tr>",
                            "<tr><td>2015-11-22</td><td>NULL</td><td>8640</td></tr>",
                            "<tr><td>2015-11-23</td><td>NULL</td><td>7363</td></tr>",
                            "<tr><td>2015-11-24</td><td>NULL</td><td>7556</td></tr>",
                            "<tr><td>2015-11-25</td><td>NULL</td><td>7103</td></tr>",
                            "<tr><td>2015-11-26</td><td>NULL</td><td>8368</td></tr>",
                            "<tr><td>2015-11-27</td><td>NULL</td><td>6865</td></tr>",
                            "<tr><td>2015-11-28</td><td>NULL</td><td>10098</td></tr>",
                            "<tr><td>2015-11-29</td><td>NULL</td><td>7636</td></tr>",
                            "<tr><td>2015-11-30</td><td>NULL</td><td>7182</td></tr>",
                            "<tr><td>2015-12-01</td><td>NULL</td><td>7314</td></tr>",
                            "<tr><td>2015-12-02</td><td>NULL</td><td>9592</td></tr>",
                            "<tr><td>2015-12-03</td><td>NULL</td><td>8829</td></tr>",
                            "<tr><td>2015-12-04</td><td>NULL</td><td>8013</td></tr>",
                            "<tr><td>2015-12-05</td><td>NULL</td><td>8887</td></tr>",
                            "<tr><td>2015-12-06</td><td>NULL</td><td>5596</td></tr>",
                            "<tr><td>2015-12-07</td><td>NULL</td><td>8825</td></tr>",
                            "<tr><td>2015-12-08</td><td>NULL</td><td>7819</td></tr>",
                            "<tr><td>2015-12-09</td><td>NULL</td><td>7897</td></tr>",
                            "<tr><td>2015-12-10</td><td>NULL</td><td>9644</td></tr>",
                            "<tr><td>2015-12-11</td><td>NULL</td><td>8093</td></tr>",
                            "<tr><td>2015-12-12</td><td>NULL</td><td>8957</td></tr>",
                            "<tr><td>2015-12-13</td><td>NULL</td><td>7399</td></tr>",
                            "<tr><td>2015-12-14</td><td>NULL</td><td>7676</td></tr>",
                            "<tr><td>2015-12-15</td><td>NULL</td><td>6863</td></tr>",
                            "<tr><td>2015-12-16</td><td>NULL</td><td>7886</td></tr>",
                            "<tr><td>2015-12-17</td><td>NULL</td><td>6894</td></tr>",
                            "<tr><td>2015-12-18</td><td>NULL</td><td>12260</td></tr>",
                            "<tr><td>2015-12-19</td><td>NULL</td><td>5788</td></tr>",
                            "<tr><td>2015-12-20</td><td>NULL</td><td>8699</td></tr>",
                            "<tr><td>2015-12-21</td><td>NULL</td><td>6630</td></tr>",
                            "<tr><td>2015-12-22</td><td>NULL</td><td>9212</td></tr>",
                            "<tr><td>2015-12-23</td><td>NULL</td><td>6676</td></tr>",
                            "<tr><td>2015-12-24</td><td>NULL</td><td>8869</td></tr>",
                            "<tr><td>2015-12-25</td><td>NULL</td><td>6944</td></tr>",
                            "<tr><td>2015-12-26</td><td>NULL</td><td>8921</td></tr>",
                            "<tr><td>2015-12-27</td><td>NULL</td><td>7648</td></tr>",
                            "<tr><td>2015-12-28</td><td>NULL</td><td>8042</td></tr>",
                            "<tr><td>2015-12-29</td><td>NULL</td><td>7923</td></tr>",
                            "<tr><td>2015-12-30</td><td>NULL</td><td>6562</td></tr>",
                            "<tr><td>2015-12-31</td><td>NULL</td><td>7021</td></tr>",
                            "<tr><td>2016-01-01</td><td>NULL</td><td>8837</td></tr>",
                            "<tr><td>2016-01-02</td><td>NULL</td><td>7518</td></tr>",
                            "<tr><td>2016-01-03</td><td>NULL</td><td>8422</td></tr>",
                            "<tr><td>2016-01-04</td><td>NULL</td><td>8813</td></tr>",
                            "<tr><td>2016-01-05</td><td>NULL</td><td>6895</td></tr>",
                            "<tr><td>2016-01-06</td><td>NULL</td><td>6716</td></tr>",
                            "<tr><td>2016-01-07</td><td>NULL</td><td>5593</td></tr>",
                            "<tr><td>2016-01-08</td><td>NULL</td><td>9534</td></tr>",
                            "<tr><td>2016-01-09</td><td>NULL</td><td>7056</td></tr>",
                            "<tr><td>2016-01-10</td><td>NULL</td><td>8057</td></tr>",
                            "<tr><td>2016-01-11</td><td>NULL</td><td>6734</td></tr>",
                            "<tr><td>2016-01-12</td><td>NULL</td><td>6949</td></tr>",
                            "<tr><td>2016-01-13</td><td>NULL</td><td>7487</td></tr>",
                            "<tr><td>2016-01-14</td><td>NULL</td><td>8998</td></tr>",
                            "<tr><td>2016-01-15</td><td>NULL</td><td>9345</td></tr>",
                            "<tr><td>2016-01-16</td><td>NULL</td><td>8068</td></tr>",
                            "<tr><td>2016-01-17</td><td>NULL</td><td>6954</td></tr>",
                            "<tr><td>2016-01-18</td><td>NULL</td><td>4416</td></tr>",
                            "<tr><td>2016-01-19</td><td>NULL</td><td>7124</td></tr>",
                            "<tr><td>2016-01-20</td><td>NULL</td><td>8568</td></tr>",
                            "<tr><td>2016-01-21</td><td>NULL</td><td>10953</td></tr>",
                            "<tr><td>2016-01-22</td><td>NULL</td><td>8588</td></tr>",
                            "<tr><td>2016-01-23</td><td>NULL</td><td>6512</td></tr>",
                            "<tr><td>2016-01-24</td><td>NULL</td><td>8898</td></tr>",
                            "<tr><td>2016-01-25</td><td>NULL</td><td>5191</td></tr>",
                            "<tr><td>2016-01-26</td><td>NULL</td><td>5293</td></tr>",
                            "<tr><td>2016-01-27</td><td>NULL</td><td>6513</td></tr>",
                            "<tr><td>2016-01-28</td><td>NULL</td><td>8119</td></tr>",
                            "<tr><td>2016-01-29</td><td>NULL</td><td>6658</td></tr>",
                            "<tr><td>2016-01-30</td><td>NULL</td><td>8727</td></tr>",
                            "<tr><td>2016-01-31</td><td>NULL</td><td>7527</td></tr>",
                            "<tr><td>2016-02-01</td><td>NULL</td><td>9120</td></tr>",
                            "<tr><td>2016-02-02</td><td>NULL</td><td>8088</td></tr>",
                            "<tr><td>2016-02-03</td><td>NULL</td><td>9306</td></tr>",
                            "<tr><td>2016-02-04</td><td>NULL</td><td>7994</td></tr>",
                            "<tr><td>2016-02-05</td><td>NULL</td><td>9703</td></tr>",
                            "<tr><td>2016-02-06</td><td>NULL</td><td>9860</td></tr>",
                            "<tr><td>2016-02-07</td><td>NULL</td><td>6630</td></tr>",
                            "<tr><td>2016-02-08</td><td>NULL</td><td>10093</td></tr>",
                            "<tr><td>2016-02-09</td><td>NULL</td><td>9706</td></tr>",
                            "<tr><td>2016-02-10</td><td>NULL</td><td>8520</td></tr>",
                            "<tr><td>2016-02-11</td><td>NULL</td><td>7094</td></tr>",
                            "<tr><td>2016-02-12</td><td>NULL</td><td>7789</td></tr>",
                            "<tr><td>2016-02-13</td><td>NULL</td><td>7991</td></tr>",
                            "<tr><td>2016-02-14</td><td>NULL</td><td>8049</td></tr>",
                            "<tr><td>2016-02-15</td><td>NULL</td><td>10033</td></tr>",
                            "<tr><td>2016-02-16</td><td>NULL</td><td>8049</td></tr>",
                            "<tr><td>2016-02-17</td><td>NULL</td><td>9586</td></tr>",
                            "<tr><td>2016-02-18</td><td>NULL</td><td>5922</td></tr>",
                            "<tr><td>2016-02-19</td><td>NULL</td><td>8898</td></tr>",
                            "<tr><td>2016-02-20</td><td>NULL</td><td>7549</td></tr>",
                            "<tr><td>2016-02-21</td><td>NULL</td><td>6531</td></tr>",
                            "<tr><td>2016-02-22</td><td>NULL</td><td>8724</td></tr>",
                            "<tr><td>2016-02-23</td><td>NULL</td><td>6959</td></tr>",
                            "<tr><td>2016-02-24</td><td>NULL</td><td>6314</td></tr>",
                            "<tr><td>2016-02-25</td><td>NULL</td><td>7324</td></tr>",
                            "<tr><td>2016-02-26</td><td>NULL</td><td>8466</td></tr>",
                            "<tr><td>2016-02-27</td><td>NULL</td><td>7122</td></tr>",
                            "<tr><td>2016-02-28</td><td>NULL</td><td>8447</td></tr>",
                            "<tr><td>2016-02-29</td><td>NULL</td><td>8516</td></tr>",
                            "<tr><td>2016-03-01</td><td>NULL</td><td>9654</td></tr>",
                            "<tr><td>2016-03-02</td><td>NULL</td><td>7282</td></tr>",
                            "<tr><td>2016-03-03</td><td>NULL</td><td>8853</td></tr>",
                            "<tr><td>2016-03-04</td><td>NULL</td><td>8549</td></tr>",
                            "<tr><td>2016-03-05</td><td>NULL</td><td>9463</td></tr>",
                            "<tr><td>2016-03-06</td><td>NULL</td><td>7740</td></tr>",
                            "<tr><td>2016-03-07</td><td>NULL</td><td>7680</td></tr>",
                            "<tr><td>2016-03-08</td><td>NULL</td><td>5849</td></tr>",
                            "<tr><td>2016-03-09</td><td>NULL</td><td>9412</td></tr>",
                            "<tr><td>2016-03-10</td><td>NULL</td><td>8848</td></tr>",
                            "<tr><td>2016-03-11</td><td>NULL</td><td>6193</td></tr>",
                            "<tr><td>2016-03-12</td><td>NULL</td><td>10487</td></tr>",
                            "<tr><td>2016-03-13</td><td>NULL</td><td>5913</td></tr>",
                            "<tr><td>2016-03-14</td><td>NULL</td><td>9336</td></tr>",
                            "<tr><td>2016-03-15</td><td>NULL</td><td>8180</td></tr>",
                            "<tr><td>2016-03-16</td><td>NULL</td><td>7448</td></tr>",
                            "<tr><td>2016-03-17</td><td>NULL</td><td>7770</td></tr>",
                            "<tr><td>2016-03-18</td><td>NULL</td><td>6927</td></tr>",
                            "<tr><td>2016-03-19</td><td>NULL</td><td>7827</td></tr>",
                            "<tr><td>2016-03-20</td><td>NULL</td><td>12190</td></tr>",
                            "<tr><td>2016-03-21</td><td>NULL</td><td>11075</td></tr>",
                            "<tr><td>2016-03-22</td><td>NULL</td><td>7770</td></tr>",
                            "<tr><td>2016-03-23</td><td>NULL</td><td>6397</td></tr>",
                            "<tr><td>2016-03-24</td><td>NULL</td><td>7220</td></tr>",
                            "<tr><td>2016-03-25</td><td>NULL</td><td>8763</td></tr>",
                            "<tr><td>2016-03-26</td><td>NULL</td><td>9893</td></tr>",
                            "<tr><td>2016-03-27</td><td>NULL</td><td>8950</td></tr>",
                            "<tr><td>2016-03-28</td><td>NULL</td><td>7552</td></tr>",
                            "<tr><td>2016-03-29</td><td>NULL</td><td>7416</td></tr>",
                            "<tr><td>2016-03-30</td><td>NULL</td><td>8631</td></tr>",
                            "<tr><td>2016-03-31</td><td>NULL</td><td>6885</td></tr>",
                            "<tr><td>2016-04-01</td><td>NULL</td><td>8756</td></tr>",
                            "<tr><td>2016-04-02</td><td>NULL</td><td>8073</td></tr>",
                            "<tr><td>2016-04-03</td><td>NULL</td><td>5897</td></tr>",
                            "<tr><td>2016-04-04</td><td>NULL</td><td>7405</td></tr>",
                            "<tr><td>2016-04-05</td><td>NULL</td><td>8092</td></tr>",
                            "<tr><td>2016-04-06</td><td>NULL</td><td>7458</td></tr>",
                            "<tr><td>2016-04-07</td><td>NULL</td><td>9216</td></tr>",
                            "<tr><td>2016-04-08</td><td>NULL</td><td>10889</td></tr>",
                            "<tr><td>2016-04-09</td><td>NULL</td><td>9754</td></tr>",
                            "<tr><td>2016-04-10</td><td>NULL</td><td>9878</td></tr>",
                            "<tr><td>2016-04-11</td><td>NULL</td><td>8948</td></tr>",
                            "<tr><td>2016-04-12</td><td>NULL</td><td>7144</td></tr>",
                            "<tr><td>2016-04-13</td><td>NULL</td><td>7728</td></tr>",
                            "<tr><td>2016-04-14</td><td>NULL</td><td>8805</td></tr>",
                            "<tr><td>2016-04-15</td><td>NULL</td><td>8331</td></tr>",
                            "<tr><td>2016-04-16</td><td>NULL</td><td>8755</td></tr>",
                            "<tr><td>2016-04-17</td><td>NULL</td><td>10267</td></tr>",
                            "<tr><td>2016-04-18</td><td>NULL</td><td>7586</td></tr>",
                            "<tr><td>2016-04-19</td><td>NULL</td><td>9190</td></tr>",
                            "<tr><td>2016-04-20</td><td>NULL</td><td>6584</td></tr>",
                            "<tr><td>2016-04-21</td><td>NULL</td><td>6628</td></tr>",
                            "<tr><td>2016-04-22</td><td>NULL</td><td>6502</td></tr>",
                            "<tr><td>2016-04-23</td><td>NULL</td><td>6588</td></tr>",
                            "<tr><td>2016-04-24</td><td>NULL</td><td>9512</td></tr>",
                            "<tr><td>2016-04-25</td><td>NULL</td><td>10177</td></tr>",
                            "<tr><td>2016-04-26</td><td>NULL</td><td>7946</td></tr>",
                            "<tr><td>2016-04-27</td><td>NULL</td><td>8344</td></tr>",
                            "<tr><td>2016-04-28</td><td>NULL</td><td>7732</td></tr>",
                            "<tr><td>2016-04-29</td><td>NULL</td><td>7870</td></tr>",
                            "<tr><td>2016-04-30</td><td>NULL</td><td>7898</td></tr>",
                            "<tr><td>2016-05-01</td><td>NULL</td><td>6600</td></tr>",
                            "<tr><td>2016-05-02</td><td>NULL</td><td>8142</td></tr>",
                            "<tr><td>2016-05-03</td><td>NULL</td><td>5084</td></tr>",
                            "<tr><td>2016-05-04</td><td>NULL</td><td>9125</td></tr>",
                            "<tr><td>2016-05-05</td><td>NULL</td><td>7845</td></tr>",
                            "<tr><td>2016-05-06</td><td>NULL</td><td>7969</td></tr>",
                            "<tr><td>2016-05-07</td><td>NULL</td><td>8896</td></tr>",
                            "<tr><td>2016-05-08</td><td>NULL</td><td>7858</td></tr>",
                            "<tr><td>2016-05-09</td><td>NULL</td><td>11178</td></tr>",
                            "<tr><td>2016-05-10</td><td>NULL</td><td>8968</td></tr>",
                            "<tr><td>2016-05-11</td><td>NULL</td><td>8132</td></tr>",
                            "<tr><td>2016-05-12</td><td>NULL</td><td>8095</td></tr>",
                            "<tr><td>2016-05-13</td><td>NULL</td><td>8089</td></tr>",
                            "<tr><td>2016-05-14</td><td>NULL</td><td>7722</td></tr>",
                            "<tr><td>2016-05-15</td><td>NULL</td><td>5490</td></tr>",
                            "<tr><td>2016-05-16</td><td>NULL</td><td>7944</td></tr>",
                            "<tr><td>2016-05-17</td><td>NULL</td><td>8888</td></tr>",
                            "<tr><td>2016-05-18</td><td>NULL</td><td>5720</td></tr>",
                            "<tr><td>2016-05-19</td><td>NULL</td><td>7578</td></tr>",
                            "<tr><td>2016-05-20</td><td>NULL</td><td>8879</td></tr>",
                            "<tr><td>2016-05-21</td><td>NULL</td><td>9030</td></tr>",
                            "<tr><td>2016-05-22</td><td>NULL</td><td>4914</td></tr>",
                            "<tr><td>2016-05-23</td><td>NULL</td><td>8577</td></tr>",
                            "<tr><td>2016-05-24</td><td>NULL</td><td>8816</td></tr>",
                            "<tr><td>2016-05-25</td><td>NULL</td><td>9296</td></tr>",
                            "<tr><td>2016-05-26</td><td>NULL</td><td>5287</td></tr>",
                            "<tr><td>2016-05-27</td><td>NULL</td><td>9701</td></tr>",
                            "<tr><td>2016-05-28</td><td>NULL</td><td>6509</td></tr>",
                            "<tr><td>2016-05-29</td><td>NULL</td><td>9450</td></tr>",
                            "<tr><td>2016-05-30</td><td>NULL</td><td>6884</td></tr>",
                            "<tr><td>2016-05-31</td><td>NULL</td><td>10007</td></tr>",
                            "<tr><td>2016-06-01</td><td>NULL</td><td>8484</td></tr>",
                            "<tr><td>2016-06-02</td><td>NULL</td><td>6928</td></tr>",
                            "<tr><td>2016-06-03</td><td>NULL</td><td>6567</td></tr>",
                            "<tr><td>2016-06-04</td><td>NULL</td><td>7904</td></tr>",
                            "<tr><td>2016-06-05</td><td>NULL</td><td>5802</td></tr>",
                            "<tr><td>2016-06-06</td><td>NULL</td><td>9474</td></tr>",
                            "<tr><td>2016-06-07</td><td>NULL</td><td>8722</td></tr>",
                            "<tr><td>2016-06-08</td><td>NULL</td><td>7019</td></tr>",
                            "<tr><td>2016-06-09</td><td>NULL</td><td>7354</td></tr>",
                            "<tr><td>2016-06-10</td><td>NULL</td><td>8873</td></tr>",
                            "<tr><td>2016-06-11</td><td>NULL</td><td>9217</td></tr>",
                            "<tr><td>2016-06-12</td><td>NULL</td><td>9418</td></tr>",
                            "<tr><td>2016-06-13</td><td>NULL</td><td>6407</td></tr>",
                            "<tr><td>2016-06-14</td><td>NULL</td><td>7968</td></tr>",
                            "<tr><td>2016-06-15</td><td>NULL</td><td>8830</td></tr>",
                            "<tr><td>2016-06-16</td><td>NULL</td><td>6462</td></tr>",
                            "<tr><td>2016-06-17</td><td>NULL</td><td>9189</td></tr>",
                            "<tr><td>2016-06-18</td><td>NULL</td><td>6311</td></tr>",
                            "<tr><td>2016-06-19</td><td>NULL</td><td>8834</td></tr>",
                            "<tr><td>2016-06-20</td><td>NULL</td><td>8005</td></tr>",
                            "<tr><td>2016-06-21</td><td>NULL</td><td>6482</td></tr>",
                            "<tr><td>2016-06-22</td><td>NULL</td><td>6541</td></tr>",
                            "<tr><td>2016-06-23</td><td>NULL</td><td>6662</td></tr>",
                            "<tr><td>2016-06-24</td><td>NULL</td><td>8530</td></tr>",
                            "<tr><td>2016-06-25</td><td>NULL</td><td>8262</td></tr>",
                            "<tr><td>2016-06-26</td><td>NULL</td><td>10488</td></tr>",
                            "<tr><td>2016-06-27</td><td>NULL</td><td>5541</td></tr>",
                            "<tr><td>2016-06-28</td><td>NULL</td><td>10267</td></tr>",
                            "<tr><td>2016-06-29</td><td>NULL</td><td>9869</td></tr>",
                            "<tr><td>2016-06-30</td><td>NULL</td><td>9437</td></tr>",
                            "<tr><td>2016-07-01</td><td>NULL</td><td>5916</td></tr>",
                            "<tr><td>2016-07-02</td><td>NULL</td><td>6710</td></tr>",
                            "<tr><td>2016-07-03</td><td>NULL</td><td>9081</td></tr>",
                            "<tr><td>2016-07-04</td><td>NULL</td><td>10816</td></tr>",
                            "<tr><td>2016-07-05</td><td>NULL</td><td>8863</td></tr>",
                            "<tr><td>2016-07-06</td><td>NULL</td><td>7283</td></tr>",
                            "<tr><td>2016-07-07</td><td>NULL</td><td>5922</td></tr>",
                            "<tr><td>2016-07-08</td><td>NULL</td><td>7968</td></tr>",
                            "<tr><td>2016-07-09</td><td>NULL</td><td>9112</td></tr>",
                            "<tr><td>2016-07-10</td><td>NULL</td><td>7494</td></tr>",
                            "<tr><td>2016-07-11</td><td>NULL</td><td>10358</td></tr>",
                            "<tr><td>2016-07-12</td><td>NULL</td><td>8519</td></tr>",
                            "<tr><td>2016-07-13</td><td>NULL</td><td>8721</td></tr>",
                            "<tr><td>2016-07-14</td><td>NULL</td><td>7363</td></tr>",
                            "<tr><td>2016-07-15</td><td>NULL</td><td>7066</td></tr>",
                            "<tr><td>2016-07-16</td><td>NULL</td><td>8298</td></tr>",
                            "<tr><td>2016-07-17</td><td>NULL</td><td>6320</td></tr>",
                            "<tr><td>2016-07-18</td><td>NULL</td><td>8573</td></tr>",
                            "<tr><td>2016-07-19</td><td>NULL</td><td>9023</td></tr>",
                            "<tr><td>2016-07-20</td><td>NULL</td><td>7415</td></tr>",
                            "<tr><td>2016-07-21</td><td>NULL</td><td>7484</td></tr>",
                            "<tr><td>2016-07-22</td><td>NULL</td><td>7412</td></tr>",
                            "<tr><td>2016-07-23</td><td>NULL</td><td>6895</td></tr>",
                            "<tr><td>2016-07-24</td><td>NULL</td><td>6958</td></tr>",
                            "<tr><td>2016-07-25</td><td>NULL</td><td>7559</td></tr>",
                            "<tr><td>2016-07-26</td><td>NULL</td><td>7020</td></tr>",
                            "<tr><td>2016-07-27</td><td>NULL</td><td>9352</td></tr>",
                            "<tr><td>2016-07-28</td><td>NULL</td><td>7155</td></tr>",
                            "<tr><td>2016-07-29</td><td>NULL</td><td>9038</td></tr>",
                            "<tr><td>2016-07-30</td><td>NULL</td><td>6288</td></tr>",
                            "<tr><td>2016-07-31</td><td>NULL</td><td>9007</td></tr>",
                            "<tr><td>2016-08-01</td><td>NULL</td><td>7588</td></tr>",
                            "<tr><td>2016-08-02</td><td>NULL</td><td>6686</td></tr>",
                            "<tr><td>2016-08-03</td><td>NULL</td><td>7884</td></tr>",
                            "<tr><td>2016-08-04</td><td>NULL</td><td>6900</td></tr>",
                            "<tr><td>2016-08-05</td><td>NULL</td><td>7610</td></tr>",
                            "<tr><td>2016-08-06</td><td>NULL</td><td>8498</td></tr>",
                            "<tr><td>2016-08-07</td><td>NULL</td><td>5511</td></tr>",
                            "<tr><td>2016-08-08</td><td>NULL</td><td>5829</td></tr>",
                            "<tr><td>2016-08-09</td><td>NULL</td><td>10307</td></tr>",
                            "<tr><td>2016-08-10</td><td>NULL</td><td>8311</td></tr>",
                            "<tr><td>2016-08-11</td><td>NULL</td><td>8232</td></tr>",
                            "<tr><td>2016-08-12</td><td>NULL</td><td>8761</td></tr>",
                            "<tr><td>2016-08-13</td><td>NULL</td><td>9571</td></tr>",
                            "<tr><td>2016-08-14</td><td>NULL</td><td>8263</td></tr>",
                            "<tr><td>2016-08-15</td><td>NULL</td><td>10966</td></tr>",
                            "<tr><td>2016-08-16</td><td>NULL</td><td>7435</td></tr>",
                            "<tr><td>2016-08-17</td><td>NULL</td><td>7576</td></tr>",
                            "<tr><td>2016-08-18</td><td>NULL</td><td>7689</td></tr>",
                            "<tr><td>2016-08-19</td><td>NULL</td><td>6974</td></tr>",
                            "<tr><td>2016-08-20</td><td>NULL</td><td>9117</td></tr>",
                            "<tr><td>2016-08-21</td><td>NULL</td><td>5864</td></tr>",
                            "<tr><td>2016-08-22</td><td>NULL</td><td>7082</td></tr>",
                            "<tr><td>2016-08-23</td><td>NULL</td><td>6153</td></tr>",
                            "<tr><td>2016-08-24</td><td>NULL</td><td>8822</td></tr>",
                            "<tr><td>2016-08-25</td><td>NULL</td><td>9398</td></tr>",
                            "<tr><td>2016-08-26</td><td>NULL</td><td>8695</td></tr>",
                            "<tr><td>2016-08-27</td><td>NULL</td><td>8120</td></tr>",
                            "<tr><td>2016-08-28</td><td>NULL</td><td>8937</td></tr>",
                            "<tr><td>2016-08-29</td><td>NULL</td><td>7542</td></tr>",
                            "<tr><td>2016-08-30</td><td>NULL</td><td>5527</td></tr>",
                            "<tr><td>2016-08-31</td><td>NULL</td><td>6069</td></tr>",
                            "<tr><td>2016-09-01</td><td>NULL</td><td>6626</td></tr>",
                            "<tr><td>2016-09-02</td><td>NULL</td><td>7775</td></tr>",
                            "<tr><td>2016-09-03</td><td>NULL</td><td>11043</td></tr>",
                            "<tr><td>2016-09-04</td><td>NULL</td><td>11369</td></tr>",
                            "<tr><td>2016-09-05</td><td>NULL</td><td>6206</td></tr>",
                            "<tr><td>2016-09-06</td><td>NULL</td><td>8736</td></tr>",
                            "<tr><td>2016-09-07</td><td>NULL</td><td>8579</td></tr>",
                            "<tr><td>2016-09-08</td><td>NULL</td><td>8561</td></tr>",
                            "<tr><td>2016-09-09</td><td>NULL</td><td>8470</td></tr>",
                            "<tr><td>2016-09-10</td><td>NULL</td><td>9203</td></tr>",
                            "<tr><td>2016-09-11</td><td>NULL</td><td>8573</td></tr>",
                            "<tr><td>2016-09-12</td><td>NULL</td><td>6264</td></tr>",
                            "<tr><td>2016-09-13</td><td>NULL</td><td>8200</td></tr>",
                            "<tr><td>2016-09-14</td><td>NULL</td><td>10576</td></tr>",
                            "<tr><td>2016-09-15</td><td>NULL</td><td>10530</td></tr>",
                            "<tr><td>2016-09-16</td><td>NULL</td><td>5621</td></tr>",
                            "<tr><td>2016-09-17</td><td>NULL</td><td>7379</td></tr>",
                            "<tr><td>2016-09-18</td><td>NULL</td><td>10790</td></tr>",
                            "<tr><td>2016-09-19</td><td>NULL</td><td>7019</td></tr>",
                            "<tr><td>2016-09-20</td><td>NULL</td><td>8544</td></tr>",
                            "<tr><td>2016-09-21</td><td>NULL</td><td>5504</td></tr>",
                            "<tr><td>2016-09-22</td><td>NULL</td><td>6691</td></tr>",
                            "<tr><td>2016-09-23</td><td>NULL</td><td>6574</td></tr>",
                            "<tr><td>2016-09-24</td><td>NULL</td><td>6220</td></tr>",
                            "<tr><td>2016-09-25</td><td>NULL</td><td>6759</td></tr>",
                            "<tr><td>2016-09-26</td><td>NULL</td><td>7073</td></tr>",
                            "<tr><td>2016-09-27</td><td>NULL</td><td>9214</td></tr>",
                            "<tr><td>2016-09-28</td><td>NULL</td><td>7948</td></tr>",
                            "<tr><td>2016-09-29</td><td>NULL</td><td>5840</td></tr>",
                            "<tr><td>2016-09-30</td><td>NULL</td><td>8410</td></tr>",
                            "<tr><td>2016-10-01</td><td>NULL</td><td>8122</td></tr>",
                            "<tr><td>2016-10-02</td><td>NULL</td><td>7206</td></tr>",
                            "<tr><td>2016-10-03</td><td>NULL</td><td>6357</td></tr>",
                            "<tr><td>2016-10-04</td><td>NULL</td><td>7203</td></tr>",
                            "<tr><td>2016-10-05</td><td>NULL</td><td>7856</td></tr>",
                            "<tr><td>2016-10-06</td><td>NULL</td><td>6682</td></tr>",
                            "<tr><td>2016-10-07</td><td>NULL</td><td>6607</td></tr>",
                            "<tr><td>2016-10-08</td><td>NULL</td><td>8515</td></tr>",
                            "<tr><td>2016-10-09</td><td>NULL</td><td>10396</td></tr>",
                            "<tr><td>2016-10-10</td><td>NULL</td><td>7117</td></tr>",
                            "<tr><td>2016-10-11</td><td>NULL</td><td>9192</td></tr>",
                            "<tr><td>2016-10-12</td><td>NULL</td><td>10889</td></tr>",
                            "<tr><td>2016-10-13</td><td>NULL</td><td>10192</td></tr>",
                            "<tr><td>2016-10-14</td><td>NULL</td><td>7397</td></tr>",
                            "<tr><td>2016-10-15</td><td>NULL</td><td>7459</td></tr>",
                            "<tr><td>2016-10-16</td><td>NULL</td><td>7198</td></tr>",
                            "<tr><td>2016-10-17</td><td>NULL</td><td>11045</td></tr>",
                            "<tr><td>2016-10-18</td><td>NULL</td><td>7033</td></tr>",
                            "<tr><td>2016-10-19</td><td>NULL</td><td>9307</td></tr>",
                            "<tr><td>2016-10-20</td><td>NULL</td><td>6856</td></tr>",
                            "<tr><td>2016-10-21</td><td>NULL</td><td>9403</td></tr>",
                            "<tr><td>2016-10-22</td><td>NULL</td><td>8356</td></tr>",
                            "<tr><td>2016-10-23</td><td>NULL</td><td>9634</td></tr>",
                            "<tr><td>2016-10-24</td><td>NULL</td><td>4888</td></tr>",
                            "<tr><td>2016-10-25</td><td>NULL</td><td>11978</td></tr>",
                            "<tr><td>2016-10-26</td><td>NULL</td><td>8070</td></tr>",
                            "<tr><td>2016-10-27</td><td>NULL</td><td>7617</td></tr>",
                            "<tr><td>2016-10-28</td><td>NULL</td><td>7766</td></tr>",
                            "<tr><td>2016-10-29</td><td>NULL</td><td>6854</td></tr>",
                            "<tr><td>2016-10-30</td><td>NULL</td><td>11718</td></tr>",
                            "<tr><td>2016-10-31</td><td>NULL</td><td>8714</td></tr>",
                            "<tr><td>2016-11-01</td><td>NULL</td><td>7238</td></tr>",
                            "<tr><td>2016-11-02</td><td>NULL</td><td>5472</td></tr>",
                            "<tr><td>2016-11-03</td><td>NULL</td><td>7739</td></tr>",
                            "<tr><td>2016-11-04</td><td>NULL</td><td>6667</td></tr>",
                            "<tr><td>2016-11-05</td><td>NULL</td><td>9157</td></tr>",
                            "<tr><td>2016-11-06</td><td>NULL</td><td>8517</td></tr>",
                            "<tr><td>2016-11-07</td><td>NULL</td><td>6691</td></tr>",
                            "<tr><td>2016-11-08</td><td>NULL</td><td>8431</td></tr>",
                            "<tr><td>2016-11-09</td><td>NULL</td><td>5911</td></tr>",
                            "<tr><td>2016-11-10</td><td>NULL</td><td>6795</td></tr>",
                            "<tr><td>2016-11-11</td><td>NULL</td><td>6940</td></tr>",
                            "<tr><td>2016-11-12</td><td>NULL</td><td>10959</td></tr>",
                            "<tr><td>2016-11-13</td><td>NULL</td><td>10751</td></tr>",
                            "<tr><td>2016-11-14</td><td>NULL</td><td>11881</td></tr>",
                            "<tr><td>2016-11-15</td><td>NULL</td><td>6736</td></tr>",
                            "<tr><td>2016-11-16</td><td>NULL</td><td>8969</td></tr>",
                            "<tr><td>2016-11-17</td><td>NULL</td><td>6852</td></tr>",
                            "<tr><td>2016-11-18</td><td>NULL</td><td>6770</td></tr>",
                            "<tr><td>2016-11-19</td><td>NULL</td><td>7451</td></tr>",
                            "<tr><td>2016-11-20</td><td>NULL</td><td>7946</td></tr>",
                            "<tr><td>2016-11-21</td><td>NULL</td><td>6727</td></tr>",
                            "<tr><td>2016-11-22</td><td>NULL</td><td>7801</td></tr>",
                            "<tr><td>2016-11-23</td><td>NULL</td><td>7435</td></tr>",
                            "<tr><td>2016-11-24</td><td>NULL</td><td>5981</td></tr>",
                            "<tr><td>2016-11-25</td><td>NULL</td><td>6915</td></tr>",
                            "<tr><td>2016-11-26</td><td>NULL</td><td>9216</td></tr>",
                            "<tr><td>2016-11-27</td><td>NULL</td><td>9893</td></tr>",
                            "<tr><td>2016-11-28</td><td>NULL</td><td>9770</td></tr>",
                            "<tr><td>2016-11-29</td><td>NULL</td><td>8722</td></tr>",
                            "<tr><td>2016-11-30</td><td>NULL</td><td>6419</td></tr>",
                            "<tr><td>2016-12-01</td><td>NULL</td><td>9940</td></tr>",
                            "<tr><td>2016-12-02</td><td>NULL</td><td>4748</td></tr>",
                            "<tr><td>2016-12-03</td><td>NULL</td><td>6745</td></tr>",
                            "<tr><td>2016-12-04</td><td>NULL</td><td>9959</td></tr>",
                            "<tr><td>2016-12-05</td><td>NULL</td><td>8225</td></tr>",
                            "<tr><td>2016-12-06</td><td>NULL</td><td>7762</td></tr>",
                            "<tr><td>2016-12-07</td><td>NULL</td><td>7380</td></tr>",
                            "<tr><td>2016-12-08</td><td>NULL</td><td>7200</td></tr>",
                            "<tr><td>2016-12-09</td><td>NULL</td><td>9724</td></tr>",
                            "<tr><td>2016-12-10</td><td>NULL</td><td>7083</td></tr>",
                            "<tr><td>2016-12-11</td><td>NULL</td><td>7576</td></tr>",
                            "<tr><td>2016-12-12</td><td>NULL</td><td>8580</td></tr>",
                            "<tr><td>2016-12-13</td><td>NULL</td><td>8233</td></tr>",
                            "<tr><td>2016-12-14</td><td>NULL</td><td>6268</td></tr>",
                            "<tr><td>2016-12-15</td><td>NULL</td><td>7392</td></tr>",
                            "<tr><td>2016-12-16</td><td>NULL</td><td>6407</td></tr>",
                            "<tr><td>2016-12-17</td><td>NULL</td><td>7555</td></tr>",
                            "<tr><td>2016-12-18</td><td>NULL</td><td>6070</td></tr>",
                            "<tr><td>2016-12-19</td><td>NULL</td><td>5390</td></tr>",
                            "<tr><td>2016-12-20</td><td>NULL</td><td>7735</td></tr>",
                            "<tr><td>2016-12-21</td><td>NULL</td><td>10434</td></tr>",
                            "<tr><td>2016-12-22</td><td>NULL</td><td>5465</td></tr>",
                            "<tr><td>2016-12-23</td><td>NULL</td><td>8338</td></tr>",
                            "<tr><td>2016-12-24</td><td>NULL</td><td>5916</td></tr>",
                            "<tr><td>2016-12-25</td><td>NULL</td><td>7345</td></tr>",
                            "<tr><td>2016-12-26</td><td>NULL</td><td>9875</td></tr>",
                            "<tr><td>2016-12-27</td><td>NULL</td><td>10216</td></tr>",
                            "<tr><td>2016-12-28</td><td>NULL</td><td>6222</td></tr>",
                            "<tr><td>2016-12-29</td><td>NULL</td><td>10046</td></tr>",
                            "<tr><td>2016-12-30</td><td>NULL</td><td>7113</td></tr>",
                            "<tr><td>2016-12-31</td><td>NULL</td><td>7188</td></tr>",
                            "<tr><td>2017-01-01</td><td>NULL</td><td>7200</td></tr>",
                            "<tr><td>2017-01-02</td><td>NULL</td><td>7425</td></tr>",
                            "<tr><td>2017-01-03</td><td>NULL</td><td>6783</td></tr>",
                            "<tr><td>2017-01-04</td><td>NULL</td><td>7465</td></tr>",
                            "<tr><td>2017-01-05</td><td>NULL</td><td>7591</td></tr>",
                            "<tr><td>2017-01-06</td><td>NULL</td><td>8298</td></tr>",
                            "<tr><td>2017-01-07</td><td>NULL</td><td>8976</td></tr>",
                            "<tr><td>2017-01-08</td><td>NULL</td><td>7179</td></tr>",
                            "<tr><td>2017-01-09</td><td>NULL</td><td>9465</td></tr>",
                            "<tr><td>2017-01-10</td><td>NULL</td><td>8667</td></tr>",
                            "<tr><td>2017-01-11</td><td>NULL</td><td>9472</td></tr>",
                            "<tr><td>2017-01-12</td><td>NULL</td><td>7636</td></tr>",
                            "<tr><td>2017-01-13</td><td>NULL</td><td>7538</td></tr>",
                            "<tr><td>2017-01-14</td><td>NULL</td><td>8920</td></tr>",
                            "<tr><td>2017-01-15</td><td>NULL</td><td>7611</td></tr>",
                            "<tr><td>2017-01-16</td><td>NULL</td><td>7369</td></tr>",
                            "<tr><td>2017-01-17</td><td>NULL</td><td>8658</td></tr>",
                            "<tr><td>2017-01-18</td><td>NULL</td><td>6558</td></tr>",
                            "<tr><td>2017-01-19</td><td>NULL</td><td>6422</td></tr>",
                            "<tr><td>2017-01-20</td><td>NULL</td><td>6450</td></tr>",
                            "<tr><td>2017-01-21</td><td>NULL</td><td>7150</td></tr>",
                            "<tr><td>2017-01-22</td><td>NULL</td><td>8199</td></tr>",
                            "<tr><td>2017-01-23</td><td>NULL</td><td>8394</td></tr>",
                            "<tr><td>2017-01-24</td><td>NULL</td><td>8615</td></tr>",
                            "<tr><td>2017-01-25</td><td>NULL</td><td>6484</td></tr>",
                            "<tr><td>2017-01-26</td><td>NULL</td><td>9426</td></tr>",
                            "<tr><td>2017-01-27</td><td>NULL</td><td>5418</td></tr>",
                            "<tr><td>2017-01-28</td><td>NULL</td><td>8401</td></tr>",
                            "<tr><td>2017-01-29</td><td>NULL</td><td>8997</td></tr>",
                            "<tr><td>2017-01-30</td><td>NULL</td><td>9661</td></tr>",
                            "<tr><td>2017-01-31</td><td>NULL</td><td>6253</td></tr>",
                            "<tr><td>2017-02-01</td><td>NULL</td><td>5703</td></tr>",
                            "<tr><td>2017-02-02</td><td>NULL</td><td>8746</td></tr>",
                            "<tr><td>2017-02-03</td><td>NULL</td><td>7840</td></tr>",
                            "<tr><td>2017-02-04</td><td>NULL</td><td>6220</td></tr>",
                            "<tr><td>2017-02-05</td><td>NULL</td><td>5138</td></tr>",
                            "<tr><td>2017-02-06</td><td>NULL</td><td>8206</td></tr>",
                            "<tr><td>2017-02-07</td><td>NULL</td><td>6846</td></tr>",
                            "<tr><td>2017-02-08</td><td>NULL</td><td>10057</td></tr>",
                            "<tr><td>2017-02-09</td><td>NULL</td><td>8302</td></tr>",
                            "<tr><td>2017-02-10</td><td>NULL</td><td>8964</td></tr>",
                            "<tr><td>2017-02-11</td><td>NULL</td><td>8790</td></tr>",
                            "<tr><td>2017-02-12</td><td>NULL</td><td>6268</td></tr>",
                            "<tr><td>2017-02-13</td><td>NULL</td><td>8176</td></tr>",
                            "<tr><td>2017-02-14</td><td>NULL</td><td>10029</td></tr>",
                            "<tr><td>2017-02-15</td><td>NULL</td><td>6443</td></tr>",
                            "<tr><td>2017-02-16</td><td>NULL</td><td>8794</td></tr>",
                            "<tr><td>2017-02-17</td><td>NULL</td><td>9808</td></tr>",
                            "<tr><td>2017-02-18</td><td>NULL</td><td>10757</td></tr>",
                            "<tr><td>2017-02-19</td><td>NULL</td><td>8284</td></tr>",
                            "<tr><td>2017-02-20</td><td>NULL</td><td>5660</td></tr>",
                            "<tr><td>2017-02-21</td><td>NULL</td><td>8878</td></tr>",
                            "<tr><td>2017-02-22</td><td>NULL</td><td>9034</td></tr>",
                            "<tr><td>2017-02-23</td><td>NULL</td><td>7574</td></tr>",
                            "<tr><td>2017-02-24</td><td>NULL</td><td>6814</td></tr>",
                            "<tr><td>2017-02-25</td><td>NULL</td><td>6820</td></tr>",
                            "<tr><td>2017-02-26</td><td>NULL</td><td>8578</td></tr>",
                            "<tr><td>2017-02-27</td><td>NULL</td><td>9185</td></tr>",
                            "<tr><td>2017-02-28</td><td>NULL</td><td>11649</td></tr>",
                            "<tr><td>2017-03-01</td><td>NULL</td><td>5037</td></tr>",
                            "<tr><td>2017-03-02</td><td>NULL</td><td>4861</td></tr>",
                            "<tr><td>2017-03-03</td><td>NULL</td><td>7585</td></tr>",
                            "<tr><td>2017-03-04</td><td>NULL</td><td>5977</td></tr>",
                            "<tr><td>2017-03-05</td><td>NULL</td><td>10338</td></tr>",
                            "<tr><td>2017-03-06</td><td>NULL</td><td>10916</td></tr>",
                            "<tr><td>2017-03-07</td><td>NULL</td><td>8747</td></tr>",
                            "<tr><td>2017-03-08</td><td>NULL</td><td>6837</td></tr>",
                            "<tr><td>2017-03-09</td><td>NULL</td><td>6964</td></tr>",
                            "<tr><td>2017-03-10</td><td>NULL</td><td>6846</td></tr>",
                            "<tr><td>2017-03-11</td><td>NULL</td><td>6885</td></tr>",
                            "<tr><td>2017-03-12</td><td>NULL</td><td>5941</td></tr>",
                            "<tr><td>2017-03-13</td><td>NULL</td><td>6950</td></tr>",
                            "<tr><td>2017-03-14</td><td>NULL</td><td>7224</td></tr>",
                            "<tr><td>2017-03-15</td><td>NULL</td><td>9718</td></tr>",
                            "<tr><td>2017-03-16</td><td>NULL</td><td>9763</td></tr>",
                            "<tr><td>2017-03-17</td><td>NULL</td><td>8908</td></tr>",
                            "<tr><td>2017-03-18</td><td>NULL</td><td>9344</td></tr>",
                            "<tr><td>2017-03-19</td><td>NULL</td><td>9937</td></tr>",
                            "<tr><td>2017-03-20</td><td>NULL</td><td>7683</td></tr>",
                            "<tr><td>2017-03-21</td><td>NULL</td><td>8639</td></tr>",
                            "<tr><td>2017-03-22</td><td>NULL</td><td>6526</td></tr>",
                            "<tr><td>2017-03-23</td><td>NULL</td><td>8799</td></tr>",
                            "<tr><td>2017-03-24</td><td>NULL</td><td>7416</td></tr>",
                            "<tr><td>2017-03-25</td><td>NULL</td><td>6272</td></tr>",
                            "<tr><td>2017-03-26</td><td>NULL</td><td>7786</td></tr>",
                            "<tr><td>2017-03-27</td><td>NULL</td><td>7715</td></tr>",
                            "<tr><td>2017-03-28</td><td>NULL</td><td>8568</td></tr>",
                            "<tr><td>2017-03-29</td><td>NULL</td><td>8346</td></tr>",
                            "<tr><td>2017-03-30</td><td>NULL</td><td>8513</td></tr>",
                            "<tr><td>2017-03-31</td><td>NULL</td><td>8598</td></tr>",
                            "<tr><td>2017-04-01</td><td>NULL</td><td>7307</td></tr>",
                            "<tr><td>2017-04-02</td><td>NULL</td><td>9477</td></tr>",
                            "<tr><td>2017-04-03</td><td>NULL</td><td>6042</td></tr>",
                            "<tr><td>2017-04-04</td><td>NULL</td><td>7493</td></tr>",
                            "<tr><td>2017-04-05</td><td>NULL</td><td>7562</td></tr>",
                            "<tr><td>2017-04-06</td><td>NULL</td><td>4646</td></tr>",
                            "<tr><td>2017-04-07</td><td>NULL</td><td>5197</td></tr>",
                            "<tr><td>2017-04-08</td><td>NULL</td><td>3057</td></tr>",
                            "<tr><td>2017-04-09</td><td>NULL</td><td>3870</td></tr>",
                            "<tr><td>2017-04-10</td><td>NULL</td><td>1640</td></tr>",
                            "<tr><td>2017-04-11</td><td>NULL</td><td>1220</td></tr>",
                            "<tr><td>NULL</td><td>NULL</td><td>5578316</td></tr>",
                            "</table>"
                        ]
                    }
                }
            ],
            "execution_count": 18
        },
        {
            "cell_type": "markdown",
            "source": [
                "```\n",
                "3. Hány olyan ügyfél van, aki még nem rendelt semmit?\n",
                "```\n",
                "\n",
                "1. Csoportosítsuk őket nem szerint, azon belül életkor szerint!\n",
                "2. A lista tartalmazza a részösszegeket és a végösszeget is!\n",
                "\n",
                "![](https://moodle.uni-corvinus.hu/theme/image.php/adaptable/atto_h5p/1709548862/icon)"
            ],
            "metadata": {
                "azdata_cell_guid": "d7876bb9-76d0-4d07-baed-3cb17b2f96c3"
            },
            "attachments": {}
        },
        {
            "cell_type": "code",
            "source": [
                ""
            ],
            "metadata": {
                "azdata_cell_guid": "56ec19ce-e249-4551-b2a8-f17569765acc",
                "language": "sql"
            },
            "outputs": [],
            "execution_count": null
        },
        {
            "cell_type": "markdown",
            "source": [
                "4. <span style=\"color: rgb(36, 41, 47); font-family: -apple-system, BlinkMacSystemFont, &quot;Segoe UI&quot;, Helvetica, Arial, sans-serif, &quot;Apple Color Emoji&quot;, &quot;Segoe UI Emoji&quot;; font-size: 16px;\">Készítsünk listát a megrendelt termékek legkisebb és legnagyobb egységáráról szállítási dátum, azon belül szállítási mód szerinti bontásban!</span>\n",
                "\n",
                "1. A lista csak a 2015 májusi szállításokat tartalmazza!\n",
                "2. Jelenítsük meg a részösszegeket és a végösszeget is!"
            ],
            "metadata": {
                "azdata_cell_guid": "8e7fef82-8022-49a0-8255-fc2846c2134b"
            },
            "attachments": {}
        },
        {
            "cell_type": "code",
            "source": [
                ""
            ],
            "metadata": {
                "azdata_cell_guid": "36f7b396-4a1f-45e5-8720-2302537c91bc",
                "language": "sql"
            },
            "outputs": [],
            "execution_count": null
        },
        {
            "cell_type": "markdown",
            "source": [
                "5. <span style=\"color: rgb(36, 41, 47); font-family: -apple-system, BlinkMacSystemFont, &quot;Segoe UI&quot;, Helvetica, Arial, sans-serif, &quot;Apple Color Emoji&quot;, &quot;Segoe UI Emoji&quot;; font-size: 16px;\">Készítsünk csoportot a termékek listaára alapján a következők szerint:&nbsp;<br></span> <span style=\"color: rgb(36, 41, 47); font-family: -apple-system, BlinkMacSystemFont, &quot;Segoe UI&quot;, Helvetica, Arial, sans-serif, &quot;Apple Color Emoji&quot;, &quot;Segoe UI Emoji&quot;; font-size: 16px;\">Az \"olcsó\" termékek legyenek azok, amelyek listaára 3000 alatt van.<br>&nbsp;A \"drága\" termékek legyenek az 5000 felettiek, a többi legyen \"közepes\".</span>\n",
                "\n",
                "1. Listázzuk az egyes csoportokat, és a csoportokba tartozó termékek darabszámát!\n",
                "2. A lista jelenítse meg a végösszeget is!"
            ],
            "metadata": {
                "azdata_cell_guid": "84239ca2-6b5e-49f5-9860-d44c11d6de32"
            },
            "attachments": {}
        },
        {
            "cell_type": "code",
            "source": [
                ""
            ],
            "metadata": {
                "azdata_cell_guid": "06d9a62b-9430-424b-a135-d80e675f0eb3",
                "language": "sql"
            },
            "outputs": [],
            "execution_count": null
        },
        {
            "cell_type": "markdown",
            "source": [
                "6. <span style=\"font-weight: 600; color: rgb(36, 41, 47); font-family: -apple-system, BlinkMacSystemFont, &quot;Segoe UI&quot;, Helvetica, Arial, sans-serif, &quot;Apple Color Emoji&quot;, &quot;Segoe UI Emoji&quot;; font-size: 16px;\">Készítsünk listát az ügyfelek adatairól név szerinti sorrendben.</span>\n",
                "\n",
                "1. Minden sorban jelenjen meg a sorrend szerint előző, illetve következő ügyfél neve is.\n",
                "2. Ha nincs előző vagy következő ügyfél, akkor a 'Nincs' jelenjen meg!"
            ],
            "metadata": {
                "azdata_cell_guid": "b0d15045-3c43-4f3a-b8d4-76b4f24e5546"
            },
            "attachments": {}
        },
        {
            "cell_type": "code",
            "source": [
                ""
            ],
            "metadata": {
                "azdata_cell_guid": "f2b7400d-1255-40ac-9250-4d57f9da5357",
                "language": "sql"
            },
            "outputs": [],
            "execution_count": null
        },
        {
            "cell_type": "markdown",
            "source": [
                "7. <span style=\"font-weight: 600; color: rgb(36, 41, 47); font-family: -apple-system, BlinkMacSystemFont, &quot;Segoe UI&quot;, Helvetica, Arial, sans-serif, &quot;Apple Color Emoji&quot;, &quot;Segoe UI Emoji&quot;; font-size: 16px;\">Készítsünk lekérdezést, amely megmutatja, hogy melyik termékkategóriába hány termék tartozik. A lista a kategória nevét és a darabszámot jelenítse meg.</span>\n",
                "\n",
                "1. A lista ne tartalmazzon duplikált sorokat.\n",
                "2. A feladatot partíciók segítségével oldjuk meg!"
            ],
            "metadata": {
                "azdata_cell_guid": "7ebf7ddd-1bd2-4246-815a-be8ae37e3b5b"
            },
            "attachments": {}
        },
        {
            "cell_type": "code",
            "source": [
                "SELECT DISTINCT tk.KAT_NEV AS 'Kategória név',\r\n",
                "        tk.szulo_kat,\r\n",
                "        COUNT(*) OVER(PARTITION BY tk.KAT_NEV)\r\n",
                "FROM termek t JOIN Termekkategoria tk ON t.KAT_ID = tk.KAT_ID\r\n",
                "--GROUP BY tk.KAT_NEV (nem lehet tetszőleges mezőt, megjeleníteni)"
            ],
            "metadata": {
                "azdata_cell_guid": "84b7e896-f36e-4985-88f5-e0f706494fef",
                "language": "sql"
            },
            "outputs": [
                {
                    "output_type": "display_data",
                    "data": {
                        "text/html": "(143 rows affected)"
                    },
                    "metadata": {}
                },
                {
                    "output_type": "display_data",
                    "data": {
                        "text/html": "Total execution time: 00:00:00.017"
                    },
                    "metadata": {}
                },
                {
                    "output_type": "execute_result",
                    "metadata": {},
                    "execution_count": 23,
                    "data": {
                        "application/vnd.dataresource+json": {
                            "schema": {
                                "fields": [
                                    {
                                        "name": "Kategória név"
                                    },
                                    {
                                        "name": "szulo_kat"
                                    },
                                    {
                                        "name": "(No column name)"
                                    }
                                ]
                            },
                            "data": [
                                {
                                    "Kategória név": "ajándék tárgy",
                                    "szulo_kat": "1",
                                    "(No column name)": "3"
                                },
                                {
                                    "Kategória név": "ajándék tasak",
                                    "szulo_kat": "5",
                                    "(No column name)": "20"
                                },
                                {
                                    "Kategória név": "álarc",
                                    "szulo_kat": "5",
                                    "(No column name)": "3"
                                },
                                {
                                    "Kategória név": "alkalmi",
                                    "szulo_kat": "2",
                                    "(No column name)": "3"
                                },
                                {
                                    "Kategória név": "alufólia",
                                    "szulo_kat": "63",
                                    "(No column name)": "2"
                                },
                                {
                                    "Kategória név": "árazószalag",
                                    "szulo_kat": "74",
                                    "(No column name)": "1"
                                },
                                {
                                    "Kategória név": "átírótömb",
                                    "szulo_kat": "74",
                                    "(No column name)": "1"
                                },
                                {
                                    "Kategória név": "beíró",
                                    "szulo_kat": "78",
                                    "(No column name)": "1"
                                },
                                {
                                    "Kategória név": "beírókönyv",
                                    "szulo_kat": "74",
                                    "(No column name)": "2"
                                },
                                {
                                    "Kategória név": "bélyegző",
                                    "szulo_kat": "74",
                                    "(No column name)": "4"
                                },
                                {
                                    "Kategória név": "bélyegzőfesték",
                                    "szulo_kat": "74",
                                    "(No column name)": "1"
                                },
                                {
                                    "Kategória név": "boríték",
                                    "szulo_kat": "74",
                                    "(No column name)": "7"
                                },
                                {
                                    "Kategória név": "cd tok",
                                    "szulo_kat": "74",
                                    "(No column name)": "1"
                                },
                                {
                                    "Kategória név": "celofán",
                                    "szulo_kat": "63",
                                    "(No column name)": "2"
                                },
                                {
                                    "Kategória név": "ceruza",
                                    "szulo_kat": "77",
                                    "(No column name)": "19"
                                },
                                {
                                    "Kategória név": "címke",
                                    "szulo_kat": "5",
                                    "(No column name)": "3"
                                },
                                {
                                    "Kategória név": "color copy",
                                    "szulo_kat": "113",
                                    "(No column name)": "5"
                                },
                                {
                                    "Kategória név": "csomagoló",
                                    "szulo_kat": "63",
                                    "(No column name)": "2"
                                },
                                {
                                    "Kategória név": "csomagoló papír",
                                    "szulo_kat": "23",
                                    "(No column name)": "7"
                                },
                                {
                                    "Kategória név": "dekor",
                                    "szulo_kat": "5",
                                    "(No column name)": "4"
                                },
                                {
                                    "Kategória név": "dipa",
                                    "szulo_kat": "113",
                                    "(No column name)": "1"
                                },
                                {
                                    "Kategória név": "díszdoboz",
                                    "szulo_kat": "5",
                                    "(No column name)": "3"
                                },
                                {
                                    "Kategória név": "díszkötöző",
                                    "szulo_kat": "23",
                                    "(No column name)": "5"
                                },
                                {
                                    "Kategória név": "dvd",
                                    "szulo_kat": "74",
                                    "(No column name)": "1"
                                },
                                {
                                    "Kategória név": "ecset",
                                    "szulo_kat": "78",
                                    "(No column name)": "7"
                                },
                                {
                                    "Kategória név": "előlap",
                                    "szulo_kat": "113",
                                    "(No column name)": "1"
                                },
                                {
                                    "Kategória név": "emlékkönyv",
                                    "szulo_kat": "5",
                                    "(No column name)": "3"
                                },
                                {
                                    "Kategória név": "emléklap",
                                    "szulo_kat": "113",
                                    "(No column name)": "1"
                                },
                                {
                                    "Kategória név": "fax papír",
                                    "szulo_kat": "113",
                                    "(No column name)": "1"
                                },
                                {
                                    "Kategória név": "fehérnemű",
                                    "szulo_kat": "2",
                                    "(No column name)": "7"
                                },
                                {
                                    "Kategória név": "fénymásoló papír",
                                    "szulo_kat": "113",
                                    "(No column name)": "5"
                                },
                                {
                                    "Kategória név": "férfi ing",
                                    "szulo_kat": "69",
                                    "(No column name)": "1"
                                },
                                {
                                    "Kategória név": "férfi kabát",
                                    "szulo_kat": "81",
                                    "(No column name)": "1"
                                },
                                {
                                    "Kategória név": "férfi nadrág",
                                    "szulo_kat": "102",
                                    "(No column name)": "2"
                                },
                                {
                                    "Kategória név": "festékpatron",
                                    "szulo_kat": "74",
                                    "(No column name)": "1"
                                },
                                {
                                    "Kategória név": "filctoll",
                                    "szulo_kat": "77",
                                    "(No column name)": "13"
                                },
                                {
                                    "Kategória név": "floppy",
                                    "szulo_kat": "74",
                                    "(No column name)": "1"
                                },
                                {
                                    "Kategória név": "fólia",
                                    "szulo_kat": "74",
                                    "(No column name)": "3"
                                },
                                {
                                    "Kategória név": "fotópapír",
                                    "szulo_kat": "113",
                                    "(No column name)": "1"
                                },
                                {
                                    "Kategória név": "füzet",
                                    "szulo_kat": "78",
                                    "(No column name)": "11"
                                },
                                {
                                    "Kategória név": "füzetborító",
                                    "szulo_kat": "78",
                                    "(No column name)": "7"
                                },
                                {
                                    "Kategória név": "füzettartó",
                                    "szulo_kat": "78",
                                    "(No column name)": "4"
                                },
                                {
                                    "Kategória név": "gemkapocs",
                                    "szulo_kat": "74",
                                    "(No column name)": "2"
                                },
                                {
                                    "Kategória név": "gémkapocs",
                                    "szulo_kat": "74",
                                    "(No column name)": "2"
                                },
                                {
                                    "Kategória név": "genoterm",
                                    "szulo_kat": "74",
                                    "(No column name)": "1"
                                },
                                {
                                    "Kategória név": "genotherm",
                                    "szulo_kat": "74",
                                    "(No column name)": "3"
                                },
                                {
                                    "Kategória név": "golyóstoll",
                                    "szulo_kat": "77",
                                    "(No column name)": "26"
                                },
                                {
                                    "Kategória név": "gumigyűrű",
                                    "szulo_kat": "63",
                                    "(No column name)": "1"
                                },
                                {
                                    "Kategória név": "gyermek cipő",
                                    "szulo_kat": "3",
                                    "(No column name)": "6"
                                },
                                {
                                    "Kategória név": "gyermek kabát",
                                    "szulo_kat": "81",
                                    "(No column name)": "2"
                                },
                                {
                                    "Kategória név": "gyermek nadrág",
                                    "szulo_kat": "102",
                                    "(No column name)": "4"
                                },
                                {
                                    "Kategória név": "gyermek póló",
                                    "szulo_kat": "120",
                                    "(No column name)": "2"
                                },
                                {
                                    "Kategória név": "gyorsfűző",
                                    "szulo_kat": "74",
                                    "(No column name)": "3"
                                },
                                {
                                    "Kategória név": "gyurma",
                                    "szulo_kat": "78",
                                    "(No column name)": "4"
                                },
                                {
                                    "Kategória név": "gyűrűskönyv",
                                    "szulo_kat": "78",
                                    "(No column name)": "5"
                                },
                                {
                                    "Kategória név": "hajgumi",
                                    "szulo_kat": "5",
                                    "(No column name)": "1"
                                },
                                {
                                    "Kategória név": "határidő napló",
                                    "szulo_kat": "5",
                                    "(No column name)": "2"
                                },
                                {
                                    "Kategória név": "hegyező",
                                    "szulo_kat": "78",
                                    "(No column name)": "4"
                                },
                                {
                                    "Kategória név": "hegyző",
                                    "szulo_kat": "78",
                                    "(No column name)": "2"
                                },
                                {
                                    "Kategória név": "hibajavító",
                                    "szulo_kat": "74",
                                    "(No column name)": "7"
                                },
                                {
                                    "Kategória név": "hűtőmágnes",
                                    "szulo_kat": "5",
                                    "(No column name)": "2"
                                },
                                {
                                    "Kategória név": "indigó",
                                    "szulo_kat": "78",
                                    "(No column name)": "2"
                                },
                                {
                                    "Kategória név": "írásvetítő fólia",
                                    "szulo_kat": "74",
                                    "(No column name)": "1"
                                },
                                {
                                    "Kategória név": "iratgyűjtő",
                                    "szulo_kat": "74",
                                    "(No column name)": "3"
                                },
                                {
                                    "Kategória név": "iratrendező",
                                    "szulo_kat": "74",
                                    "(No column name)": "2"
                                },
                                {
                                    "Kategória név": "iratsín",
                                    "szulo_kat": "74",
                                    "(No column name)": "2"
                                },
                                {
                                    "Kategória név": "irattartó",
                                    "szulo_kat": "74",
                                    "(No column name)": "2"
                                },
                                {
                                    "Kategória név": "irodaszer",
                                    "szulo_kat": "1",
                                    "(No column name)": "1"
                                },
                                {
                                    "Kategória név": "írólap",
                                    "szulo_kat": "78",
                                    "(No column name)": "2"
                                },
                                {
                                    "Kategória név": "ironbél",
                                    "szulo_kat": "77",
                                    "(No column name)": "5"
                                },
                                {
                                    "Kategória név": "iskolaszer",
                                    "szulo_kat": "1",
                                    "(No column name)": "24"
                                },
                                {
                                    "Kategória név": "játékautó",
                                    "szulo_kat": "5",
                                    "(No column name)": "4"
                                },
                                {
                                    "Kategória név": "jelzőkréta",
                                    "szulo_kat": "5",
                                    "(No column name)": "1"
                                },
                                {
                                    "Kategória név": "kapocskiszedő",
                                    "szulo_kat": "74",
                                    "(No column name)": "1"
                                },
                                {
                                    "Kategória név": "karton",
                                    "szulo_kat": "113",
                                    "(No column name)": "6"
                                },
                                {
                                    "Kategória név": "kártya",
                                    "szulo_kat": "5",
                                    "(No column name)": "1"
                                },
                                {
                                    "Kategória név": "képeslap",
                                    "szulo_kat": "5",
                                    "(No column name)": "16"
                                },
                                {
                                    "Kategória név": "képkirakó",
                                    "szulo_kat": "5",
                                    "(No column name)": "1"
                                },
                                {
                                    "Kategória név": "kosztüm",
                                    "szulo_kat": "8",
                                    "(No column name)": "2"
                                },
                                {
                                    "Kategória név": "könyv",
                                    "szulo_kat": "NULL",
                                    "(No column name)": "15"
                                },
                                {
                                    "Kategória név": "körző",
                                    "szulo_kat": "78",
                                    "(No column name)": "3"
                                },
                                {
                                    "Kategória név": "kreatív",
                                    "szulo_kat": "113",
                                    "(No column name)": "2"
                                },
                                {
                                    "Kategória név": "kulcstartó",
                                    "szulo_kat": "5",
                                    "(No column name)": "7"
                                },
                                {
                                    "Kategória név": "labda",
                                    "szulo_kat": "5",
                                    "(No column name)": "2"
                                },
                                {
                                    "Kategória név": "levélpapír",
                                    "szulo_kat": "5",
                                    "(No column name)": "7"
                                },
                                {
                                    "Kategória név": "lufi",
                                    "szulo_kat": "5",
                                    "(No column name)": "2"
                                },
                                {
                                    "Kategória név": "lyukasztó",
                                    "szulo_kat": "74",
                                    "(No column name)": "2"
                                },
                                {
                                    "Kategória név": "mappa",
                                    "szulo_kat": "5",
                                    "(No column name)": "9"
                                },
                                {
                                    "Kategória név": "matrica",
                                    "szulo_kat": "5",
                                    "(No column name)": "10"
                                },
                                {
                                    "Kategória név": "meghívó",
                                    "szulo_kat": "5",
                                    "(No column name)": "4"
                                },
                                {
                                    "Kategória név": "miliméterpapír",
                                    "szulo_kat": "78",
                                    "(No column name)": "1"
                                },
                                {
                                    "Kategória név": "munkafüzet",
                                    "szulo_kat": "78",
                                    "(No column name)": "9"
                                },
                                {
                                    "Kategória név": "műnyomó",
                                    "szulo_kat": "113",
                                    "(No column name)": "1"
                                },
                                {
                                    "Kategória név": "naptár",
                                    "szulo_kat": "74",
                                    "(No column name)": "1"
                                },
                                {
                                    "Kategória név": "naptárhát",
                                    "szulo_kat": "74",
                                    "(No column name)": "2"
                                },
                                {
                                    "Kategória név": "névjegytartó",
                                    "szulo_kat": "74",
                                    "(No column name)": "1"
                                },
                                {
                                    "Kategória név": "notesz",
                                    "szulo_kat": "74",
                                    "(No column name)": "5"
                                },
                                {
                                    "Kategória név": "női kabát",
                                    "szulo_kat": "81",
                                    "(No column name)": "1"
                                },
                                {
                                    "Kategória név": "női nadrág",
                                    "szulo_kat": "102",
                                    "(No column name)": "1"
                                },
                                {
                                    "Kategória név": "ofszet",
                                    "szulo_kat": "113",
                                    "(No column name)": "1"
                                },
                                {
                                    "Kategória név": "oklevél",
                                    "szulo_kat": "113",
                                    "(No column name)": "2"
                                },
                                {
                                    "Kategória név": "olló",
                                    "szulo_kat": "78",
                                    "(No column name)": "3"
                                },
                                {
                                    "Kategória név": "öntapadó",
                                    "szulo_kat": "113",
                                    "(No column name)": "2"
                                },
                                {
                                    "Kategória név": "papízsebkendő",
                                    "szulo_kat": "63",
                                    "(No column name)": "1"
                                },
                                {
                                    "Kategória név": "pausz",
                                    "szulo_kat": "113",
                                    "(No column name)": "1"
                                },
                                {
                                    "Kategória név": "pénztárbizonylat",
                                    "szulo_kat": "74",
                                    "(No column name)": "2"
                                },
                                {
                                    "Kategória név": "pénztárgépszalag",
                                    "szulo_kat": "74",
                                    "(No column name)": "2"
                                },
                                {
                                    "Kategória név": "pixiron",
                                    "szulo_kat": "77",
                                    "(No column name)": "9"
                                },
                                {
                                    "Kategória név": "plüss",
                                    "szulo_kat": "5",
                                    "(No column name)": "3"
                                },
                                {
                                    "Kategória név": "post-it",
                                    "szulo_kat": "78",
                                    "(No column name)": "2"
                                },
                                {
                                    "Kategória név": "radír",
                                    "szulo_kat": "78",
                                    "(No column name)": "7"
                                },
                                {
                                    "Kategória név": "radírtoll",
                                    "szulo_kat": "78",
                                    "(No column name)": "2"
                                },
                                {
                                    "Kategória név": "ragasztó",
                                    "szulo_kat": "63",
                                    "(No column name)": "10"
                                },
                                {
                                    "Kategória név": "ragasztószalag",
                                    "szulo_kat": "23",
                                    "(No column name)": "4"
                                },
                                {
                                    "Kategória név": "rágógumi",
                                    "szulo_kat": "63",
                                    "(No column name)": "1"
                                },
                                {
                                    "Kategória név": "rajzlap",
                                    "szulo_kat": "78",
                                    "(No column name)": "2"
                                },
                                {
                                    "Kategória név": "rajzszeg",
                                    "szulo_kat": "63",
                                    "(No column name)": "2"
                                },
                                {
                                    "Kategória név": "regiszteres füzet",
                                    "szulo_kat": "78",
                                    "(No column name)": "2"
                                },
                                {
                                    "Kategória név": "sál",
                                    "szulo_kat": "87",
                                    "(No column name)": "1"
                                },
                                {
                                    "Kategória név": "spirál",
                                    "szulo_kat": "74",
                                    "(No column name)": "1"
                                },
                                {
                                    "Kategória név": "strandlabda",
                                    "szulo_kat": "5",
                                    "(No column name)": "1"
                                },
                                {
                                    "Kategória név": "szalvéta",
                                    "szulo_kat": "5",
                                    "(No column name)": "6"
                                },
                                {
                                    "Kategória név": "számológép",
                                    "szulo_kat": "78",
                                    "(No column name)": "2"
                                },
                                {
                                    "Kategória név": "szemetes",
                                    "szulo_kat": "63",
                                    "(No column name)": "1"
                                },
                                {
                                    "Kategória név": "színes",
                                    "szulo_kat": "77",
                                    "(No column name)": "2"
                                },
                                {
                                    "Kategória név": "szögmérő",
                                    "szulo_kat": "78",
                                    "(No column name)": "3"
                                },
                                {
                                    "Kategória név": "szövegkiemelő",
                                    "szulo_kat": "77",
                                    "(No column name)": "5"
                                },
                                {
                                    "Kategória név": "táblafilc",
                                    "szulo_kat": "78",
                                    "(No column name)": "1"
                                },
                                {
                                    "Kategória név": "tapétavágó",
                                    "szulo_kat": "63",
                                    "(No column name)": "1"
                                },
                                {
                                    "Kategória név": "tempera",
                                    "szulo_kat": "78",
                                    "(No column name)": "2"
                                },
                                {
                                    "Kategória név": "térképtű",
                                    "szulo_kat": "74",
                                    "(No column name)": "1"
                                },
                                {
                                    "Kategória név": "tintapatron",
                                    "szulo_kat": "77",
                                    "(No column name)": "3"
                                },
                                {
                                    "Kategória név": "toll",
                                    "szulo_kat": "77",
                                    "(No column name)": "2"
                                },
                                {
                                    "Kategória név": "tollbetét",
                                    "szulo_kat": "77",
                                    "(No column name)": "18"
                                },
                                {
                                    "Kategória név": "tolltartó",
                                    "szulo_kat": "78",
                                    "(No column name)": "7"
                                },
                                {
                                    "Kategória név": "toner",
                                    "szulo_kat": "74",
                                    "(No column name)": "1"
                                },
                                {
                                    "Kategória név": "töltőtoll",
                                    "szulo_kat": "77",
                                    "(No column name)": "1"
                                },
                                {
                                    "Kategória név": "tűzőgép",
                                    "szulo_kat": "74",
                                    "(No column name)": "6"
                                },
                                {
                                    "Kategória név": "tűzőkapocs",
                                    "szulo_kat": "74",
                                    "(No column name)": "2"
                                },
                                {
                                    "Kategória név": "vízfesték",
                                    "szulo_kat": "78",
                                    "(No column name)": "4"
                                },
                                {
                                    "Kategória név": "vonalzó",
                                    "szulo_kat": "78",
                                    "(No column name)": "6"
                                },
                                {
                                    "Kategória név": "zászló",
                                    "szulo_kat": "78",
                                    "(No column name)": "1"
                                },
                                {
                                    "Kategória név": "zseléstoll",
                                    "szulo_kat": "77",
                                    "(No column name)": "4"
                                }
                            ]
                        },
                        "text/html": [
                            "<table>",
                            "<tr><th>Kategória név</th><th>szulo_kat</th><th>(No column name)</th></tr>",
                            "<tr><td>ajándék tárgy</td><td>1</td><td>3</td></tr>",
                            "<tr><td>ajándék tasak</td><td>5</td><td>20</td></tr>",
                            "<tr><td>álarc</td><td>5</td><td>3</td></tr>",
                            "<tr><td>alkalmi</td><td>2</td><td>3</td></tr>",
                            "<tr><td>alufólia</td><td>63</td><td>2</td></tr>",
                            "<tr><td>árazószalag</td><td>74</td><td>1</td></tr>",
                            "<tr><td>átírótömb</td><td>74</td><td>1</td></tr>",
                            "<tr><td>beíró</td><td>78</td><td>1</td></tr>",
                            "<tr><td>beírókönyv</td><td>74</td><td>2</td></tr>",
                            "<tr><td>bélyegző</td><td>74</td><td>4</td></tr>",
                            "<tr><td>bélyegzőfesték</td><td>74</td><td>1</td></tr>",
                            "<tr><td>boríték</td><td>74</td><td>7</td></tr>",
                            "<tr><td>cd tok</td><td>74</td><td>1</td></tr>",
                            "<tr><td>celofán</td><td>63</td><td>2</td></tr>",
                            "<tr><td>ceruza</td><td>77</td><td>19</td></tr>",
                            "<tr><td>címke</td><td>5</td><td>3</td></tr>",
                            "<tr><td>color copy</td><td>113</td><td>5</td></tr>",
                            "<tr><td>csomagoló</td><td>63</td><td>2</td></tr>",
                            "<tr><td>csomagoló papír</td><td>23</td><td>7</td></tr>",
                            "<tr><td>dekor</td><td>5</td><td>4</td></tr>",
                            "<tr><td>dipa</td><td>113</td><td>1</td></tr>",
                            "<tr><td>díszdoboz</td><td>5</td><td>3</td></tr>",
                            "<tr><td>díszkötöző</td><td>23</td><td>5</td></tr>",
                            "<tr><td>dvd</td><td>74</td><td>1</td></tr>",
                            "<tr><td>ecset</td><td>78</td><td>7</td></tr>",
                            "<tr><td>előlap</td><td>113</td><td>1</td></tr>",
                            "<tr><td>emlékkönyv</td><td>5</td><td>3</td></tr>",
                            "<tr><td>emléklap</td><td>113</td><td>1</td></tr>",
                            "<tr><td>fax papír</td><td>113</td><td>1</td></tr>",
                            "<tr><td>fehérnemű</td><td>2</td><td>7</td></tr>",
                            "<tr><td>fénymásoló papír</td><td>113</td><td>5</td></tr>",
                            "<tr><td>férfi ing</td><td>69</td><td>1</td></tr>",
                            "<tr><td>férfi kabát</td><td>81</td><td>1</td></tr>",
                            "<tr><td>férfi nadrág</td><td>102</td><td>2</td></tr>",
                            "<tr><td>festékpatron</td><td>74</td><td>1</td></tr>",
                            "<tr><td>filctoll</td><td>77</td><td>13</td></tr>",
                            "<tr><td>floppy</td><td>74</td><td>1</td></tr>",
                            "<tr><td>fólia</td><td>74</td><td>3</td></tr>",
                            "<tr><td>fotópapír</td><td>113</td><td>1</td></tr>",
                            "<tr><td>füzet</td><td>78</td><td>11</td></tr>",
                            "<tr><td>füzetborító</td><td>78</td><td>7</td></tr>",
                            "<tr><td>füzettartó</td><td>78</td><td>4</td></tr>",
                            "<tr><td>gemkapocs</td><td>74</td><td>2</td></tr>",
                            "<tr><td>gémkapocs</td><td>74</td><td>2</td></tr>",
                            "<tr><td>genoterm</td><td>74</td><td>1</td></tr>",
                            "<tr><td>genotherm</td><td>74</td><td>3</td></tr>",
                            "<tr><td>golyóstoll</td><td>77</td><td>26</td></tr>",
                            "<tr><td>gumigyűrű</td><td>63</td><td>1</td></tr>",
                            "<tr><td>gyermek cipő</td><td>3</td><td>6</td></tr>",
                            "<tr><td>gyermek kabát</td><td>81</td><td>2</td></tr>",
                            "<tr><td>gyermek nadrág</td><td>102</td><td>4</td></tr>",
                            "<tr><td>gyermek póló</td><td>120</td><td>2</td></tr>",
                            "<tr><td>gyorsfűző</td><td>74</td><td>3</td></tr>",
                            "<tr><td>gyurma</td><td>78</td><td>4</td></tr>",
                            "<tr><td>gyűrűskönyv</td><td>78</td><td>5</td></tr>",
                            "<tr><td>hajgumi</td><td>5</td><td>1</td></tr>",
                            "<tr><td>határidő napló</td><td>5</td><td>2</td></tr>",
                            "<tr><td>hegyező</td><td>78</td><td>4</td></tr>",
                            "<tr><td>hegyző</td><td>78</td><td>2</td></tr>",
                            "<tr><td>hibajavító</td><td>74</td><td>7</td></tr>",
                            "<tr><td>hűtőmágnes</td><td>5</td><td>2</td></tr>",
                            "<tr><td>indigó</td><td>78</td><td>2</td></tr>",
                            "<tr><td>írásvetítő fólia</td><td>74</td><td>1</td></tr>",
                            "<tr><td>iratgyűjtő</td><td>74</td><td>3</td></tr>",
                            "<tr><td>iratrendező</td><td>74</td><td>2</td></tr>",
                            "<tr><td>iratsín</td><td>74</td><td>2</td></tr>",
                            "<tr><td>irattartó</td><td>74</td><td>2</td></tr>",
                            "<tr><td>irodaszer</td><td>1</td><td>1</td></tr>",
                            "<tr><td>írólap</td><td>78</td><td>2</td></tr>",
                            "<tr><td>ironbél</td><td>77</td><td>5</td></tr>",
                            "<tr><td>iskolaszer</td><td>1</td><td>24</td></tr>",
                            "<tr><td>játékautó</td><td>5</td><td>4</td></tr>",
                            "<tr><td>jelzőkréta</td><td>5</td><td>1</td></tr>",
                            "<tr><td>kapocskiszedő</td><td>74</td><td>1</td></tr>",
                            "<tr><td>karton</td><td>113</td><td>6</td></tr>",
                            "<tr><td>kártya</td><td>5</td><td>1</td></tr>",
                            "<tr><td>képeslap</td><td>5</td><td>16</td></tr>",
                            "<tr><td>képkirakó</td><td>5</td><td>1</td></tr>",
                            "<tr><td>kosztüm</td><td>8</td><td>2</td></tr>",
                            "<tr><td>könyv</td><td>NULL</td><td>15</td></tr>",
                            "<tr><td>körző</td><td>78</td><td>3</td></tr>",
                            "<tr><td>kreatív</td><td>113</td><td>2</td></tr>",
                            "<tr><td>kulcstartó</td><td>5</td><td>7</td></tr>",
                            "<tr><td>labda</td><td>5</td><td>2</td></tr>",
                            "<tr><td>levélpapír</td><td>5</td><td>7</td></tr>",
                            "<tr><td>lufi</td><td>5</td><td>2</td></tr>",
                            "<tr><td>lyukasztó</td><td>74</td><td>2</td></tr>",
                            "<tr><td>mappa</td><td>5</td><td>9</td></tr>",
                            "<tr><td>matrica</td><td>5</td><td>10</td></tr>",
                            "<tr><td>meghívó</td><td>5</td><td>4</td></tr>",
                            "<tr><td>miliméterpapír</td><td>78</td><td>1</td></tr>",
                            "<tr><td>munkafüzet</td><td>78</td><td>9</td></tr>",
                            "<tr><td>műnyomó</td><td>113</td><td>1</td></tr>",
                            "<tr><td>naptár</td><td>74</td><td>1</td></tr>",
                            "<tr><td>naptárhát</td><td>74</td><td>2</td></tr>",
                            "<tr><td>névjegytartó</td><td>74</td><td>1</td></tr>",
                            "<tr><td>notesz</td><td>74</td><td>5</td></tr>",
                            "<tr><td>női kabát</td><td>81</td><td>1</td></tr>",
                            "<tr><td>női nadrág</td><td>102</td><td>1</td></tr>",
                            "<tr><td>ofszet</td><td>113</td><td>1</td></tr>",
                            "<tr><td>oklevél</td><td>113</td><td>2</td></tr>",
                            "<tr><td>olló</td><td>78</td><td>3</td></tr>",
                            "<tr><td>öntapadó</td><td>113</td><td>2</td></tr>",
                            "<tr><td>papízsebkendő</td><td>63</td><td>1</td></tr>",
                            "<tr><td>pausz</td><td>113</td><td>1</td></tr>",
                            "<tr><td>pénztárbizonylat</td><td>74</td><td>2</td></tr>",
                            "<tr><td>pénztárgépszalag</td><td>74</td><td>2</td></tr>",
                            "<tr><td>pixiron</td><td>77</td><td>9</td></tr>",
                            "<tr><td>plüss</td><td>5</td><td>3</td></tr>",
                            "<tr><td>post-it</td><td>78</td><td>2</td></tr>",
                            "<tr><td>radír</td><td>78</td><td>7</td></tr>",
                            "<tr><td>radírtoll</td><td>78</td><td>2</td></tr>",
                            "<tr><td>ragasztó</td><td>63</td><td>10</td></tr>",
                            "<tr><td>ragasztószalag</td><td>23</td><td>4</td></tr>",
                            "<tr><td>rágógumi</td><td>63</td><td>1</td></tr>",
                            "<tr><td>rajzlap</td><td>78</td><td>2</td></tr>",
                            "<tr><td>rajzszeg</td><td>63</td><td>2</td></tr>",
                            "<tr><td>regiszteres füzet</td><td>78</td><td>2</td></tr>",
                            "<tr><td>sál</td><td>87</td><td>1</td></tr>",
                            "<tr><td>spirál</td><td>74</td><td>1</td></tr>",
                            "<tr><td>strandlabda</td><td>5</td><td>1</td></tr>",
                            "<tr><td>szalvéta</td><td>5</td><td>6</td></tr>",
                            "<tr><td>számológép</td><td>78</td><td>2</td></tr>",
                            "<tr><td>szemetes</td><td>63</td><td>1</td></tr>",
                            "<tr><td>színes</td><td>77</td><td>2</td></tr>",
                            "<tr><td>szögmérő</td><td>78</td><td>3</td></tr>",
                            "<tr><td>szövegkiemelő</td><td>77</td><td>5</td></tr>",
                            "<tr><td>táblafilc</td><td>78</td><td>1</td></tr>",
                            "<tr><td>tapétavágó</td><td>63</td><td>1</td></tr>",
                            "<tr><td>tempera</td><td>78</td><td>2</td></tr>",
                            "<tr><td>térképtű</td><td>74</td><td>1</td></tr>",
                            "<tr><td>tintapatron</td><td>77</td><td>3</td></tr>",
                            "<tr><td>toll</td><td>77</td><td>2</td></tr>",
                            "<tr><td>tollbetét</td><td>77</td><td>18</td></tr>",
                            "<tr><td>tolltartó</td><td>78</td><td>7</td></tr>",
                            "<tr><td>toner</td><td>74</td><td>1</td></tr>",
                            "<tr><td>töltőtoll</td><td>77</td><td>1</td></tr>",
                            "<tr><td>tűzőgép</td><td>74</td><td>6</td></tr>",
                            "<tr><td>tűzőkapocs</td><td>74</td><td>2</td></tr>",
                            "<tr><td>vízfesték</td><td>78</td><td>4</td></tr>",
                            "<tr><td>vonalzó</td><td>78</td><td>6</td></tr>",
                            "<tr><td>zászló</td><td>78</td><td>1</td></tr>",
                            "<tr><td>zseléstoll</td><td>77</td><td>4</td></tr>",
                            "</table>"
                        ]
                    }
                }
            ],
            "execution_count": 23
        },
        {
            "cell_type": "markdown",
            "source": [
                "8. <span style=\"font-weight: 600; color: rgb(36, 41, 47); font-family: -apple-system, BlinkMacSystemFont, &quot;Segoe UI&quot;, Helvetica, Arial, sans-serif, &quot;Apple Color Emoji&quot;, &quot;Segoe UI Emoji&quot;; font-size: 16px;\">Készítsünk listát a rendelési tételekről. Az egyes rendelési tételeket termékenként soroljuk be 4 osztályba a rendelés mennyisége alapján. Jelenítsük meg ezt az információt is egy új oszlopban, az oszlop neve legyen 'Mennyiségi kategória'.</span>\n",
                "\n",
                "1. A lista csak a 100 Ft feletti egységárú rendelési tételeket vegye figyelembe!"
            ],
            "metadata": {
                "azdata_cell_guid": "27a3d3dc-eafb-4a5e-b103-9f465b9eda8f"
            },
            "attachments": {}
        },
        {
            "cell_type": "code",
            "source": [
                ""
            ],
            "metadata": {
                "azdata_cell_guid": "f09edb3f-649b-4a96-958e-9e12774ae8b7",
                "language": "sql"
            },
            "outputs": [],
            "execution_count": null
        },
        {
            "cell_type": "markdown",
            "source": [
                "9. <span style=\"font-weight: 600; color: rgb(36, 41, 47); font-family: -apple-system, BlinkMacSystemFont, &quot;Segoe UI&quot;, Helvetica, Arial, sans-serif, &quot;Apple Color Emoji&quot;, &quot;Segoe UI Emoji&quot;; font-size: 16px;\">Listázzuk a termékek kódját, megnevezését, kategóriájának nevét, és listaárát.</span>\n",
                "\n",
                "1. A listát egészítsük ki két új oszloppal, amelyek a kategória legolcsóbb, illetve legdrágább termékének árát tartalmazzák.\n",
                "2. A két új oszlop létrehozásánál partíciókkal dolgozzunk!"
            ],
            "metadata": {
                "azdata_cell_guid": "f12a331a-0e26-4d3d-9c68-812316286577"
            },
            "attachments": {}
        },
        {
            "cell_type": "code",
            "source": [
                ""
            ],
            "metadata": {
                "azdata_cell_guid": "10a77fc9-e61a-46fc-a401-59720d82bc50",
                "language": "sql"
            },
            "outputs": [],
            "execution_count": null
        },
        {
            "cell_type": "markdown",
            "source": [
                "10. <span style=\"font-weight: 600; color: rgb(36, 41, 47); font-family: -apple-system, BlinkMacSystemFont, &quot;Segoe UI&quot;, Helvetica, Arial, sans-serif, &quot;Apple Color Emoji&quot;, &quot;Segoe UI Emoji&quot;; font-size: 16px;\">Készítsünk listát a rendelésekről. A lista legyen rendezve ügyfelenként (LOGIN), azon belül a rendelés dátuma szerint. A listához készítsünk sorszámozást is. A sorszám a következő formában jelenjen meg: sorszám_év_login. Pl: 1_2015_adam1</span>\n",
                "\n",
                "1. A számozás login-onként, azon belül rendelési évenként kezdődjön újra.\n",
                "2. A sorszám oszlop neve legyen Azonosító"
            ],
            "metadata": {
                "azdata_cell_guid": "9229e2b6-e200-4499-b95b-2d0222149831"
            },
            "attachments": {}
        },
        {
            "cell_type": "code",
            "source": [
                ""
            ],
            "metadata": {
                "azdata_cell_guid": "8b49ed67-28c6-4880-82a8-cd369e5bba99",
                "language": "sql"
            },
            "outputs": [],
            "execution_count": null
        },
        {
            "cell_type": "markdown",
            "source": [
                "11. <span style=\"color: rgb(36, 41, 47); font-family: -apple-system, BlinkMacSystemFont, &quot;Segoe UI&quot;, Helvetica, Arial, sans-serif, &quot;Apple Color Emoji&quot;, &quot;Segoe UI Emoji&quot;; font-size: 16px;\">Készítsünk listát a termékek adatairól listaár szerint növekvő sorrendben! A lista jelenítse meg két új oszlopban a sorrend szerint előző, illetve következő termék listaárát is a termék saját kategóriájában és raktárában!</span>\n",
                "\n",
                "1. Ahol nincs előző vagy következő érték, ott 0 jelenjen meg!\n",
                "2. Az oszlopokat nevezzük el értelemszerűen!"
            ],
            "metadata": {
                "azdata_cell_guid": "7f5fc7a7-3b6a-4d89-b292-490830afb0c6"
            },
            "attachments": {}
        },
        {
            "cell_type": "code",
            "source": [
                ""
            ],
            "metadata": {
                "azdata_cell_guid": "4a9ece40-f782-4c0d-92cd-9c21969067ed",
                "language": "sql"
            },
            "outputs": [],
            "execution_count": null
        },
        {
            "cell_type": "markdown",
            "source": [
                "12. <span style=\"color: rgb(36, 41, 47); font-family: -apple-system, BlinkMacSystemFont, &quot;Segoe UI&quot;, Helvetica, Arial, sans-serif, &quot;Apple Color Emoji&quot;, &quot;Segoe UI Emoji&quot;; font-size: 16px;\">Listázzuk a termékek kódját, nevét és listaárát listaár szerinti sorrendben!</span>\n",
                "\n",
                "1. Vegyünk fel egy új oszlopot Mozgóátlag néven, amely minden esetben az aktuális termék, az előző, és a következő termék átlagárát tartalmazza!\n",
                "2. A mozgóátlagot kerekítsük két tizedesre!"
            ],
            "metadata": {
                "azdata_cell_guid": "5a483c52-bb98-44bb-bd03-1146d4b0abfa"
            },
            "attachments": {}
        },
        {
            "cell_type": "code",
            "source": [
                ""
            ],
            "metadata": {
                "azdata_cell_guid": "dd6e89bd-08f9-4b18-8460-03c45b503df0",
                "language": "sql"
            },
            "outputs": [],
            "execution_count": null
        },
        {
            "cell_type": "markdown",
            "source": [
                "13. <span style=\"color: rgb(36, 41, 47); font-family: -apple-system, BlinkMacSystemFont, &quot;Segoe UI&quot;, Helvetica, Arial, sans-serif, &quot;Apple Color Emoji&quot;, &quot;Segoe UI Emoji&quot;; font-size: 16px;\">Készítsünk listát, amely a rendelések sorszámát és a rendelés értékét tartalmazza. A listát egészítsük ki egy új oszloppal, amely minden rendelés esetén addigi rendelések összegét tartalmazza (az aktuálisat is beleértve)!</span>\n",
                "\n",
                "1. A listát rendezzük sorszám szerint növekvő sorrendbe.\n",
                "2. A lista ne tartalmazzon duplikált sorokat!"
            ],
            "metadata": {
                "azdata_cell_guid": "85d5cb66-96c6-42de-99cf-85ab22d08548"
            },
            "attachments": {}
        },
        {
            "cell_type": "code",
            "source": [
                ""
            ],
            "metadata": {
                "azdata_cell_guid": "cb07d64b-0eaa-498b-b4d2-0b46971e95ce",
                "language": "sql"
            },
            "outputs": [],
            "execution_count": null
        },
        {
            "cell_type": "markdown",
            "source": [
                "14. <span style=\"color: rgb(36, 41, 47); font-family: -apple-system, BlinkMacSystemFont, &quot;Segoe UI&quot;, Helvetica, Arial, sans-serif, &quot;Apple Color Emoji&quot;, &quot;Segoe UI Emoji&quot;; font-size: 16px;\">Készítsünk listát a termékek kódjáról, nevéről, kategória azonosítójáról, raktár azonosítójáról és listaáráról, valamint a termék adott szempontok szerinti rangsorokban elfoglalt helyezéseiről. (Szempontonként külön oszlopban, a helyezéseknél növekvő sorrendet feltételezve). A szempontok a következők legyenek: listaár, kategória szerinti listaár, és raktárkód szerinti listaár.</span>\n",
                "\n",
                "1. Az oszlopokat nevezzük el értelemszerűen.\n",
                "2. A helyezések egyenlőség esetén \"sűrűn\" kövessék egymást.\n",
                "3. A lista legyen rendezett kategória azonosító, azon belül listaár szerint!"
            ],
            "metadata": {
                "azdata_cell_guid": "f95ad665-a807-4099-bf06-64ed974f866f"
            },
            "attachments": {}
        },
        {
            "cell_type": "code",
            "source": [
                ""
            ],
            "metadata": {
                "azdata_cell_guid": "74c7ec8a-ae4a-4d03-b1c4-e8f6bb1be12c",
                "language": "sql"
            },
            "outputs": [],
            "execution_count": null
        },
        {
            "cell_type": "markdown",
            "source": [
                "15. <span style=\"color: rgb(36, 41, 47); font-family: -apple-system, BlinkMacSystemFont, &quot;Segoe UI&quot;, Helvetica, Arial, sans-serif, &quot;Apple Color Emoji&quot;, &quot;Segoe UI Emoji&quot;; font-size: 16px;\">Készítsünk listát a rendelési tételekről, amely minden sor esetén göngyölítve tartalmazza az ügyfél adott rendelési tételig meglévő rendelési tételeinek összértékét!</span>\n",
                "\n",
                "1. Az új oszlop neve legyen Eddigi rendelési tételek összértéke!\n",
                "2. Az ügyfél neve is jelenjen meg!"
            ],
            "metadata": {
                "azdata_cell_guid": "93552388-ffec-49ff-99e5-ae8dc8072601"
            },
            "attachments": {}
        },
        {
            "cell_type": "code",
            "source": [
                ""
            ],
            "metadata": {
                "azdata_cell_guid": "0e7f547f-7d96-4611-b1c2-0fa84a581e79",
                "language": "sql"
            },
            "outputs": [],
            "execution_count": null
        }
    ]
}