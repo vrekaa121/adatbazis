{
    "metadata": {
        "kernelspec": {
            "name": "SQL",
            "display_name": "SQL",
            "language": "sql"
        },
        "language_info": {
            "name": "sql",
            "version": ""
        }
    },
    "nbformat_minor": 2,
    "nbformat": 4,
    "cells": [
        {
            "cell_type": "code",
            "source": [
                "--1 feladat\r\n",
                "\r\n",
                "SELECT nev,\r\n",
                "        email,\r\n",
                "FROM vendeg\r\n",
                "WHERE YEAR(szul_dat) >= 1995\r\n",
                "ORDER BY MONTH(szul_dat) "
            ],
            "metadata": {
                "azdata_cell_guid": "6f3dd04a-dcad-4822-9aa3-9cda86d5fa3f",
                "language": "sql",
                "tags": []
            },
            "outputs": [
                {
                    "output_type": "display_data",
                    "data": {
                        "text/html": "(26 rows affected)"
                    },
                    "metadata": {}
                },
                {
                    "output_type": "display_data",
                    "data": {
                        "text/html": "Total execution time: 00:00:00.009"
                    },
                    "metadata": {}
                },
                {
                    "output_type": "execute_result",
                    "metadata": {},
                    "execution_count": 3,
                    "data": {
                        "application/vnd.dataresource+json": {
                            "schema": {
                                "fields": [
                                    {
                                        "name": "nev"
                                    },
                                    {
                                        "name": "email"
                                    },
                                    {
                                        "name": "szul_dat"
                                    }
                                ]
                            },
                            "data": [
                                {
                                    "nev": "Balogh Eszter",
                                    "email": "eszter.balogh@mail.hu",
                                    "szul_dat": "1998-01-31"
                                },
                                {
                                    "nev": "Kispál Márk",
                                    "email": "márk.kispál@mail.hu",
                                    "szul_dat": "1996-01-23"
                                },
                                {
                                    "nev": "Papós Tímea",
                                    "email": "timea@gmail.com",
                                    "szul_dat": "1996-01-08"
                                },
                                {
                                    "nev": "Koza Máté",
                                    "email": "máté.koza@mail.hu",
                                    "szul_dat": "1997-02-28"
                                },
                                {
                                    "nev": "Nagymihály Lajos",
                                    "email": "lajos.nagymihály@mail.hu",
                                    "szul_dat": "1997-02-24"
                                },
                                {
                                    "nev": "Farkas Béla",
                                    "email": "BELAF@gmail.com",
                                    "szul_dat": "1995-02-24"
                                },
                                {
                                    "nev": "Horváth Bálint",
                                    "email": "balint@gmail.com",
                                    "szul_dat": "1996-03-17"
                                },
                                {
                                    "nev": "Erdei András",
                                    "email": "ANDRASE@gmail.com",
                                    "szul_dat": "1997-05-29"
                                },
                                {
                                    "nev": "Szomor Andrea",
                                    "email": "andrea3@gmail.com",
                                    "szul_dat": "1996-05-10"
                                },
                                {
                                    "nev": "Opra Attila",
                                    "email": "ATTILAO@gmail.com",
                                    "szul_dat": "1995-05-08"
                                },
                                {
                                    "nev": "Sarodi Dóra",
                                    "email": "dóra.sarodi@mail.hu",
                                    "szul_dat": "1995-05-18"
                                },
                                {
                                    "nev": "Urbán Viktoria",
                                    "email": "viktoria.urbán@mail.hu",
                                    "szul_dat": "1996-05-03"
                                },
                                {
                                    "nev": "Zatykó Katalin",
                                    "email": "katalin.zatykó@mail.hu",
                                    "szul_dat": "1995-05-01"
                                },
                                {
                                    "nev": "Nagy Sándor",
                                    "email": "sandor4@gmail.com",
                                    "szul_dat": "1997-06-11"
                                },
                                {
                                    "nev": "Hídasi Judit",
                                    "email": "JUDITH@gmail.com",
                                    "szul_dat": "1997-07-12"
                                },
                                {
                                    "nev": "Frank Fruzsina",
                                    "email": "fruzsina4@gmail.com",
                                    "szul_dat": "1996-08-16"
                                },
                                {
                                    "nev": "Kovács Bernadett",
                                    "email": "bernadett.kovács@mail.hu",
                                    "szul_dat": "1996-08-20"
                                },
                                {
                                    "nev": "Vukasinovity Bálint",
                                    "email": "balint2@gmail.com",
                                    "szul_dat": "1997-09-03"
                                },
                                {
                                    "nev": "Horváth Márk",
                                    "email": "márk.horváth@mail.hu",
                                    "szul_dat": "1997-09-23"
                                },
                                {
                                    "nev": "Tóth András",
                                    "email": "andrás.tóth@mail.hu",
                                    "szul_dat": "1997-10-31"
                                },
                                {
                                    "nev": "Komjáti András",
                                    "email": "andras41@gmail.com",
                                    "szul_dat": "1997-10-25"
                                },
                                {
                                    "nev": "Gondos Miklós",
                                    "email": "miklos2@gmail.com",
                                    "szul_dat": "1995-10-07"
                                },
                                {
                                    "nev": "Tatár Nikoletta",
                                    "email": "nikoletta.tatár@mail.hu",
                                    "szul_dat": "1997-10-19"
                                },
                                {
                                    "nev": "Fényes Tamás",
                                    "email": "TAMASF@gmail.com",
                                    "szul_dat": "1997-11-06"
                                },
                                {
                                    "nev": "Baráth Mária",
                                    "email": "mária.baráth@mail.hu",
                                    "szul_dat": "1995-11-19"
                                },
                                {
                                    "nev": "Vizi István",
                                    "email": "istván.vizi@mail.hu",
                                    "szul_dat": "1997-12-01"
                                }
                            ]
                        },
                        "text/html": [
                            "<table>",
                            "<tr><th>nev</th><th>email</th><th>szul_dat</th></tr>",
                            "<tr><td>Balogh Eszter</td><td>eszter.balogh@mail.hu</td><td>1998-01-31</td></tr>",
                            "<tr><td>Kispál Márk</td><td>márk.kispál@mail.hu</td><td>1996-01-23</td></tr>",
                            "<tr><td>Papós Tímea</td><td>timea@gmail.com</td><td>1996-01-08</td></tr>",
                            "<tr><td>Koza Máté</td><td>máté.koza@mail.hu</td><td>1997-02-28</td></tr>",
                            "<tr><td>Nagymihály Lajos</td><td>lajos.nagymihály@mail.hu</td><td>1997-02-24</td></tr>",
                            "<tr><td>Farkas Béla</td><td>BELAF@gmail.com</td><td>1995-02-24</td></tr>",
                            "<tr><td>Horváth Bálint</td><td>balint@gmail.com</td><td>1996-03-17</td></tr>",
                            "<tr><td>Erdei András</td><td>ANDRASE@gmail.com</td><td>1997-05-29</td></tr>",
                            "<tr><td>Szomor Andrea</td><td>andrea3@gmail.com</td><td>1996-05-10</td></tr>",
                            "<tr><td>Opra Attila</td><td>ATTILAO@gmail.com</td><td>1995-05-08</td></tr>",
                            "<tr><td>Sarodi Dóra</td><td>dóra.sarodi@mail.hu</td><td>1995-05-18</td></tr>",
                            "<tr><td>Urbán Viktoria</td><td>viktoria.urbán@mail.hu</td><td>1996-05-03</td></tr>",
                            "<tr><td>Zatykó Katalin</td><td>katalin.zatykó@mail.hu</td><td>1995-05-01</td></tr>",
                            "<tr><td>Nagy Sándor</td><td>sandor4@gmail.com</td><td>1997-06-11</td></tr>",
                            "<tr><td>Hídasi Judit</td><td>JUDITH@gmail.com</td><td>1997-07-12</td></tr>",
                            "<tr><td>Frank Fruzsina</td><td>fruzsina4@gmail.com</td><td>1996-08-16</td></tr>",
                            "<tr><td>Kovács Bernadett</td><td>bernadett.kovács@mail.hu</td><td>1996-08-20</td></tr>",
                            "<tr><td>Vukasinovity Bálint</td><td>balint2@gmail.com</td><td>1997-09-03</td></tr>",
                            "<tr><td>Horváth Márk</td><td>márk.horváth@mail.hu</td><td>1997-09-23</td></tr>",
                            "<tr><td>Tóth András</td><td>andrás.tóth@mail.hu</td><td>1997-10-31</td></tr>",
                            "<tr><td>Komjáti András</td><td>andras41@gmail.com</td><td>1997-10-25</td></tr>",
                            "<tr><td>Gondos Miklós</td><td>miklos2@gmail.com</td><td>1995-10-07</td></tr>",
                            "<tr><td>Tatár Nikoletta</td><td>nikoletta.tatár@mail.hu</td><td>1997-10-19</td></tr>",
                            "<tr><td>Fényes Tamás</td><td>TAMASF@gmail.com</td><td>1997-11-06</td></tr>",
                            "<tr><td>Baráth Mária</td><td>mária.baráth@mail.hu</td><td>1995-11-19</td></tr>",
                            "<tr><td>Vizi István</td><td>istván.vizi@mail.hu</td><td>1997-12-01</td></tr>",
                            "</table>"
                        ]
                    }
                }
            ],
            "execution_count": 3
        },
        {
            "cell_type": "code",
            "source": [
                "--2 feladat\r\n",
                "\r\n",
                "SELECT SZOBA_FK,\r\n",
                "        COUNT(FOGLALAS_PK) AS 'Foglalásszám'\r\n",
                "FROM foglalas\r\n",
                "WHERE felnott_szam > GYERMEK_SZAM\r\n",
                "GROUP BY SZOBA_FK\r\n",
                "HAVING COUNT(SZOBA_FK) >= 2\r\n",
                "ORDER BY COUNT(FOGLALAS_PK)"
            ],
            "metadata": {
                "azdata_cell_guid": "17ad63aa-cc91-4638-90bd-eb592b78bb03",
                "language": "sql",
                "tags": []
            },
            "outputs": [
                {
                    "output_type": "display_data",
                    "data": {
                        "text/html": "(165 rows affected)"
                    },
                    "metadata": {}
                },
                {
                    "output_type": "display_data",
                    "data": {
                        "text/html": "Total execution time: 00:00:00.011"
                    },
                    "metadata": {}
                },
                {
                    "output_type": "execute_result",
                    "metadata": {},
                    "execution_count": 19,
                    "data": {
                        "application/vnd.dataresource+json": {
                            "schema": {
                                "fields": [
                                    {
                                        "name": "SZOBA_FK"
                                    },
                                    {
                                        "name": "Foglalásszám"
                                    }
                                ]
                            },
                            "data": [
                                {
                                    "SZOBA_FK": "2",
                                    "Foglalásszám": "2"
                                },
                                {
                                    "SZOBA_FK": "5",
                                    "Foglalásszám": "2"
                                },
                                {
                                    "SZOBA_FK": "17",
                                    "Foglalásszám": "2"
                                },
                                {
                                    "SZOBA_FK": "22",
                                    "Foglalásszám": "2"
                                },
                                {
                                    "SZOBA_FK": "30",
                                    "Foglalásszám": "2"
                                },
                                {
                                    "SZOBA_FK": "37",
                                    "Foglalásszám": "2"
                                },
                                {
                                    "SZOBA_FK": "47",
                                    "Foglalásszám": "2"
                                },
                                {
                                    "SZOBA_FK": "71",
                                    "Foglalásszám": "2"
                                },
                                {
                                    "SZOBA_FK": "72",
                                    "Foglalásszám": "2"
                                },
                                {
                                    "SZOBA_FK": "75",
                                    "Foglalásszám": "2"
                                },
                                {
                                    "SZOBA_FK": "76",
                                    "Foglalásszám": "2"
                                },
                                {
                                    "SZOBA_FK": "67",
                                    "Foglalásszám": "2"
                                },
                                {
                                    "SZOBA_FK": "69",
                                    "Foglalásszám": "2"
                                },
                                {
                                    "SZOBA_FK": "85",
                                    "Foglalásszám": "2"
                                },
                                {
                                    "SZOBA_FK": "91",
                                    "Foglalásszám": "2"
                                },
                                {
                                    "SZOBA_FK": "100",
                                    "Foglalásszám": "2"
                                },
                                {
                                    "SZOBA_FK": "109",
                                    "Foglalásszám": "2"
                                },
                                {
                                    "SZOBA_FK": "113",
                                    "Foglalásszám": "2"
                                },
                                {
                                    "SZOBA_FK": "118",
                                    "Foglalásszám": "2"
                                },
                                {
                                    "SZOBA_FK": "120",
                                    "Foglalásszám": "2"
                                },
                                {
                                    "SZOBA_FK": "136",
                                    "Foglalásszám": "2"
                                },
                                {
                                    "SZOBA_FK": "137",
                                    "Foglalásszám": "2"
                                },
                                {
                                    "SZOBA_FK": "144",
                                    "Foglalásszám": "2"
                                },
                                {
                                    "SZOBA_FK": "145",
                                    "Foglalásszám": "2"
                                },
                                {
                                    "SZOBA_FK": "151",
                                    "Foglalásszám": "2"
                                },
                                {
                                    "SZOBA_FK": "156",
                                    "Foglalásszám": "2"
                                },
                                {
                                    "SZOBA_FK": "157",
                                    "Foglalásszám": "2"
                                },
                                {
                                    "SZOBA_FK": "160",
                                    "Foglalásszám": "2"
                                },
                                {
                                    "SZOBA_FK": "162",
                                    "Foglalásszám": "2"
                                },
                                {
                                    "SZOBA_FK": "167",
                                    "Foglalásszám": "2"
                                },
                                {
                                    "SZOBA_FK": "176",
                                    "Foglalásszám": "2"
                                },
                                {
                                    "SZOBA_FK": "179",
                                    "Foglalásszám": "2"
                                },
                                {
                                    "SZOBA_FK": "188",
                                    "Foglalásszám": "2"
                                },
                                {
                                    "SZOBA_FK": "193",
                                    "Foglalásszám": "2"
                                },
                                {
                                    "SZOBA_FK": "196",
                                    "Foglalásszám": "2"
                                },
                                {
                                    "SZOBA_FK": "191",
                                    "Foglalásszám": "3"
                                },
                                {
                                    "SZOBA_FK": "183",
                                    "Foglalásszám": "3"
                                },
                                {
                                    "SZOBA_FK": "173",
                                    "Foglalásszám": "3"
                                },
                                {
                                    "SZOBA_FK": "166",
                                    "Foglalásszám": "3"
                                },
                                {
                                    "SZOBA_FK": "175",
                                    "Foglalásszám": "3"
                                },
                                {
                                    "SZOBA_FK": "169",
                                    "Foglalásszám": "3"
                                },
                                {
                                    "SZOBA_FK": "170",
                                    "Foglalásszám": "3"
                                },
                                {
                                    "SZOBA_FK": "161",
                                    "Foglalásszám": "3"
                                },
                                {
                                    "SZOBA_FK": "158",
                                    "Foglalásszám": "3"
                                },
                                {
                                    "SZOBA_FK": "152",
                                    "Foglalásszám": "3"
                                },
                                {
                                    "SZOBA_FK": "154",
                                    "Foglalásszám": "3"
                                },
                                {
                                    "SZOBA_FK": "155",
                                    "Foglalásszám": "3"
                                },
                                {
                                    "SZOBA_FK": "146",
                                    "Foglalásszám": "3"
                                },
                                {
                                    "SZOBA_FK": "135",
                                    "Foglalásszám": "3"
                                },
                                {
                                    "SZOBA_FK": "122",
                                    "Foglalásszám": "3"
                                },
                                {
                                    "SZOBA_FK": "129",
                                    "Foglalásszám": "3"
                                },
                                {
                                    "SZOBA_FK": "104",
                                    "Foglalásszám": "3"
                                },
                                {
                                    "SZOBA_FK": "90",
                                    "Foglalásszám": "3"
                                },
                                {
                                    "SZOBA_FK": "66",
                                    "Foglalásszám": "3"
                                },
                                {
                                    "SZOBA_FK": "84",
                                    "Foglalásszám": "3"
                                },
                                {
                                    "SZOBA_FK": "93",
                                    "Foglalásszám": "3"
                                },
                                {
                                    "SZOBA_FK": "95",
                                    "Foglalásszám": "3"
                                },
                                {
                                    "SZOBA_FK": "81",
                                    "Foglalásszám": "3"
                                },
                                {
                                    "SZOBA_FK": "77",
                                    "Foglalásszám": "3"
                                },
                                {
                                    "SZOBA_FK": "78",
                                    "Foglalásszám": "3"
                                },
                                {
                                    "SZOBA_FK": "50",
                                    "Foglalásszám": "3"
                                },
                                {
                                    "SZOBA_FK": "51",
                                    "Foglalásszám": "3"
                                },
                                {
                                    "SZOBA_FK": "46",
                                    "Foglalásszám": "3"
                                },
                                {
                                    "SZOBA_FK": "55",
                                    "Foglalásszám": "3"
                                },
                                {
                                    "SZOBA_FK": "57",
                                    "Foglalásszám": "3"
                                },
                                {
                                    "SZOBA_FK": "62",
                                    "Foglalásszám": "3"
                                },
                                {
                                    "SZOBA_FK": "63",
                                    "Foglalásszám": "3"
                                },
                                {
                                    "SZOBA_FK": "29",
                                    "Foglalásszám": "3"
                                },
                                {
                                    "SZOBA_FK": "40",
                                    "Foglalásszám": "3"
                                },
                                {
                                    "SZOBA_FK": "33",
                                    "Foglalásszám": "3"
                                },
                                {
                                    "SZOBA_FK": "34",
                                    "Foglalásszám": "3"
                                },
                                {
                                    "SZOBA_FK": "23",
                                    "Foglalásszám": "3"
                                },
                                {
                                    "SZOBA_FK": "24",
                                    "Foglalásszám": "3"
                                },
                                {
                                    "SZOBA_FK": "18",
                                    "Foglalásszám": "3"
                                },
                                {
                                    "SZOBA_FK": "14",
                                    "Foglalásszám": "3"
                                },
                                {
                                    "SZOBA_FK": "3",
                                    "Foglalásszám": "3"
                                },
                                {
                                    "SZOBA_FK": "9",
                                    "Foglalásszám": "4"
                                },
                                {
                                    "SZOBA_FK": "10",
                                    "Foglalásszám": "4"
                                },
                                {
                                    "SZOBA_FK": "11",
                                    "Foglalásszám": "4"
                                },
                                {
                                    "SZOBA_FK": "15",
                                    "Foglalásszám": "4"
                                },
                                {
                                    "SZOBA_FK": "19",
                                    "Foglalásszám": "4"
                                },
                                {
                                    "SZOBA_FK": "36",
                                    "Foglalásszám": "4"
                                },
                                {
                                    "SZOBA_FK": "39",
                                    "Foglalásszám": "4"
                                },
                                {
                                    "SZOBA_FK": "13",
                                    "Foglalásszám": "4"
                                },
                                {
                                    "SZOBA_FK": "59",
                                    "Foglalásszám": "4"
                                },
                                {
                                    "SZOBA_FK": "61",
                                    "Foglalásszám": "4"
                                },
                                {
                                    "SZOBA_FK": "54",
                                    "Foglalásszám": "4"
                                },
                                {
                                    "SZOBA_FK": "45",
                                    "Foglalásszám": "4"
                                },
                                {
                                    "SZOBA_FK": "43",
                                    "Foglalásszám": "4"
                                },
                                {
                                    "SZOBA_FK": "79",
                                    "Foglalásszám": "4"
                                },
                                {
                                    "SZOBA_FK": "73",
                                    "Foglalásszám": "4"
                                },
                                {
                                    "SZOBA_FK": "86",
                                    "Foglalásszám": "4"
                                },
                                {
                                    "SZOBA_FK": "98",
                                    "Foglalásszám": "4"
                                },
                                {
                                    "SZOBA_FK": "99",
                                    "Foglalásszám": "4"
                                },
                                {
                                    "SZOBA_FK": "106",
                                    "Foglalásszám": "4"
                                },
                                {
                                    "SZOBA_FK": "107",
                                    "Foglalásszám": "4"
                                },
                                {
                                    "SZOBA_FK": "124",
                                    "Foglalásszám": "4"
                                },
                                {
                                    "SZOBA_FK": "126",
                                    "Foglalásszám": "4"
                                },
                                {
                                    "SZOBA_FK": "119",
                                    "Foglalásszám": "4"
                                },
                                {
                                    "SZOBA_FK": "112",
                                    "Foglalásszám": "4"
                                },
                                {
                                    "SZOBA_FK": "117",
                                    "Foglalásszám": "4"
                                },
                                {
                                    "SZOBA_FK": "141",
                                    "Foglalásszám": "4"
                                },
                                {
                                    "SZOBA_FK": "131",
                                    "Foglalásszám": "4"
                                },
                                {
                                    "SZOBA_FK": "132",
                                    "Foglalásszám": "4"
                                },
                                {
                                    "SZOBA_FK": "133",
                                    "Foglalásszám": "4"
                                },
                                {
                                    "SZOBA_FK": "134",
                                    "Foglalásszám": "4"
                                },
                                {
                                    "SZOBA_FK": "153",
                                    "Foglalásszám": "4"
                                },
                                {
                                    "SZOBA_FK": "164",
                                    "Foglalásszám": "4"
                                },
                                {
                                    "SZOBA_FK": "174",
                                    "Foglalásszám": "4"
                                },
                                {
                                    "SZOBA_FK": "184",
                                    "Foglalásszám": "4"
                                },
                                {
                                    "SZOBA_FK": "190",
                                    "Foglalásszám": "5"
                                },
                                {
                                    "SZOBA_FK": "195",
                                    "Foglalásszám": "5"
                                },
                                {
                                    "SZOBA_FK": "181",
                                    "Foglalásszám": "5"
                                },
                                {
                                    "SZOBA_FK": "165",
                                    "Foglalásszám": "5"
                                },
                                {
                                    "SZOBA_FK": "163",
                                    "Foglalásszám": "5"
                                },
                                {
                                    "SZOBA_FK": "171",
                                    "Foglalásszám": "5"
                                },
                                {
                                    "SZOBA_FK": "138",
                                    "Foglalásszám": "5"
                                },
                                {
                                    "SZOBA_FK": "143",
                                    "Foglalásszám": "5"
                                },
                                {
                                    "SZOBA_FK": "140",
                                    "Foglalásszám": "5"
                                },
                                {
                                    "SZOBA_FK": "148",
                                    "Foglalásszám": "5"
                                },
                                {
                                    "SZOBA_FK": "149",
                                    "Foglalásszám": "5"
                                },
                                {
                                    "SZOBA_FK": "115",
                                    "Foglalásszám": "5"
                                },
                                {
                                    "SZOBA_FK": "110",
                                    "Foglalásszám": "5"
                                },
                                {
                                    "SZOBA_FK": "127",
                                    "Foglalásszám": "5"
                                },
                                {
                                    "SZOBA_FK": "130",
                                    "Foglalásszám": "5"
                                },
                                {
                                    "SZOBA_FK": "123",
                                    "Foglalásszám": "5"
                                },
                                {
                                    "SZOBA_FK": "121",
                                    "Foglalásszám": "5"
                                },
                                {
                                    "SZOBA_FK": "97",
                                    "Foglalásszám": "5"
                                },
                                {
                                    "SZOBA_FK": "92",
                                    "Foglalásszám": "5"
                                },
                                {
                                    "SZOBA_FK": "87",
                                    "Foglalásszám": "5"
                                },
                                {
                                    "SZOBA_FK": "88",
                                    "Foglalásszám": "5"
                                },
                                {
                                    "SZOBA_FK": "82",
                                    "Foglalásszám": "5"
                                },
                                {
                                    "SZOBA_FK": "83",
                                    "Foglalásszám": "5"
                                },
                                {
                                    "SZOBA_FK": "80",
                                    "Foglalásszám": "5"
                                },
                                {
                                    "SZOBA_FK": "52",
                                    "Foglalásszám": "5"
                                },
                                {
                                    "SZOBA_FK": "49",
                                    "Foglalásszám": "5"
                                },
                                {
                                    "SZOBA_FK": "64",
                                    "Foglalásszám": "5"
                                },
                                {
                                    "SZOBA_FK": "38",
                                    "Foglalásszám": "5"
                                },
                                {
                                    "SZOBA_FK": "42",
                                    "Foglalásszám": "5"
                                },
                                {
                                    "SZOBA_FK": "27",
                                    "Foglalásszám": "5"
                                },
                                {
                                    "SZOBA_FK": "28",
                                    "Foglalásszám": "5"
                                },
                                {
                                    "SZOBA_FK": "20",
                                    "Foglalásszám": "5"
                                },
                                {
                                    "SZOBA_FK": "8",
                                    "Foglalásszám": "5"
                                },
                                {
                                    "SZOBA_FK": "4",
                                    "Foglalásszám": "5"
                                },
                                {
                                    "SZOBA_FK": "6",
                                    "Foglalásszám": "5"
                                },
                                {
                                    "SZOBA_FK": "7",
                                    "Foglalásszám": "6"
                                },
                                {
                                    "SZOBA_FK": "35",
                                    "Foglalásszám": "6"
                                },
                                {
                                    "SZOBA_FK": "48",
                                    "Foglalásszám": "6"
                                },
                                {
                                    "SZOBA_FK": "44",
                                    "Foglalásszám": "6"
                                },
                                {
                                    "SZOBA_FK": "96",
                                    "Foglalásszám": "6"
                                },
                                {
                                    "SZOBA_FK": "94",
                                    "Foglalásszám": "6"
                                },
                                {
                                    "SZOBA_FK": "150",
                                    "Foglalásszám": "6"
                                },
                                {
                                    "SZOBA_FK": "139",
                                    "Foglalásszám": "6"
                                },
                                {
                                    "SZOBA_FK": "172",
                                    "Foglalásszám": "6"
                                },
                                {
                                    "SZOBA_FK": "187",
                                    "Foglalásszám": "6"
                                },
                                {
                                    "SZOBA_FK": "197",
                                    "Foglalásszám": "6"
                                },
                                {
                                    "SZOBA_FK": "198",
                                    "Foglalásszám": "7"
                                },
                                {
                                    "SZOBA_FK": "12",
                                    "Foglalásszám": "7"
                                },
                                {
                                    "SZOBA_FK": "1",
                                    "Foglalásszám": "7"
                                },
                                {
                                    "SZOBA_FK": "58",
                                    "Foglalásszám": "8"
                                },
                                {
                                    "SZOBA_FK": "74",
                                    "Foglalásszám": "8"
                                },
                                {
                                    "SZOBA_FK": "70",
                                    "Foglalásszám": "8"
                                },
                                {
                                    "SZOBA_FK": "89",
                                    "Foglalásszám": "8"
                                },
                                {
                                    "SZOBA_FK": "185",
                                    "Foglalásszám": "10"
                                },
                                {
                                    "SZOBA_FK": "182",
                                    "Foglalásszám": "11"
                                }
                            ]
                        },
                        "text/html": [
                            "<table>",
                            "<tr><th>SZOBA_FK</th><th>Foglalásszám</th></tr>",
                            "<tr><td>2</td><td>2</td></tr>",
                            "<tr><td>5</td><td>2</td></tr>",
                            "<tr><td>17</td><td>2</td></tr>",
                            "<tr><td>22</td><td>2</td></tr>",
                            "<tr><td>30</td><td>2</td></tr>",
                            "<tr><td>37</td><td>2</td></tr>",
                            "<tr><td>47</td><td>2</td></tr>",
                            "<tr><td>71</td><td>2</td></tr>",
                            "<tr><td>72</td><td>2</td></tr>",
                            "<tr><td>75</td><td>2</td></tr>",
                            "<tr><td>76</td><td>2</td></tr>",
                            "<tr><td>67</td><td>2</td></tr>",
                            "<tr><td>69</td><td>2</td></tr>",
                            "<tr><td>85</td><td>2</td></tr>",
                            "<tr><td>91</td><td>2</td></tr>",
                            "<tr><td>100</td><td>2</td></tr>",
                            "<tr><td>109</td><td>2</td></tr>",
                            "<tr><td>113</td><td>2</td></tr>",
                            "<tr><td>118</td><td>2</td></tr>",
                            "<tr><td>120</td><td>2</td></tr>",
                            "<tr><td>136</td><td>2</td></tr>",
                            "<tr><td>137</td><td>2</td></tr>",
                            "<tr><td>144</td><td>2</td></tr>",
                            "<tr><td>145</td><td>2</td></tr>",
                            "<tr><td>151</td><td>2</td></tr>",
                            "<tr><td>156</td><td>2</td></tr>",
                            "<tr><td>157</td><td>2</td></tr>",
                            "<tr><td>160</td><td>2</td></tr>",
                            "<tr><td>162</td><td>2</td></tr>",
                            "<tr><td>167</td><td>2</td></tr>",
                            "<tr><td>176</td><td>2</td></tr>",
                            "<tr><td>179</td><td>2</td></tr>",
                            "<tr><td>188</td><td>2</td></tr>",
                            "<tr><td>193</td><td>2</td></tr>",
                            "<tr><td>196</td><td>2</td></tr>",
                            "<tr><td>191</td><td>3</td></tr>",
                            "<tr><td>183</td><td>3</td></tr>",
                            "<tr><td>173</td><td>3</td></tr>",
                            "<tr><td>166</td><td>3</td></tr>",
                            "<tr><td>175</td><td>3</td></tr>",
                            "<tr><td>169</td><td>3</td></tr>",
                            "<tr><td>170</td><td>3</td></tr>",
                            "<tr><td>161</td><td>3</td></tr>",
                            "<tr><td>158</td><td>3</td></tr>",
                            "<tr><td>152</td><td>3</td></tr>",
                            "<tr><td>154</td><td>3</td></tr>",
                            "<tr><td>155</td><td>3</td></tr>",
                            "<tr><td>146</td><td>3</td></tr>",
                            "<tr><td>135</td><td>3</td></tr>",
                            "<tr><td>122</td><td>3</td></tr>",
                            "<tr><td>129</td><td>3</td></tr>",
                            "<tr><td>104</td><td>3</td></tr>",
                            "<tr><td>90</td><td>3</td></tr>",
                            "<tr><td>66</td><td>3</td></tr>",
                            "<tr><td>84</td><td>3</td></tr>",
                            "<tr><td>93</td><td>3</td></tr>",
                            "<tr><td>95</td><td>3</td></tr>",
                            "<tr><td>81</td><td>3</td></tr>",
                            "<tr><td>77</td><td>3</td></tr>",
                            "<tr><td>78</td><td>3</td></tr>",
                            "<tr><td>50</td><td>3</td></tr>",
                            "<tr><td>51</td><td>3</td></tr>",
                            "<tr><td>46</td><td>3</td></tr>",
                            "<tr><td>55</td><td>3</td></tr>",
                            "<tr><td>57</td><td>3</td></tr>",
                            "<tr><td>62</td><td>3</td></tr>",
                            "<tr><td>63</td><td>3</td></tr>",
                            "<tr><td>29</td><td>3</td></tr>",
                            "<tr><td>40</td><td>3</td></tr>",
                            "<tr><td>33</td><td>3</td></tr>",
                            "<tr><td>34</td><td>3</td></tr>",
                            "<tr><td>23</td><td>3</td></tr>",
                            "<tr><td>24</td><td>3</td></tr>",
                            "<tr><td>18</td><td>3</td></tr>",
                            "<tr><td>14</td><td>3</td></tr>",
                            "<tr><td>3</td><td>3</td></tr>",
                            "<tr><td>9</td><td>4</td></tr>",
                            "<tr><td>10</td><td>4</td></tr>",
                            "<tr><td>11</td><td>4</td></tr>",
                            "<tr><td>15</td><td>4</td></tr>",
                            "<tr><td>19</td><td>4</td></tr>",
                            "<tr><td>36</td><td>4</td></tr>",
                            "<tr><td>39</td><td>4</td></tr>",
                            "<tr><td>13</td><td>4</td></tr>",
                            "<tr><td>59</td><td>4</td></tr>",
                            "<tr><td>61</td><td>4</td></tr>",
                            "<tr><td>54</td><td>4</td></tr>",
                            "<tr><td>45</td><td>4</td></tr>",
                            "<tr><td>43</td><td>4</td></tr>",
                            "<tr><td>79</td><td>4</td></tr>",
                            "<tr><td>73</td><td>4</td></tr>",
                            "<tr><td>86</td><td>4</td></tr>",
                            "<tr><td>98</td><td>4</td></tr>",
                            "<tr><td>99</td><td>4</td></tr>",
                            "<tr><td>106</td><td>4</td></tr>",
                            "<tr><td>107</td><td>4</td></tr>",
                            "<tr><td>124</td><td>4</td></tr>",
                            "<tr><td>126</td><td>4</td></tr>",
                            "<tr><td>119</td><td>4</td></tr>",
                            "<tr><td>112</td><td>4</td></tr>",
                            "<tr><td>117</td><td>4</td></tr>",
                            "<tr><td>141</td><td>4</td></tr>",
                            "<tr><td>131</td><td>4</td></tr>",
                            "<tr><td>132</td><td>4</td></tr>",
                            "<tr><td>133</td><td>4</td></tr>",
                            "<tr><td>134</td><td>4</td></tr>",
                            "<tr><td>153</td><td>4</td></tr>",
                            "<tr><td>164</td><td>4</td></tr>",
                            "<tr><td>174</td><td>4</td></tr>",
                            "<tr><td>184</td><td>4</td></tr>",
                            "<tr><td>190</td><td>5</td></tr>",
                            "<tr><td>195</td><td>5</td></tr>",
                            "<tr><td>181</td><td>5</td></tr>",
                            "<tr><td>165</td><td>5</td></tr>",
                            "<tr><td>163</td><td>5</td></tr>",
                            "<tr><td>171</td><td>5</td></tr>",
                            "<tr><td>138</td><td>5</td></tr>",
                            "<tr><td>143</td><td>5</td></tr>",
                            "<tr><td>140</td><td>5</td></tr>",
                            "<tr><td>148</td><td>5</td></tr>",
                            "<tr><td>149</td><td>5</td></tr>",
                            "<tr><td>115</td><td>5</td></tr>",
                            "<tr><td>110</td><td>5</td></tr>",
                            "<tr><td>127</td><td>5</td></tr>",
                            "<tr><td>130</td><td>5</td></tr>",
                            "<tr><td>123</td><td>5</td></tr>",
                            "<tr><td>121</td><td>5</td></tr>",
                            "<tr><td>97</td><td>5</td></tr>",
                            "<tr><td>92</td><td>5</td></tr>",
                            "<tr><td>87</td><td>5</td></tr>",
                            "<tr><td>88</td><td>5</td></tr>",
                            "<tr><td>82</td><td>5</td></tr>",
                            "<tr><td>83</td><td>5</td></tr>",
                            "<tr><td>80</td><td>5</td></tr>",
                            "<tr><td>52</td><td>5</td></tr>",
                            "<tr><td>49</td><td>5</td></tr>",
                            "<tr><td>64</td><td>5</td></tr>",
                            "<tr><td>38</td><td>5</td></tr>",
                            "<tr><td>42</td><td>5</td></tr>",
                            "<tr><td>27</td><td>5</td></tr>",
                            "<tr><td>28</td><td>5</td></tr>",
                            "<tr><td>20</td><td>5</td></tr>",
                            "<tr><td>8</td><td>5</td></tr>",
                            "<tr><td>4</td><td>5</td></tr>",
                            "<tr><td>6</td><td>5</td></tr>",
                            "<tr><td>7</td><td>6</td></tr>",
                            "<tr><td>35</td><td>6</td></tr>",
                            "<tr><td>48</td><td>6</td></tr>",
                            "<tr><td>44</td><td>6</td></tr>",
                            "<tr><td>96</td><td>6</td></tr>",
                            "<tr><td>94</td><td>6</td></tr>",
                            "<tr><td>150</td><td>6</td></tr>",
                            "<tr><td>139</td><td>6</td></tr>",
                            "<tr><td>172</td><td>6</td></tr>",
                            "<tr><td>187</td><td>6</td></tr>",
                            "<tr><td>197</td><td>6</td></tr>",
                            "<tr><td>198</td><td>7</td></tr>",
                            "<tr><td>12</td><td>7</td></tr>",
                            "<tr><td>1</td><td>7</td></tr>",
                            "<tr><td>58</td><td>8</td></tr>",
                            "<tr><td>74</td><td>8</td></tr>",
                            "<tr><td>70</td><td>8</td></tr>",
                            "<tr><td>89</td><td>8</td></tr>",
                            "<tr><td>185</td><td>10</td></tr>",
                            "<tr><td>182</td><td>11</td></tr>",
                            "</table>"
                        ]
                    }
                }
            ],
            "execution_count": 19
        },
        {
            "cell_type": "code",
            "source": [
                "--3\r\n",
                "\r\n",
                "SELECT CASE \r\n",
                "        WHEN YEAR(v.SZUL_DAT) >= 1985 THEN 'fiatal'\r\n",
                "        WHEN YEAR(v.SZUL_DAT) < 1970 THEN 'idős'\r\n",
                "        ELSE 'középkorú'\r\n",
                "        END AS 'kor',\r\n",
                "        COUNT(FOGLALAS_PK) AS 'foglalásszám'\r\n",
                "FROM Vendeg v LEFT JOIN foglalas f ON v.USERNEV = f.UGYFEL_FK\r\n",
                "WHERE (FELNOTT_SZAM + GYERMEK_SZAM) >= 2\r\n",
                "GROUP BY CASE \r\n",
                "        WHEN YEAR(v.SZUL_DAT) >= 1985 THEN 'fiatal'\r\n",
                "        WHEN YEAR(v.SZUL_DAT) < 1970 THEN 'idős'\r\n",
                "        ELSE 'középkorú'\r\n",
                "        END"
            ],
            "metadata": {
                "azdata_cell_guid": "579e776e-9762-42b5-882e-3d419c632578",
                "language": "sql"
            },
            "outputs": [
                {
                    "output_type": "display_data",
                    "data": {
                        "text/html": "(3 rows affected)"
                    },
                    "metadata": {}
                },
                {
                    "output_type": "display_data",
                    "data": {
                        "text/html": "Total execution time: 00:00:00.022"
                    },
                    "metadata": {}
                },
                {
                    "output_type": "execute_result",
                    "metadata": {},
                    "execution_count": 16,
                    "data": {
                        "application/vnd.dataresource+json": {
                            "schema": {
                                "fields": [
                                    {
                                        "name": "kor"
                                    },
                                    {
                                        "name": "foglalásszám"
                                    }
                                ]
                            },
                            "data": [
                                {
                                    "kor": "fiatal",
                                    "foglalásszám": "365"
                                },
                                {
                                    "kor": "idős",
                                    "foglalásszám": "96"
                                },
                                {
                                    "kor": "középkorú",
                                    "foglalásszám": "419"
                                }
                            ]
                        },
                        "text/html": [
                            "<table>",
                            "<tr><th>kor</th><th>foglalásszám</th></tr>",
                            "<tr><td>fiatal</td><td>365</td></tr>",
                            "<tr><td>idős</td><td>96</td></tr>",
                            "<tr><td>középkorú</td><td>419</td></tr>",
                            "</table>"
                        ]
                    }
                }
            ],
            "execution_count": 16
        }
    ]
}