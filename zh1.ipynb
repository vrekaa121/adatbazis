{
    "metadata": {
        "kernelspec": {
            "name": "SQL",
            "display_name": "SQL",
            "language": "sql"
        },
        "language_info": {
            "name": "sql",
            "version": ""
        }
    },
    "nbformat_minor": 2,
    "nbformat": 4,
    "cells": [
        {
            "cell_type": "code",
            "source": [
                "--1 feladat\r\n",
                "\r\n",
                "SELECT nev,\r\n",
                "        email,\r\n",
                "FROM vendeg\r\n",
                "WHERE YEAR(szul_dat) >= 1995\r\n",
                "ORDER BY MONTH(szul_dat) "
            ],
            "metadata": {
                "azdata_cell_guid": "6f3dd04a-dcad-4822-9aa3-9cda86d5fa3f",
                "language": "sql",
                "tags": []
            },
            "outputs": [
                {
                    "output_type": "display_data",
                    "data": {
                        "text/html": "(26 rows affected)"
                    },
                    "metadata": {}
                },
                {
                    "output_type": "display_data",
                    "data": {
                        "text/html": "Total execution time: 00:00:00.009"
                    },
                    "metadata": {}
                },
                {
                    "output_type": "execute_result",
                    "metadata": {},
                    "execution_count": 3,
                    "data": {
                        "application/vnd.dataresource+json": {
                            "schema": {
                                "fields": [
                                    {
                                        "name": "nev"
                                    },
                                    {
                                        "name": "email"
                                    },
                                    {
                                        "name": "szul_dat"
                                    }
                                ]
                            },
                            "data": [
                                {
                                    "nev": "Balogh Eszter",
                                    "email": "eszter.balogh@mail.hu",
                                    "szul_dat": "1998-01-31"
                                },
                                {
                                    "nev": "Kispál Márk",
                                    "email": "márk.kispál@mail.hu",
                                    "szul_dat": "1996-01-23"
                                },
                                {
                                    "nev": "Papós Tímea",
                                    "email": "timea@gmail.com",
                                    "szul_dat": "1996-01-08"
                                },
                                {
                                    "nev": "Koza Máté",
                                    "email": "máté.koza@mail.hu",
                                    "szul_dat": "1997-02-28"
                                },
                                {
                                    "nev": "Nagymihály Lajos",
                                    "email": "lajos.nagymihály@mail.hu",
                                    "szul_dat": "1997-02-24"
                                },
                                {
                                    "nev": "Farkas Béla",
                                    "email": "BELAF@gmail.com",
                                    "szul_dat": "1995-02-24"
                                },
                                {
                                    "nev": "Horváth Bálint",
                                    "email": "balint@gmail.com",
                                    "szul_dat": "1996-03-17"
                                },
                                {
                                    "nev": "Erdei András",
                                    "email": "ANDRASE@gmail.com",
                                    "szul_dat": "1997-05-29"
                                },
                                {
                                    "nev": "Szomor Andrea",
                                    "email": "andrea3@gmail.com",
                                    "szul_dat": "1996-05-10"
                                },
                                {
                                    "nev": "Opra Attila",
                                    "email": "ATTILAO@gmail.com",
                                    "szul_dat": "1995-05-08"
                                },
                                {
                                    "nev": "Sarodi Dóra",
                                    "email": "dóra.sarodi@mail.hu",
                                    "szul_dat": "1995-05-18"
                                },
                                {
                                    "nev": "Urbán Viktoria",
                                    "email": "viktoria.urbán@mail.hu",
                                    "szul_dat": "1996-05-03"
                                },
                                {
                                    "nev": "Zatykó Katalin",
                                    "email": "katalin.zatykó@mail.hu",
                                    "szul_dat": "1995-05-01"
                                },
                                {
                                    "nev": "Nagy Sándor",
                                    "email": "sandor4@gmail.com",
                                    "szul_dat": "1997-06-11"
                                },
                                {
                                    "nev": "Hídasi Judit",
                                    "email": "JUDITH@gmail.com",
                                    "szul_dat": "1997-07-12"
                                },
                                {
                                    "nev": "Frank Fruzsina",
                                    "email": "fruzsina4@gmail.com",
                                    "szul_dat": "1996-08-16"
                                },
                                {
                                    "nev": "Kovács Bernadett",
                                    "email": "bernadett.kovács@mail.hu",
                                    "szul_dat": "1996-08-20"
                                },
                                {
                                    "nev": "Vukasinovity Bálint",
                                    "email": "balint2@gmail.com",
                                    "szul_dat": "1997-09-03"
                                },
                                {
                                    "nev": "Horváth Márk",
                                    "email": "márk.horváth@mail.hu",
                                    "szul_dat": "1997-09-23"
                                },
                                {
                                    "nev": "Tóth András",
                                    "email": "andrás.tóth@mail.hu",
                                    "szul_dat": "1997-10-31"
                                },
                                {
                                    "nev": "Komjáti András",
                                    "email": "andras41@gmail.com",
                                    "szul_dat": "1997-10-25"
                                },
                                {
                                    "nev": "Gondos Miklós",
                                    "email": "miklos2@gmail.com",
                                    "szul_dat": "1995-10-07"
                                },
                                {
                                    "nev": "Tatár Nikoletta",
                                    "email": "nikoletta.tatár@mail.hu",
                                    "szul_dat": "1997-10-19"
                                },
                                {
                                    "nev": "Fényes Tamás",
                                    "email": "TAMASF@gmail.com",
                                    "szul_dat": "1997-11-06"
                                },
                                {
                                    "nev": "Baráth Mária",
                                    "email": "mária.baráth@mail.hu",
                                    "szul_dat": "1995-11-19"
                                },
                                {
                                    "nev": "Vizi István",
                                    "email": "istván.vizi@mail.hu",
                                    "szul_dat": "1997-12-01"
                                }
                            ]
                        },
                        "text/html": [
                            "<table>",
                            "<tr><th>nev</th><th>email</th><th>szul_dat</th></tr>",
                            "<tr><td>Balogh Eszter</td><td>eszter.balogh@mail.hu</td><td>1998-01-31</td></tr>",
                            "<tr><td>Kispál Márk</td><td>márk.kispál@mail.hu</td><td>1996-01-23</td></tr>",
                            "<tr><td>Papós Tímea</td><td>timea@gmail.com</td><td>1996-01-08</td></tr>",
                            "<tr><td>Koza Máté</td><td>máté.koza@mail.hu</td><td>1997-02-28</td></tr>",
                            "<tr><td>Nagymihály Lajos</td><td>lajos.nagymihály@mail.hu</td><td>1997-02-24</td></tr>",
                            "<tr><td>Farkas Béla</td><td>BELAF@gmail.com</td><td>1995-02-24</td></tr>",
                            "<tr><td>Horváth Bálint</td><td>balint@gmail.com</td><td>1996-03-17</td></tr>",
                            "<tr><td>Erdei András</td><td>ANDRASE@gmail.com</td><td>1997-05-29</td></tr>",
                            "<tr><td>Szomor Andrea</td><td>andrea3@gmail.com</td><td>1996-05-10</td></tr>",
                            "<tr><td>Opra Attila</td><td>ATTILAO@gmail.com</td><td>1995-05-08</td></tr>",
                            "<tr><td>Sarodi Dóra</td><td>dóra.sarodi@mail.hu</td><td>1995-05-18</td></tr>",
                            "<tr><td>Urbán Viktoria</td><td>viktoria.urbán@mail.hu</td><td>1996-05-03</td></tr>",
                            "<tr><td>Zatykó Katalin</td><td>katalin.zatykó@mail.hu</td><td>1995-05-01</td></tr>",
                            "<tr><td>Nagy Sándor</td><td>sandor4@gmail.com</td><td>1997-06-11</td></tr>",
                            "<tr><td>Hídasi Judit</td><td>JUDITH@gmail.com</td><td>1997-07-12</td></tr>",
                            "<tr><td>Frank Fruzsina</td><td>fruzsina4@gmail.com</td><td>1996-08-16</td></tr>",
                            "<tr><td>Kovács Bernadett</td><td>bernadett.kovács@mail.hu</td><td>1996-08-20</td></tr>",
                            "<tr><td>Vukasinovity Bálint</td><td>balint2@gmail.com</td><td>1997-09-03</td></tr>",
                            "<tr><td>Horváth Márk</td><td>márk.horváth@mail.hu</td><td>1997-09-23</td></tr>",
                            "<tr><td>Tóth András</td><td>andrás.tóth@mail.hu</td><td>1997-10-31</td></tr>",
                            "<tr><td>Komjáti András</td><td>andras41@gmail.com</td><td>1997-10-25</td></tr>",
                            "<tr><td>Gondos Miklós</td><td>miklos2@gmail.com</td><td>1995-10-07</td></tr>",
                            "<tr><td>Tatár Nikoletta</td><td>nikoletta.tatár@mail.hu</td><td>1997-10-19</td></tr>",
                            "<tr><td>Fényes Tamás</td><td>TAMASF@gmail.com</td><td>1997-11-06</td></tr>",
                            "<tr><td>Baráth Mária</td><td>mária.baráth@mail.hu</td><td>1995-11-19</td></tr>",
                            "<tr><td>Vizi István</td><td>istván.vizi@mail.hu</td><td>1997-12-01</td></tr>",
                            "</table>"
                        ]
                    }
                }
            ],
            "execution_count": 3
        },
        {
            "cell_type": "code",
            "source": [
                "--2 feladat\n",
                "\n",
                ""
            ],
            "metadata": {
                "azdata_cell_guid": "17ad63aa-cc91-4638-90bd-eb592b78bb03",
                "language": "sql"
            },
            "outputs": [],
            "execution_count": null
        }
    ]
}