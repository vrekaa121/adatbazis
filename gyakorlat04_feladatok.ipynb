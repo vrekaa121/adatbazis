{
    "metadata": {
        "kernelspec": {
            "name": "SQL",
            "display_name": "SQL",
            "language": "sql"
        },
        "language_info": {
            "name": "sql",
            "version": ""
        }
    },
    "nbformat_minor": 2,
    "nbformat": 4,
    "cells": [
        {
            "cell_type": "markdown",
            "source": [
                "1. <span style=\"background-color: rgb(255, 255, 255); color: rgb(0, 0, 0); font-family: &quot;Open Sans&quot;, sans-serif; font-size: 14.44px;\">Készítsünk listát arról, hogy ügyfelenként (LOGIN), azon belül szállítási módonként hány megrendelés történt!&nbsp;</span> \n",
                "\n",
                "a. A lista tartalmazza a részösszegeket és a végösszeget is!  \n",
                "b. Használjuk a ROLLUP záradékot!"
            ],
            "metadata": {
                "azdata_cell_guid": "363cd270-6577-449b-9c89-d4b7c7972d52"
            },
            "attachments": {}
        },
        {
            "cell_type": "code",
            "source": [
                ""
            ],
            "metadata": {
                "azdata_cell_guid": "6ab9f633-a3b5-48c9-a1dc-4fb8235ae85b",
                "language": "sql"
            },
            "outputs": [],
            "execution_count": null
        },
        {
            "cell_type": "markdown",
            "source": [
                "2. <span style=\"background-color: rgb(255, 255, 255); color: rgb(0, 0, 0); font-family: &quot;Open Sans&quot;, sans-serif; font-size: 14.44px;\">Készítsünk listát a termékek számáról a következő csoportosítási szempontok szerint:<br>kategória azonosító, raktárkód, raktárkód+mennyiségi egység!</span>\n",
                "\n",
                "a. A listát szűrjük azokra a csoportokra, ahol a termékek száma legalább 6!"
            ],
            "metadata": {
                "azdata_cell_guid": "ea75c103-911f-41a3-a32c-3d40fb3e4e4a"
            },
            "attachments": {}
        },
        {
            "cell_type": "code",
            "source": [
                ""
            ],
            "metadata": {
                "azdata_cell_guid": "222b9618-a8e8-42b4-a8e8-d002257122b7",
                "language": "sql"
            },
            "outputs": [],
            "execution_count": null
        },
        {
            "cell_type": "markdown",
            "source": [
                "```\n",
                "3. Készítsünk listát az egyes termékkategóriákban lévő termékek számáról! \n",
                "\n",
                "```\n",
                "\n",
                "a. Elég megjeleníteni a kategóriák azonosítóit és a darabszámokat!   \n",
                "<span style=\"color: var(--vscode-foreground);\">b. A lista megfelelően jelölve tartalmazza a végösszeget is!&nbsp;<br></span> <span style=\"color: var(--vscode-foreground);\">c. Az oszlopokat nevezzük el értelemszerűen!&nbsp;<br></span> <span style=\"color: var(--vscode-foreground);\">d. A listát rendezzük a darabszám szerint növekvő sorrendbe!</span>\n",
                "\n",
                "  \n",
                "\n",
                "![](https://moodle.uni-corvinus.hu/theme/image.php/adaptable/atto_h5p/1709548862/icon)"
            ],
            "metadata": {
                "azdata_cell_guid": "d7876bb9-76d0-4d07-baed-3cb17b2f96c3"
            },
            "attachments": {}
        },
        {
            "cell_type": "code",
            "source": [
                ""
            ],
            "metadata": {
                "azdata_cell_guid": "56ec19ce-e249-4551-b2a8-f17569765acc",
                "language": "sql"
            },
            "outputs": [],
            "execution_count": null
        },
        {
            "cell_type": "markdown",
            "source": [
                "4. <span style=\"background-color: rgb(255, 255, 255); color: rgb(0, 0, 0); font-family: &quot;Open Sans&quot;, sans-serif; font-size: 14.44px;\">Készítsünk listát az ügyfelek számáról születési év szerint, azon belül nem szerinti bontásban!&nbsp;</span> \n",
                "\n",
                "a. A lista megfelelően jelölve tartalmazza a részösszegeket és a végösszeget is!  \n",
                "b. Az oszlopoknak adjunk nevet értelemszerűen!"
            ],
            "metadata": {
                "azdata_cell_guid": "8e7fef82-8022-49a0-8255-fc2846c2134b"
            },
            "attachments": {}
        },
        {
            "cell_type": "code",
            "source": [
                ""
            ],
            "metadata": {
                "azdata_cell_guid": "36f7b396-4a1f-45e5-8720-2302537c91bc",
                "language": "sql"
            },
            "outputs": [],
            "execution_count": null
        },
        {
            "cell_type": "markdown",
            "source": [
                "5. <span style=\"background-color: rgb(255, 255, 255); color: rgb(0, 0, 0); font-family: &quot;Open Sans&quot;, sans-serif; font-size: 14.44px;\">Készítsünk listát a termékek számáról a felvitel hónapja, azon belül napja szerint csoportosítva.&nbsp;</span> \n",
                "\n",
                "a. A lista csak a részösszegeket és a végösszeget tartalmazza!  \n",
                "b. Az oszlopoknak adjunk megfelelő nevet!  \n",
                "c. Ötlet: HAVING + GROUPING\\_ID fv együttes használata"
            ],
            "metadata": {
                "azdata_cell_guid": "84239ca2-6b5e-49f5-9860-d44c11d6de32"
            },
            "attachments": {}
        },
        {
            "cell_type": "code",
            "source": [
                ""
            ],
            "metadata": {
                "azdata_cell_guid": "06d9a62b-9430-424b-a135-d80e675f0eb3",
                "language": "sql"
            },
            "outputs": [],
            "execution_count": null
        }
    ]
}